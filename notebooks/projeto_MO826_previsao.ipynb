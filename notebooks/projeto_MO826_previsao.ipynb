{
  "nbformat": 4,
  "nbformat_minor": 0,
  "metadata": {
    "colab": {
      "name": "projeto-MO826-previsao.ipynb",
      "provenance": [],
      "collapsed_sections": [
        "cjTxRkycY3fh",
        "moNlk01nlnOx",
        "qhPOzjeHKDTh",
        "-s7MV72lOxdx",
        "H-0pWXkGOYUI",
        "cJeqXvfgRm-o"
      ],
      "toc_visible": true
    },
    "kernelspec": {
      "name": "python3",
      "display_name": "Python 3"
    },
    "language_info": {
      "name": "python"
    }
  },
  "cells": [
    {
      "cell_type": "markdown",
      "metadata": {
        "id": "kxO1SCItuyJf"
      },
      "source": [
        "# Configuração"
      ]
    },
    {
      "cell_type": "code",
      "metadata": {
        "colab": {
          "base_uri": "https://localhost:8080/",
          "height": 1000
        },
        "id": "zmmyUm_eurLh",
        "outputId": "aa148141-0977-4602-9a0a-c3a3713099cb"
      },
      "source": [
        "!pip uninstall numpy\n",
        "!pip install numpy\n",
        "\n",
        "!pip install pmdarima"
      ],
      "execution_count": null,
      "outputs": [
        {
          "output_type": "stream",
          "text": [
            "Uninstalling numpy-1.19.5:\n",
            "  Would remove:\n",
            "    /usr/bin/f2py\n",
            "    /usr/local/bin/f2py\n",
            "    /usr/local/bin/f2py3\n",
            "    /usr/local/bin/f2py3.7\n",
            "    /usr/local/lib/python3.7/dist-packages/numpy-1.19.5.dist-info/*\n",
            "    /usr/local/lib/python3.7/dist-packages/numpy.libs/libgfortran-2e0d59d6.so.5.0.0\n",
            "    /usr/local/lib/python3.7/dist-packages/numpy.libs/libopenblasp-r0-09e95953.3.13.so\n",
            "    /usr/local/lib/python3.7/dist-packages/numpy.libs/libquadmath-2d0c479f.so.0.0.0\n",
            "    /usr/local/lib/python3.7/dist-packages/numpy.libs/libz-eb09ad1d.so.1.2.3\n",
            "    /usr/local/lib/python3.7/dist-packages/numpy/*\n",
            "Proceed (y/n)? y\n",
            "  Successfully uninstalled numpy-1.19.5\n",
            "Collecting numpy\n",
            "\u001b[?25l  Downloading https://files.pythonhosted.org/packages/a5/42/560d269f604d3e186a57c21a363e77e199358d054884e61b73e405dd217c/numpy-1.20.3-cp37-cp37m-manylinux_2_12_x86_64.manylinux2010_x86_64.whl (15.3MB)\n",
            "\u001b[K     |████████████████████████████████| 15.3MB 187kB/s \n",
            "\u001b[31mERROR: tensorflow 2.5.0 has requirement numpy~=1.19.2, but you'll have numpy 1.20.3 which is incompatible.\u001b[0m\n",
            "\u001b[31mERROR: datascience 0.10.6 has requirement folium==0.2.1, but you'll have folium 0.8.3 which is incompatible.\u001b[0m\n",
            "\u001b[31mERROR: albumentations 0.1.12 has requirement imgaug<0.2.7,>=0.2.5, but you'll have imgaug 0.2.9 which is incompatible.\u001b[0m\n",
            "\u001b[?25hInstalling collected packages: numpy\n",
            "Successfully installed numpy-1.20.3\n"
          ],
          "name": "stdout"
        },
        {
          "output_type": "display_data",
          "data": {
            "application/vnd.colab-display-data+json": {
              "pip_warning": {
                "packages": [
                  "numpy"
                ]
              }
            }
          },
          "metadata": {
            "tags": []
          }
        },
        {
          "output_type": "stream",
          "text": [
            "Collecting pmdarima\n",
            "\u001b[?25l  Downloading https://files.pythonhosted.org/packages/f4/c2/2a94bce6bba1deac3c0b16dbb14f28de0b9035e3211919cae8448455aa65/pmdarima-1.8.2-cp37-cp37m-manylinux1_x86_64.whl (1.5MB)\n",
            "\u001b[K     |████████████████████████████████| 1.5MB 25.2MB/s \n",
            "\u001b[?25hRequirement already satisfied: Cython!=0.29.18,>=0.29 in /usr/local/lib/python3.7/dist-packages (from pmdarima) (0.29.23)\n",
            "Requirement already satisfied: joblib>=0.11 in /usr/local/lib/python3.7/dist-packages (from pmdarima) (1.0.1)\n",
            "Collecting statsmodels!=0.12.0,>=0.11\n",
            "\u001b[?25l  Downloading https://files.pythonhosted.org/packages/da/69/8eef30a6237c54f3c0b524140e2975f4b1eea3489b45eb3339574fc8acee/statsmodels-0.12.2-cp37-cp37m-manylinux1_x86_64.whl (9.5MB)\n",
            "\u001b[K     |████████████████████████████████| 9.5MB 38.8MB/s \n",
            "\u001b[?25hRequirement already satisfied: scipy>=1.3.2 in /usr/local/lib/python3.7/dist-packages (from pmdarima) (1.4.1)\n",
            "Requirement already satisfied: setuptools!=50.0.0,>=38.6.0 in /usr/local/lib/python3.7/dist-packages (from pmdarima) (57.0.0)\n",
            "Requirement already satisfied: urllib3 in /usr/local/lib/python3.7/dist-packages (from pmdarima) (1.24.3)\n",
            "Collecting numpy~=1.19.0\n",
            "\u001b[?25l  Downloading https://files.pythonhosted.org/packages/08/d6/a6aaa29fea945bc6c61d11f6e0697b325ff7446de5ffd62c2fa02f627048/numpy-1.19.5-cp37-cp37m-manylinux2010_x86_64.whl (14.8MB)\n",
            "\u001b[K     |████████████████████████████████| 14.8MB 157kB/s \n",
            "\u001b[?25hRequirement already satisfied: scikit-learn>=0.22 in /usr/local/lib/python3.7/dist-packages (from pmdarima) (0.22.2.post1)\n",
            "Requirement already satisfied: pandas>=0.19 in /usr/local/lib/python3.7/dist-packages (from pmdarima) (1.1.5)\n",
            "Requirement already satisfied: patsy>=0.5 in /usr/local/lib/python3.7/dist-packages (from statsmodels!=0.12.0,>=0.11->pmdarima) (0.5.1)\n",
            "Requirement already satisfied: python-dateutil>=2.7.3 in /usr/local/lib/python3.7/dist-packages (from pandas>=0.19->pmdarima) (2.8.1)\n",
            "Requirement already satisfied: pytz>=2017.2 in /usr/local/lib/python3.7/dist-packages (from pandas>=0.19->pmdarima) (2018.9)\n",
            "Requirement already satisfied: six in /usr/local/lib/python3.7/dist-packages (from patsy>=0.5->statsmodels!=0.12.0,>=0.11->pmdarima) (1.15.0)\n",
            "\u001b[31mERROR: datascience 0.10.6 has requirement folium==0.2.1, but you'll have folium 0.8.3 which is incompatible.\u001b[0m\n",
            "\u001b[31mERROR: albumentations 0.1.12 has requirement imgaug<0.2.7,>=0.2.5, but you'll have imgaug 0.2.9 which is incompatible.\u001b[0m\n",
            "Installing collected packages: numpy, statsmodels, pmdarima\n",
            "  Found existing installation: numpy 1.20.3\n",
            "    Uninstalling numpy-1.20.3:\n",
            "      Successfully uninstalled numpy-1.20.3\n",
            "  Found existing installation: statsmodels 0.10.2\n",
            "    Uninstalling statsmodels-0.10.2:\n",
            "      Successfully uninstalled statsmodels-0.10.2\n",
            "Successfully installed numpy-1.19.5 pmdarima-1.8.2 statsmodels-0.12.2\n"
          ],
          "name": "stdout"
        },
        {
          "output_type": "display_data",
          "data": {
            "application/vnd.colab-display-data+json": {
              "pip_warning": {
                "packages": [
                  "numpy"
                ]
              }
            }
          },
          "metadata": {
            "tags": []
          }
        }
      ]
    },
    {
      "cell_type": "code",
      "metadata": {
        "id": "MOYEbQLwvCfC"
      },
      "source": [
        "#Import modules\n",
        "%matplotlib inline\n",
        "\n",
        "import numpy as np\n",
        "import pandas as pd\n",
        "import matplotlib.pyplot as plt\n",
        "\n",
        "import math\n",
        "from random import shuffle, choice\n",
        "import datetime\n",
        "\n",
        "import matplotlib\n",
        "import statsmodels.api as sma\n",
        "import statsmodels.graphics as smg\n",
        "import statsmodels.tsa as smt\n",
        "import statsmodels.tools as smtools\n",
        "\n",
        "from pmdarima.arima import auto_arima"
      ],
      "execution_count": null,
      "outputs": []
    },
    {
      "cell_type": "code",
      "metadata": {
        "colab": {
          "base_uri": "https://localhost:8080/"
        },
        "id": "w81GLyEPvPLx",
        "outputId": "5f0e2b8d-c3ff-467b-875b-66f337c33cbe"
      },
      "source": [
        "!git clone https://github.com/eitiyamamoto/MO826-projeto.git\n",
        "%cd MO826-projeto\n",
        "!ls\n",
        "!git pull origin master"
      ],
      "execution_count": null,
      "outputs": [
        {
          "output_type": "stream",
          "text": [
            "Cloning into 'MO826-projeto'...\n",
            "remote: Enumerating objects: 160, done.\u001b[K\n",
            "remote: Counting objects: 100% (160/160), done.\u001b[K\n",
            "remote: Compressing objects: 100% (133/133), done.\u001b[K\n",
            "remote: Total 160 (delta 49), reused 119 (delta 20), pack-reused 0\u001b[K\n",
            "Receiving objects: 100% (160/160), 56.24 MiB | 20.78 MiB/s, done.\n",
            "Resolving deltas: 100% (49/49), done.\n",
            "Checking out files: 100% (78/78), done.\n",
            "/content/MO826-projeto\n",
            "CONTRIBUTING.rst  image        mo826_projeto  reports\t\t    tests\n",
            "data\t\t  LICENSE      notebooks      requirements_dev.txt  tox.ini\n",
            "docs\t\t  Makefile     README.md      setup.cfg\n",
            "HISTORY.rst\t  MANIFEST.in  README.rst     setup.py\n",
            "From https://github.com/eitiyamamoto/MO826-projeto\n",
            " * branch            master     -> FETCH_HEAD\n",
            "Already up to date.\n"
          ],
          "name": "stdout"
        }
      ]
    },
    {
      "cell_type": "code",
      "metadata": {
        "id": "FadZP8x_vUYG"
      },
      "source": [
        "isolamento_sao_paulo_data = pd.read_csv('data/raw/20210420_dados_covid_municipios_sp_utf_8.csv', engine='python', sep=';')"
      ],
      "execution_count": null,
      "outputs": []
    },
    {
      "cell_type": "code",
      "metadata": {
        "colab": {
          "base_uri": "https://localhost:8080/"
        },
        "id": "XUcnkK5ipeg2",
        "outputId": "92801c8d-08c0-4f75-cfa4-3de4b57e0877"
      },
      "source": [
        "isolamento_sao_paulo_data.info()"
      ],
      "execution_count": null,
      "outputs": [
        {
          "output_type": "stream",
          "text": [
            "<class 'pandas.core.frame.DataFrame'>\n",
            "RangeIndex: 271966 entries, 0 to 271965\n",
            "Data columns (total 26 columns):\n",
            " #   Column         Non-Null Count   Dtype  \n",
            "---  ------         --------------   -----  \n",
            " 0   nome_munic     271966 non-null  object \n",
            " 1   codigo_ibge    271966 non-null  int64  \n",
            " 2   dia            271966 non-null  int64  \n",
            " 3   mes            271966 non-null  int64  \n",
            " 4   datahora       271966 non-null  object \n",
            " 5   casos          271966 non-null  int64  \n",
            " 6   casos_novos    271966 non-null  int64  \n",
            " 7   casos_pc       271966 non-null  object \n",
            " 8   casos_mm7d     271966 non-null  object \n",
            " 9   obitos         271966 non-null  int64  \n",
            " 10  obitos_novos   271966 non-null  int64  \n",
            " 11  obitos_pc      271966 non-null  object \n",
            " 12  obitos_mm7d    271966 non-null  object \n",
            " 13  letalidade     271966 non-null  object \n",
            " 14  nome_ra        271545 non-null  object \n",
            " 15  cod_ra         271966 non-null  int64  \n",
            " 16  nome_drs       271545 non-null  object \n",
            " 17  cod_drs        271966 non-null  int64  \n",
            " 18  pop            271966 non-null  int64  \n",
            " 19  pop_60         271966 non-null  int64  \n",
            " 20  area           271966 non-null  int64  \n",
            " 21  map_leg        271545 non-null  object \n",
            " 22  map_leg_s      271545 non-null  float64\n",
            " 23  latitude       271966 non-null  object \n",
            " 24  longitude      271966 non-null  object \n",
            " 25  semana_epidem  271966 non-null  int64  \n",
            "dtypes: float64(1), int64(13), object(12)\n",
            "memory usage: 53.9+ MB\n"
          ],
          "name": "stdout"
        }
      ]
    },
    {
      "cell_type": "code",
      "metadata": {
        "colab": {
          "base_uri": "https://localhost:8080/",
          "height": 668
        },
        "id": "ZhL-s-xnvtc-",
        "outputId": "660a02c5-289c-490d-fae1-a816a4c48c86"
      },
      "source": [
        "isolamento_sao_paulo_data.head(10)"
      ],
      "execution_count": null,
      "outputs": [
        {
          "output_type": "execute_result",
          "data": {
            "text/html": [
              "<div>\n",
              "<style scoped>\n",
              "    .dataframe tbody tr th:only-of-type {\n",
              "        vertical-align: middle;\n",
              "    }\n",
              "\n",
              "    .dataframe tbody tr th {\n",
              "        vertical-align: top;\n",
              "    }\n",
              "\n",
              "    .dataframe thead th {\n",
              "        text-align: right;\n",
              "    }\n",
              "</style>\n",
              "<table border=\"1\" class=\"dataframe\">\n",
              "  <thead>\n",
              "    <tr style=\"text-align: right;\">\n",
              "      <th></th>\n",
              "      <th>nome_munic</th>\n",
              "      <th>codigo_ibge</th>\n",
              "      <th>dia</th>\n",
              "      <th>mes</th>\n",
              "      <th>datahora</th>\n",
              "      <th>casos</th>\n",
              "      <th>casos_novos</th>\n",
              "      <th>casos_pc</th>\n",
              "      <th>casos_mm7d</th>\n",
              "      <th>obitos</th>\n",
              "      <th>obitos_novos</th>\n",
              "      <th>obitos_pc</th>\n",
              "      <th>obitos_mm7d</th>\n",
              "      <th>letalidade</th>\n",
              "      <th>nome_ra</th>\n",
              "      <th>cod_ra</th>\n",
              "      <th>nome_drs</th>\n",
              "      <th>cod_drs</th>\n",
              "      <th>pop</th>\n",
              "      <th>pop_60</th>\n",
              "      <th>area</th>\n",
              "      <th>map_leg</th>\n",
              "      <th>map_leg_s</th>\n",
              "      <th>latitude</th>\n",
              "      <th>longitude</th>\n",
              "      <th>semana_epidem</th>\n",
              "    </tr>\n",
              "  </thead>\n",
              "  <tbody>\n",
              "    <tr>\n",
              "      <th>0</th>\n",
              "      <td>Adamantina</td>\n",
              "      <td>3500105</td>\n",
              "      <td>25</td>\n",
              "      <td>2</td>\n",
              "      <td>25/02/2020</td>\n",
              "      <td>0</td>\n",
              "      <td>0</td>\n",
              "      <td>0,00E+00</td>\n",
              "      <td>0</td>\n",
              "      <td>0</td>\n",
              "      <td>0</td>\n",
              "      <td>0,00E+00</td>\n",
              "      <td>0</td>\n",
              "      <td>0</td>\n",
              "      <td>RA de Presidente Prudente</td>\n",
              "      <td>9</td>\n",
              "      <td>Marília</td>\n",
              "      <td>5</td>\n",
              "      <td>33894</td>\n",
              "      <td>7398</td>\n",
              "      <td>41199</td>\n",
              "      <td>0</td>\n",
              "      <td>8.0</td>\n",
              "      <td>-21,682</td>\n",
              "      <td>-51,0737</td>\n",
              "      <td>9</td>\n",
              "    </tr>\n",
              "    <tr>\n",
              "      <th>1</th>\n",
              "      <td>Adolfo</td>\n",
              "      <td>3500204</td>\n",
              "      <td>25</td>\n",
              "      <td>2</td>\n",
              "      <td>25/02/2020</td>\n",
              "      <td>0</td>\n",
              "      <td>0</td>\n",
              "      <td>0,00E+00</td>\n",
              "      <td>0</td>\n",
              "      <td>0</td>\n",
              "      <td>0</td>\n",
              "      <td>0,00E+00</td>\n",
              "      <td>0</td>\n",
              "      <td>0</td>\n",
              "      <td>RA de São José do Rio Preto</td>\n",
              "      <td>14</td>\n",
              "      <td>São José do Rio Preto</td>\n",
              "      <td>15</td>\n",
              "      <td>3447</td>\n",
              "      <td>761</td>\n",
              "      <td>21106</td>\n",
              "      <td>0</td>\n",
              "      <td>8.0</td>\n",
              "      <td>-21,2325</td>\n",
              "      <td>-49,6451</td>\n",
              "      <td>9</td>\n",
              "    </tr>\n",
              "    <tr>\n",
              "      <th>2</th>\n",
              "      <td>Aguaí</td>\n",
              "      <td>3500303</td>\n",
              "      <td>25</td>\n",
              "      <td>2</td>\n",
              "      <td>25/02/2020</td>\n",
              "      <td>0</td>\n",
              "      <td>0</td>\n",
              "      <td>0,00E+00</td>\n",
              "      <td>0</td>\n",
              "      <td>0</td>\n",
              "      <td>0</td>\n",
              "      <td>0,00E+00</td>\n",
              "      <td>0</td>\n",
              "      <td>0</td>\n",
              "      <td>RA de Campinas</td>\n",
              "      <td>4</td>\n",
              "      <td>São João da Boa Vista</td>\n",
              "      <td>14</td>\n",
              "      <td>35608</td>\n",
              "      <td>5245</td>\n",
              "      <td>47455</td>\n",
              "      <td>0</td>\n",
              "      <td>8.0</td>\n",
              "      <td>-22,0572</td>\n",
              "      <td>-46,9735</td>\n",
              "      <td>9</td>\n",
              "    </tr>\n",
              "    <tr>\n",
              "      <th>3</th>\n",
              "      <td>Águas da Prata</td>\n",
              "      <td>3500402</td>\n",
              "      <td>25</td>\n",
              "      <td>2</td>\n",
              "      <td>25/02/2020</td>\n",
              "      <td>0</td>\n",
              "      <td>0</td>\n",
              "      <td>0,00E+00</td>\n",
              "      <td>0</td>\n",
              "      <td>0</td>\n",
              "      <td>0</td>\n",
              "      <td>0,00E+00</td>\n",
              "      <td>0</td>\n",
              "      <td>0</td>\n",
              "      <td>RA de Campinas</td>\n",
              "      <td>4</td>\n",
              "      <td>São João da Boa Vista</td>\n",
              "      <td>14</td>\n",
              "      <td>7797</td>\n",
              "      <td>1729</td>\n",
              "      <td>14267</td>\n",
              "      <td>0</td>\n",
              "      <td>8.0</td>\n",
              "      <td>-21,9319</td>\n",
              "      <td>-46,7176</td>\n",
              "      <td>9</td>\n",
              "    </tr>\n",
              "    <tr>\n",
              "      <th>4</th>\n",
              "      <td>Águas de Lindóia</td>\n",
              "      <td>3500501</td>\n",
              "      <td>25</td>\n",
              "      <td>2</td>\n",
              "      <td>25/02/2020</td>\n",
              "      <td>0</td>\n",
              "      <td>0</td>\n",
              "      <td>0,00E+00</td>\n",
              "      <td>0</td>\n",
              "      <td>0</td>\n",
              "      <td>0</td>\n",
              "      <td>0,00E+00</td>\n",
              "      <td>0</td>\n",
              "      <td>0</td>\n",
              "      <td>RA de Campinas</td>\n",
              "      <td>4</td>\n",
              "      <td>Campinas</td>\n",
              "      <td>3</td>\n",
              "      <td>18374</td>\n",
              "      <td>3275</td>\n",
              "      <td>6013</td>\n",
              "      <td>0</td>\n",
              "      <td>8.0</td>\n",
              "      <td>-22,4733</td>\n",
              "      <td>-46,6314</td>\n",
              "      <td>9</td>\n",
              "    </tr>\n",
              "    <tr>\n",
              "      <th>5</th>\n",
              "      <td>Águas de Santa Bárbara</td>\n",
              "      <td>3500550</td>\n",
              "      <td>25</td>\n",
              "      <td>2</td>\n",
              "      <td>25/02/2020</td>\n",
              "      <td>0</td>\n",
              "      <td>0</td>\n",
              "      <td>0,00E+00</td>\n",
              "      <td>0</td>\n",
              "      <td>0</td>\n",
              "      <td>0</td>\n",
              "      <td>0,00E+00</td>\n",
              "      <td>0</td>\n",
              "      <td>0</td>\n",
              "      <td>RA de Sorocaba</td>\n",
              "      <td>13</td>\n",
              "      <td>Bauru</td>\n",
              "      <td>12</td>\n",
              "      <td>5931</td>\n",
              "      <td>1106</td>\n",
              "      <td>40446</td>\n",
              "      <td>0</td>\n",
              "      <td>8.0</td>\n",
              "      <td>-22,8812</td>\n",
              "      <td>-49,2421</td>\n",
              "      <td>9</td>\n",
              "    </tr>\n",
              "    <tr>\n",
              "      <th>6</th>\n",
              "      <td>Águas de São Pedro</td>\n",
              "      <td>3500600</td>\n",
              "      <td>25</td>\n",
              "      <td>2</td>\n",
              "      <td>25/02/2020</td>\n",
              "      <td>0</td>\n",
              "      <td>0</td>\n",
              "      <td>0,00E+00</td>\n",
              "      <td>0</td>\n",
              "      <td>0</td>\n",
              "      <td>0</td>\n",
              "      <td>0,00E+00</td>\n",
              "      <td>0</td>\n",
              "      <td>0</td>\n",
              "      <td>RA de Campinas</td>\n",
              "      <td>4</td>\n",
              "      <td>Piracicaba</td>\n",
              "      <td>11</td>\n",
              "      <td>3122</td>\n",
              "      <td>764</td>\n",
              "      <td>361</td>\n",
              "      <td>0</td>\n",
              "      <td>8.0</td>\n",
              "      <td>-22,5977</td>\n",
              "      <td>-47,8734</td>\n",
              "      <td>9</td>\n",
              "    </tr>\n",
              "    <tr>\n",
              "      <th>7</th>\n",
              "      <td>Agudos</td>\n",
              "      <td>3500709</td>\n",
              "      <td>25</td>\n",
              "      <td>2</td>\n",
              "      <td>25/02/2020</td>\n",
              "      <td>0</td>\n",
              "      <td>0</td>\n",
              "      <td>0,00E+00</td>\n",
              "      <td>0</td>\n",
              "      <td>0</td>\n",
              "      <td>0</td>\n",
              "      <td>0,00E+00</td>\n",
              "      <td>0</td>\n",
              "      <td>0</td>\n",
              "      <td>RA de Bauru</td>\n",
              "      <td>3</td>\n",
              "      <td>Bauru</td>\n",
              "      <td>12</td>\n",
              "      <td>36134</td>\n",
              "      <td>5524</td>\n",
              "      <td>96671</td>\n",
              "      <td>0</td>\n",
              "      <td>8.0</td>\n",
              "      <td>-22,4694</td>\n",
              "      <td>-48,9863</td>\n",
              "      <td>9</td>\n",
              "    </tr>\n",
              "    <tr>\n",
              "      <th>8</th>\n",
              "      <td>Alambari</td>\n",
              "      <td>3500758</td>\n",
              "      <td>25</td>\n",
              "      <td>2</td>\n",
              "      <td>25/02/2020</td>\n",
              "      <td>0</td>\n",
              "      <td>0</td>\n",
              "      <td>0,00E+00</td>\n",
              "      <td>0</td>\n",
              "      <td>0</td>\n",
              "      <td>0</td>\n",
              "      <td>0,00E+00</td>\n",
              "      <td>0</td>\n",
              "      <td>0</td>\n",
              "      <td>RA de Sorocaba</td>\n",
              "      <td>13</td>\n",
              "      <td>Sorocaba</td>\n",
              "      <td>6</td>\n",
              "      <td>5779</td>\n",
              "      <td>830</td>\n",
              "      <td>1596</td>\n",
              "      <td>0</td>\n",
              "      <td>8.0</td>\n",
              "      <td>-23,5503</td>\n",
              "      <td>-47,898</td>\n",
              "      <td>9</td>\n",
              "    </tr>\n",
              "    <tr>\n",
              "      <th>9</th>\n",
              "      <td>Alfredo Marcondes</td>\n",
              "      <td>3500808</td>\n",
              "      <td>25</td>\n",
              "      <td>2</td>\n",
              "      <td>25/02/2020</td>\n",
              "      <td>0</td>\n",
              "      <td>0</td>\n",
              "      <td>0,00E+00</td>\n",
              "      <td>0</td>\n",
              "      <td>0</td>\n",
              "      <td>0</td>\n",
              "      <td>0,00E+00</td>\n",
              "      <td>0</td>\n",
              "      <td>0</td>\n",
              "      <td>RA de Presidente Prudente</td>\n",
              "      <td>9</td>\n",
              "      <td>Presidente Prudente</td>\n",
              "      <td>2</td>\n",
              "      <td>3927</td>\n",
              "      <td>907</td>\n",
              "      <td>11892</td>\n",
              "      <td>0</td>\n",
              "      <td>8.0</td>\n",
              "      <td>-21,9527</td>\n",
              "      <td>-51,414</td>\n",
              "      <td>9</td>\n",
              "    </tr>\n",
              "  </tbody>\n",
              "</table>\n",
              "</div>"
            ],
            "text/plain": [
              "               nome_munic  codigo_ibge  dia  ...  latitude longitude  semana_epidem\n",
              "0              Adamantina      3500105   25  ...   -21,682  -51,0737              9\n",
              "1                  Adolfo      3500204   25  ...  -21,2325  -49,6451              9\n",
              "2                   Aguaí      3500303   25  ...  -22,0572  -46,9735              9\n",
              "3          Águas da Prata      3500402   25  ...  -21,9319  -46,7176              9\n",
              "4        Águas de Lindóia      3500501   25  ...  -22,4733  -46,6314              9\n",
              "5  Águas de Santa Bárbara      3500550   25  ...  -22,8812  -49,2421              9\n",
              "6      Águas de São Pedro      3500600   25  ...  -22,5977  -47,8734              9\n",
              "7                  Agudos      3500709   25  ...  -22,4694  -48,9863              9\n",
              "8                Alambari      3500758   25  ...  -23,5503   -47,898              9\n",
              "9       Alfredo Marcondes      3500808   25  ...  -21,9527   -51,414              9\n",
              "\n",
              "[10 rows x 26 columns]"
            ]
          },
          "metadata": {
            "tags": []
          },
          "execution_count": 5
        }
      ]
    },
    {
      "cell_type": "code",
      "metadata": {
        "colab": {
          "base_uri": "https://localhost:8080/",
          "height": 549
        },
        "id": "zS6K-DzzvyKj",
        "outputId": "f4963a23-e53d-4e2d-c6ba-bc5e827833ce"
      },
      "source": [
        "booleans = isolamento_sao_paulo_data['codigo_ibge'] == 3509502\n",
        "filter_campinas = pd.Series(booleans)\n",
        "campinas_isolamento = isolamento_sao_paulo_data[filter_campinas]\n",
        "campinas_isolamento.head(10)"
      ],
      "execution_count": null,
      "outputs": [
        {
          "output_type": "execute_result",
          "data": {
            "text/html": [
              "<div>\n",
              "<style scoped>\n",
              "    .dataframe tbody tr th:only-of-type {\n",
              "        vertical-align: middle;\n",
              "    }\n",
              "\n",
              "    .dataframe tbody tr th {\n",
              "        vertical-align: top;\n",
              "    }\n",
              "\n",
              "    .dataframe thead th {\n",
              "        text-align: right;\n",
              "    }\n",
              "</style>\n",
              "<table border=\"1\" class=\"dataframe\">\n",
              "  <thead>\n",
              "    <tr style=\"text-align: right;\">\n",
              "      <th></th>\n",
              "      <th>nome_munic</th>\n",
              "      <th>codigo_ibge</th>\n",
              "      <th>dia</th>\n",
              "      <th>mes</th>\n",
              "      <th>datahora</th>\n",
              "      <th>casos</th>\n",
              "      <th>casos_novos</th>\n",
              "      <th>casos_pc</th>\n",
              "      <th>casos_mm7d</th>\n",
              "      <th>obitos</th>\n",
              "      <th>obitos_novos</th>\n",
              "      <th>obitos_pc</th>\n",
              "      <th>obitos_mm7d</th>\n",
              "      <th>letalidade</th>\n",
              "      <th>nome_ra</th>\n",
              "      <th>cod_ra</th>\n",
              "      <th>nome_drs</th>\n",
              "      <th>cod_drs</th>\n",
              "      <th>pop</th>\n",
              "      <th>pop_60</th>\n",
              "      <th>area</th>\n",
              "      <th>map_leg</th>\n",
              "      <th>map_leg_s</th>\n",
              "      <th>latitude</th>\n",
              "      <th>longitude</th>\n",
              "      <th>semana_epidem</th>\n",
              "    </tr>\n",
              "  </thead>\n",
              "  <tbody>\n",
              "    <tr>\n",
              "      <th>108</th>\n",
              "      <td>Campinas</td>\n",
              "      <td>3509502</td>\n",
              "      <td>25</td>\n",
              "      <td>2</td>\n",
              "      <td>25/02/2020</td>\n",
              "      <td>0</td>\n",
              "      <td>0</td>\n",
              "      <td>0,00E+00</td>\n",
              "      <td>0</td>\n",
              "      <td>0</td>\n",
              "      <td>0</td>\n",
              "      <td>0,00E+00</td>\n",
              "      <td>0</td>\n",
              "      <td>0</td>\n",
              "      <td>RA de Campinas</td>\n",
              "      <td>4</td>\n",
              "      <td>Campinas</td>\n",
              "      <td>3</td>\n",
              "      <td>1175501</td>\n",
              "      <td>192796</td>\n",
              "      <td>79457</td>\n",
              "      <td>0</td>\n",
              "      <td>8.0</td>\n",
              "      <td>-22,9053</td>\n",
              "      <td>-47,0659</td>\n",
              "      <td>9</td>\n",
              "    </tr>\n",
              "    <tr>\n",
              "      <th>753</th>\n",
              "      <td>Campinas</td>\n",
              "      <td>3509502</td>\n",
              "      <td>26</td>\n",
              "      <td>2</td>\n",
              "      <td>26/02/2020</td>\n",
              "      <td>0</td>\n",
              "      <td>0</td>\n",
              "      <td>0,00E+00</td>\n",
              "      <td>0</td>\n",
              "      <td>0</td>\n",
              "      <td>0</td>\n",
              "      <td>0,00E+00</td>\n",
              "      <td>0</td>\n",
              "      <td>0</td>\n",
              "      <td>RA de Campinas</td>\n",
              "      <td>4</td>\n",
              "      <td>Campinas</td>\n",
              "      <td>3</td>\n",
              "      <td>1175501</td>\n",
              "      <td>192796</td>\n",
              "      <td>79457</td>\n",
              "      <td>0</td>\n",
              "      <td>8.0</td>\n",
              "      <td>-22,9053</td>\n",
              "      <td>-47,0659</td>\n",
              "      <td>9</td>\n",
              "    </tr>\n",
              "    <tr>\n",
              "      <th>1398</th>\n",
              "      <td>Campinas</td>\n",
              "      <td>3509502</td>\n",
              "      <td>27</td>\n",
              "      <td>2</td>\n",
              "      <td>27/02/2020</td>\n",
              "      <td>0</td>\n",
              "      <td>0</td>\n",
              "      <td>0,00E+00</td>\n",
              "      <td>0</td>\n",
              "      <td>0</td>\n",
              "      <td>0</td>\n",
              "      <td>0,00E+00</td>\n",
              "      <td>0</td>\n",
              "      <td>0</td>\n",
              "      <td>RA de Campinas</td>\n",
              "      <td>4</td>\n",
              "      <td>Campinas</td>\n",
              "      <td>3</td>\n",
              "      <td>1175501</td>\n",
              "      <td>192796</td>\n",
              "      <td>79457</td>\n",
              "      <td>0</td>\n",
              "      <td>8.0</td>\n",
              "      <td>-22,9053</td>\n",
              "      <td>-47,0659</td>\n",
              "      <td>9</td>\n",
              "    </tr>\n",
              "    <tr>\n",
              "      <th>2043</th>\n",
              "      <td>Campinas</td>\n",
              "      <td>3509502</td>\n",
              "      <td>28</td>\n",
              "      <td>2</td>\n",
              "      <td>28/02/2020</td>\n",
              "      <td>0</td>\n",
              "      <td>0</td>\n",
              "      <td>0,00E+00</td>\n",
              "      <td>0</td>\n",
              "      <td>0</td>\n",
              "      <td>0</td>\n",
              "      <td>0,00E+00</td>\n",
              "      <td>0</td>\n",
              "      <td>0</td>\n",
              "      <td>RA de Campinas</td>\n",
              "      <td>4</td>\n",
              "      <td>Campinas</td>\n",
              "      <td>3</td>\n",
              "      <td>1175501</td>\n",
              "      <td>192796</td>\n",
              "      <td>79457</td>\n",
              "      <td>0</td>\n",
              "      <td>8.0</td>\n",
              "      <td>-22,9053</td>\n",
              "      <td>-47,0659</td>\n",
              "      <td>9</td>\n",
              "    </tr>\n",
              "    <tr>\n",
              "      <th>2688</th>\n",
              "      <td>Campinas</td>\n",
              "      <td>3509502</td>\n",
              "      <td>29</td>\n",
              "      <td>2</td>\n",
              "      <td>29/02/2020</td>\n",
              "      <td>0</td>\n",
              "      <td>0</td>\n",
              "      <td>0,00E+00</td>\n",
              "      <td>0</td>\n",
              "      <td>0</td>\n",
              "      <td>0</td>\n",
              "      <td>0,00E+00</td>\n",
              "      <td>0</td>\n",
              "      <td>0</td>\n",
              "      <td>RA de Campinas</td>\n",
              "      <td>4</td>\n",
              "      <td>Campinas</td>\n",
              "      <td>3</td>\n",
              "      <td>1175501</td>\n",
              "      <td>192796</td>\n",
              "      <td>79457</td>\n",
              "      <td>0</td>\n",
              "      <td>8.0</td>\n",
              "      <td>-22,9053</td>\n",
              "      <td>-47,0659</td>\n",
              "      <td>9</td>\n",
              "    </tr>\n",
              "    <tr>\n",
              "      <th>3333</th>\n",
              "      <td>Campinas</td>\n",
              "      <td>3509502</td>\n",
              "      <td>1</td>\n",
              "      <td>3</td>\n",
              "      <td>01/03/2020</td>\n",
              "      <td>0</td>\n",
              "      <td>0</td>\n",
              "      <td>0,00E+00</td>\n",
              "      <td>0</td>\n",
              "      <td>0</td>\n",
              "      <td>0</td>\n",
              "      <td>0,00E+00</td>\n",
              "      <td>0</td>\n",
              "      <td>0</td>\n",
              "      <td>RA de Campinas</td>\n",
              "      <td>4</td>\n",
              "      <td>Campinas</td>\n",
              "      <td>3</td>\n",
              "      <td>1175501</td>\n",
              "      <td>192796</td>\n",
              "      <td>79457</td>\n",
              "      <td>0</td>\n",
              "      <td>8.0</td>\n",
              "      <td>-22,9053</td>\n",
              "      <td>-47,0659</td>\n",
              "      <td>10</td>\n",
              "    </tr>\n",
              "    <tr>\n",
              "      <th>3978</th>\n",
              "      <td>Campinas</td>\n",
              "      <td>3509502</td>\n",
              "      <td>2</td>\n",
              "      <td>3</td>\n",
              "      <td>02/03/2020</td>\n",
              "      <td>0</td>\n",
              "      <td>0</td>\n",
              "      <td>0,00E+00</td>\n",
              "      <td>0</td>\n",
              "      <td>0</td>\n",
              "      <td>0</td>\n",
              "      <td>0,00E+00</td>\n",
              "      <td>0</td>\n",
              "      <td>0</td>\n",
              "      <td>RA de Campinas</td>\n",
              "      <td>4</td>\n",
              "      <td>Campinas</td>\n",
              "      <td>3</td>\n",
              "      <td>1175501</td>\n",
              "      <td>192796</td>\n",
              "      <td>79457</td>\n",
              "      <td>0</td>\n",
              "      <td>8.0</td>\n",
              "      <td>-22,9053</td>\n",
              "      <td>-47,0659</td>\n",
              "      <td>10</td>\n",
              "    </tr>\n",
              "    <tr>\n",
              "      <th>4623</th>\n",
              "      <td>Campinas</td>\n",
              "      <td>3509502</td>\n",
              "      <td>3</td>\n",
              "      <td>3</td>\n",
              "      <td>03/03/2020</td>\n",
              "      <td>0</td>\n",
              "      <td>0</td>\n",
              "      <td>0,00E+00</td>\n",
              "      <td>0</td>\n",
              "      <td>0</td>\n",
              "      <td>0</td>\n",
              "      <td>0,00E+00</td>\n",
              "      <td>0</td>\n",
              "      <td>0</td>\n",
              "      <td>RA de Campinas</td>\n",
              "      <td>4</td>\n",
              "      <td>Campinas</td>\n",
              "      <td>3</td>\n",
              "      <td>1175501</td>\n",
              "      <td>192796</td>\n",
              "      <td>79457</td>\n",
              "      <td>0</td>\n",
              "      <td>8.0</td>\n",
              "      <td>-22,9053</td>\n",
              "      <td>-47,0659</td>\n",
              "      <td>10</td>\n",
              "    </tr>\n",
              "    <tr>\n",
              "      <th>5268</th>\n",
              "      <td>Campinas</td>\n",
              "      <td>3509502</td>\n",
              "      <td>4</td>\n",
              "      <td>3</td>\n",
              "      <td>04/03/2020</td>\n",
              "      <td>0</td>\n",
              "      <td>0</td>\n",
              "      <td>0,00E+00</td>\n",
              "      <td>0</td>\n",
              "      <td>0</td>\n",
              "      <td>0</td>\n",
              "      <td>0,00E+00</td>\n",
              "      <td>0</td>\n",
              "      <td>0</td>\n",
              "      <td>RA de Campinas</td>\n",
              "      <td>4</td>\n",
              "      <td>Campinas</td>\n",
              "      <td>3</td>\n",
              "      <td>1175501</td>\n",
              "      <td>192796</td>\n",
              "      <td>79457</td>\n",
              "      <td>0</td>\n",
              "      <td>8.0</td>\n",
              "      <td>-22,9053</td>\n",
              "      <td>-47,0659</td>\n",
              "      <td>10</td>\n",
              "    </tr>\n",
              "    <tr>\n",
              "      <th>5913</th>\n",
              "      <td>Campinas</td>\n",
              "      <td>3509502</td>\n",
              "      <td>5</td>\n",
              "      <td>3</td>\n",
              "      <td>05/03/2020</td>\n",
              "      <td>0</td>\n",
              "      <td>0</td>\n",
              "      <td>0,00E+00</td>\n",
              "      <td>0</td>\n",
              "      <td>0</td>\n",
              "      <td>0</td>\n",
              "      <td>0,00E+00</td>\n",
              "      <td>0</td>\n",
              "      <td>0</td>\n",
              "      <td>RA de Campinas</td>\n",
              "      <td>4</td>\n",
              "      <td>Campinas</td>\n",
              "      <td>3</td>\n",
              "      <td>1175501</td>\n",
              "      <td>192796</td>\n",
              "      <td>79457</td>\n",
              "      <td>0</td>\n",
              "      <td>8.0</td>\n",
              "      <td>-22,9053</td>\n",
              "      <td>-47,0659</td>\n",
              "      <td>10</td>\n",
              "    </tr>\n",
              "  </tbody>\n",
              "</table>\n",
              "</div>"
            ],
            "text/plain": [
              "     nome_munic  codigo_ibge  dia  ...  latitude longitude  semana_epidem\n",
              "108    Campinas      3509502   25  ...  -22,9053  -47,0659              9\n",
              "753    Campinas      3509502   26  ...  -22,9053  -47,0659              9\n",
              "1398   Campinas      3509502   27  ...  -22,9053  -47,0659              9\n",
              "2043   Campinas      3509502   28  ...  -22,9053  -47,0659              9\n",
              "2688   Campinas      3509502   29  ...  -22,9053  -47,0659              9\n",
              "3333   Campinas      3509502    1  ...  -22,9053  -47,0659             10\n",
              "3978   Campinas      3509502    2  ...  -22,9053  -47,0659             10\n",
              "4623   Campinas      3509502    3  ...  -22,9053  -47,0659             10\n",
              "5268   Campinas      3509502    4  ...  -22,9053  -47,0659             10\n",
              "5913   Campinas      3509502    5  ...  -22,9053  -47,0659             10\n",
              "\n",
              "[10 rows x 26 columns]"
            ]
          },
          "metadata": {
            "tags": []
          },
          "execution_count": 6
        }
      ]
    },
    {
      "cell_type": "code",
      "metadata": {
        "id": "gzajwXdZyY3K"
      },
      "source": [
        "cols_time_series = ['datahora', 'obitos']\n",
        "campinas_isolamento_obito = campinas_isolamento[cols_time_series]"
      ],
      "execution_count": null,
      "outputs": []
    },
    {
      "cell_type": "code",
      "metadata": {
        "colab": {
          "base_uri": "https://localhost:8080/"
        },
        "id": "Z0y13Hxqym1s",
        "outputId": "1d9de643-240a-46c3-dd77-47bd65683d25"
      },
      "source": [
        "campinas_isolamento_obito['datahora'] = pd.to_datetime(campinas_isolamento_obito.loc[:, 'datahora'], format=\"%d/%m/%Y\")\n",
        "campinas_isolamento_obito['datahora'] = campinas_isolamento_obito.loc[:,'datahora'].astype('datetime64[ns]')\n",
        "campinas_isolamento_obito = campinas_isolamento_obito.set_index(\"datahora\")\n",
        "campinas_isolamento_obito = campinas_isolamento_obito.sort_index().asfreq(freq='D', method='pad')\n",
        "campinas_isolamento_obito.index"
      ],
      "execution_count": null,
      "outputs": [
        {
          "output_type": "stream",
          "text": [
            "/usr/local/lib/python3.7/dist-packages/ipykernel_launcher.py:1: SettingWithCopyWarning: \n",
            "A value is trying to be set on a copy of a slice from a DataFrame.\n",
            "Try using .loc[row_indexer,col_indexer] = value instead\n",
            "\n",
            "See the caveats in the documentation: https://pandas.pydata.org/pandas-docs/stable/user_guide/indexing.html#returning-a-view-versus-a-copy\n",
            "  \"\"\"Entry point for launching an IPython kernel.\n",
            "/usr/local/lib/python3.7/dist-packages/ipykernel_launcher.py:2: SettingWithCopyWarning: \n",
            "A value is trying to be set on a copy of a slice from a DataFrame.\n",
            "Try using .loc[row_indexer,col_indexer] = value instead\n",
            "\n",
            "See the caveats in the documentation: https://pandas.pydata.org/pandas-docs/stable/user_guide/indexing.html#returning-a-view-versus-a-copy\n",
            "  \n"
          ],
          "name": "stderr"
        },
        {
          "output_type": "execute_result",
          "data": {
            "text/plain": [
              "DatetimeIndex(['2020-02-25', '2020-02-26', '2020-02-27', '2020-02-28',\n",
              "               '2020-02-29', '2020-03-01', '2020-03-02', '2020-03-03',\n",
              "               '2020-03-04', '2020-03-05',\n",
              "               ...\n",
              "               '2021-04-11', '2021-04-12', '2021-04-13', '2021-04-14',\n",
              "               '2021-04-15', '2021-04-16', '2021-04-17', '2021-04-18',\n",
              "               '2021-04-19', '2021-04-20'],\n",
              "              dtype='datetime64[ns]', name='datahora', length=421, freq='D')"
            ]
          },
          "metadata": {
            "tags": []
          },
          "execution_count": 8
        }
      ]
    },
    {
      "cell_type": "markdown",
      "metadata": {
        "id": "sTyX-tg3hWIY"
      },
      "source": [
        "# Óbitos totais"
      ]
    },
    {
      "cell_type": "markdown",
      "metadata": {
        "id": "9Ivmr1RzXOqT"
      },
      "source": [
        "## Holt Winter"
      ]
    },
    {
      "cell_type": "code",
      "metadata": {
        "colab": {
          "base_uri": "https://localhost:8080/",
          "height": 450
        },
        "id": "3gAGZ-xd1PAF",
        "outputId": "71df3dca-09b2-42bf-ea44-42513ee1444c"
      },
      "source": [
        "campinas_isolamento_obito"
      ],
      "execution_count": null,
      "outputs": [
        {
          "output_type": "execute_result",
          "data": {
            "text/html": [
              "<div>\n",
              "<style scoped>\n",
              "    .dataframe tbody tr th:only-of-type {\n",
              "        vertical-align: middle;\n",
              "    }\n",
              "\n",
              "    .dataframe tbody tr th {\n",
              "        vertical-align: top;\n",
              "    }\n",
              "\n",
              "    .dataframe thead th {\n",
              "        text-align: right;\n",
              "    }\n",
              "</style>\n",
              "<table border=\"1\" class=\"dataframe\">\n",
              "  <thead>\n",
              "    <tr style=\"text-align: right;\">\n",
              "      <th></th>\n",
              "      <th>obitos</th>\n",
              "    </tr>\n",
              "    <tr>\n",
              "      <th>datahora</th>\n",
              "      <th></th>\n",
              "    </tr>\n",
              "  </thead>\n",
              "  <tbody>\n",
              "    <tr>\n",
              "      <th>2020-02-25</th>\n",
              "      <td>0</td>\n",
              "    </tr>\n",
              "    <tr>\n",
              "      <th>2020-02-26</th>\n",
              "      <td>0</td>\n",
              "    </tr>\n",
              "    <tr>\n",
              "      <th>2020-02-27</th>\n",
              "      <td>0</td>\n",
              "    </tr>\n",
              "    <tr>\n",
              "      <th>2020-02-28</th>\n",
              "      <td>0</td>\n",
              "    </tr>\n",
              "    <tr>\n",
              "      <th>2020-02-29</th>\n",
              "      <td>0</td>\n",
              "    </tr>\n",
              "    <tr>\n",
              "      <th>...</th>\n",
              "      <td>...</td>\n",
              "    </tr>\n",
              "    <tr>\n",
              "      <th>2021-04-16</th>\n",
              "      <td>2783</td>\n",
              "    </tr>\n",
              "    <tr>\n",
              "      <th>2021-04-17</th>\n",
              "      <td>2818</td>\n",
              "    </tr>\n",
              "    <tr>\n",
              "      <th>2021-04-18</th>\n",
              "      <td>2823</td>\n",
              "    </tr>\n",
              "    <tr>\n",
              "      <th>2021-04-19</th>\n",
              "      <td>2825</td>\n",
              "    </tr>\n",
              "    <tr>\n",
              "      <th>2021-04-20</th>\n",
              "      <td>2844</td>\n",
              "    </tr>\n",
              "  </tbody>\n",
              "</table>\n",
              "<p>421 rows × 1 columns</p>\n",
              "</div>"
            ],
            "text/plain": [
              "            obitos\n",
              "datahora          \n",
              "2020-02-25       0\n",
              "2020-02-26       0\n",
              "2020-02-27       0\n",
              "2020-02-28       0\n",
              "2020-02-29       0\n",
              "...            ...\n",
              "2021-04-16    2783\n",
              "2021-04-17    2818\n",
              "2021-04-18    2823\n",
              "2021-04-19    2825\n",
              "2021-04-20    2844\n",
              "\n",
              "[421 rows x 1 columns]"
            ]
          },
          "metadata": {
            "tags": []
          },
          "execution_count": 9
        }
      ]
    },
    {
      "cell_type": "code",
      "metadata": {
        "id": "iw-tExBoyxJM"
      },
      "source": [
        "case_train = campinas_isolamento_obito[:295]\n",
        "case_test = campinas_isolamento_obito[295:]"
      ],
      "execution_count": null,
      "outputs": []
    },
    {
      "cell_type": "code",
      "metadata": {
        "colab": {
          "base_uri": "https://localhost:8080/"
        },
        "id": "9p9W0fImzMsI",
        "outputId": "6b2cc4ac-8fde-404d-d58f-3181b6dcbb26"
      },
      "source": [
        "holt_winter_model = smt.holtwinters.ExponentialSmoothing(case_train, trend=\"add\", seasonal=\"add\")\n",
        "\n",
        "result_confirmed = holt_winter_model.fit()\n",
        "\n",
        "print(result_confirmed.summary())"
      ],
      "execution_count": null,
      "outputs": [
        {
          "output_type": "stream",
          "text": [
            "                       ExponentialSmoothing Model Results                       \n",
            "================================================================================\n",
            "Dep. Variable:                   obitos   No. Observations:                  295\n",
            "Model:             ExponentialSmoothing   SSE                           4213.206\n",
            "Optimized:                         True   AIC                            806.406\n",
            "Trend:                         Additive   BIC                            846.963\n",
            "Seasonal:                      Additive   AICC                           807.702\n",
            "Seasonal Periods:                     7   Date:                 Sat, 19 Jun 2021\n",
            "Box-Cox:                          False   Time:                         12:15:28\n",
            "Box-Cox Coeff.:                    None                                         \n",
            "=================================================================================\n",
            "                          coeff                 code              optimized      \n",
            "---------------------------------------------------------------------------------\n",
            "smoothing_level               0.4318925                alpha                 True\n",
            "smoothing_trend               0.2502408                 beta                 True\n",
            "smoothing_seasonal            0.3030115                gamma                 True\n",
            "initial_level                 627.87832                  l.0                 True\n",
            "initial_trend                 0.0044354                  b.0                 True\n",
            "initial_seasons.0            -627.89668                  s.0                 True\n",
            "initial_seasons.1            -627.86303                  s.1                 True\n",
            "initial_seasons.2            -627.87653                  s.2                 True\n",
            "initial_seasons.3            -627.90351                  s.3                 True\n",
            "initial_seasons.4            -627.88748                  s.4                 True\n",
            "initial_seasons.5            -627.96893                  s.5                 True\n",
            "initial_seasons.6            -627.98389                  s.6                 True\n",
            "---------------------------------------------------------------------------------\n"
          ],
          "name": "stdout"
        },
        {
          "output_type": "stream",
          "text": [
            "/usr/local/lib/python3.7/dist-packages/statsmodels/tsa/holtwinters/model.py:429: FutureWarning: After 0.13 initialization must be handled at model creation\n",
            "  FutureWarning,\n"
          ],
          "name": "stderr"
        }
      ]
    },
    {
      "cell_type": "code",
      "metadata": {
        "colab": {
          "base_uri": "https://localhost:8080/",
          "height": 265
        },
        "id": "6y81tb0UzWql",
        "outputId": "3c79c36e-309a-432f-96e8-cddee69f736e"
      },
      "source": [
        "pred_train = result_confirmed.predict(start=case_train.index[0], end=case_train.index[-1])\n",
        "pred_test = result_confirmed.predict(start=case_test.index[0], end=case_test.index[-1])\n",
        "plt.plot(campinas_isolamento_obito.index, campinas_isolamento_obito, label=\"Real cases\")\n",
        "plt.plot(pred_train.index, pred_train, label='Holt Winters Train')\n",
        "plt.plot(pred_test.index, pred_test, label='Holt Winters Test')\n",
        "plt.plot(figsize=(64,32))\n",
        "plt.show()"
      ],
      "execution_count": null,
      "outputs": [
        {
          "output_type": "display_data",
          "data": {
            "image/png": "[encoded data removed]",
            "text/plain": [
              "<Figure size 432x288 with 1 Axes>"
            ]
          },
          "metadata": {
            "tags": [],
            "needs_background": "light"
          }
        }
      ]
    },
    {
      "cell_type": "code",
      "metadata": {
        "colab": {
          "base_uri": "https://localhost:8080/"
        },
        "id": "T3PPBvchZqP8",
        "outputId": "98421c5f-5135-44e4-ed84-8b8b4a9ed985"
      },
      "source": [
        "from sklearn.metrics import mean_squared_error\n",
        "mse = mean_squared_error(case_test, pred_test)\n",
        "mse"
      ],
      "execution_count": null,
      "outputs": [
        {
          "output_type": "execute_result",
          "data": {
            "text/plain": [
              "212943.17228752957"
            ]
          },
          "metadata": {
            "tags": []
          },
          "execution_count": 14
        }
      ]
    },
    {
      "cell_type": "markdown",
      "metadata": {
        "id": "cjTxRkycY3fh"
      },
      "source": [
        "## Autor ARIMA"
      ]
    },
    {
      "cell_type": "code",
      "metadata": {
        "colab": {
          "base_uri": "https://localhost:8080/"
        },
        "id": "7P3pTN4PX4Wm",
        "outputId": "b49e1266-3c98-4f6f-bb9f-3146d261ecf1"
      },
      "source": [
        "model_auto = auto_arima(case_train['obitos'].values,start_p=0, start_q=0, \n",
        "                            max_p=6, max_q=6, d=1,seasonal=True, trace=True,\n",
        "                            error_action='ignore', suppress_warnings=True, stepwise=False)"
      ],
      "execution_count": null,
      "outputs": [
        {
          "output_type": "stream",
          "text": [
            " ARIMA(0,1,0)(0,0,0)[1] intercept   : AIC=1892.873, Time=0.05 sec\n",
            " ARIMA(0,1,1)(0,0,0)[1] intercept   : AIC=1829.147, Time=0.10 sec\n",
            " ARIMA(0,1,2)(0,0,0)[1] intercept   : AIC=1806.307, Time=0.15 sec\n",
            " ARIMA(0,1,3)(0,0,0)[1] intercept   : AIC=1793.972, Time=0.29 sec\n",
            " ARIMA(0,1,4)(0,0,0)[1] intercept   : AIC=1787.711, Time=0.32 sec\n",
            " ARIMA(0,1,5)(0,0,0)[1] intercept   : AIC=1787.270, Time=0.46 sec\n",
            " ARIMA(1,1,0)(0,0,0)[1] intercept   : AIC=1791.778, Time=0.07 sec\n",
            " ARIMA(1,1,1)(0,0,0)[1] intercept   : AIC=1720.006, Time=0.24 sec\n",
            " ARIMA(1,1,2)(0,0,0)[1] intercept   : AIC=1719.994, Time=0.28 sec\n",
            " ARIMA(1,1,3)(0,0,0)[1] intercept   : AIC=1707.117, Time=0.60 sec\n",
            " ARIMA(1,1,4)(0,0,0)[1] intercept   : AIC=1677.989, Time=0.48 sec\n",
            " ARIMA(2,1,0)(0,0,0)[1] intercept   : AIC=1780.162, Time=0.11 sec\n",
            " ARIMA(2,1,1)(0,0,0)[1] intercept   : AIC=1720.433, Time=0.34 sec\n",
            " ARIMA(2,1,2)(0,0,0)[1] intercept   : AIC=1718.807, Time=0.29 sec\n",
            " ARIMA(2,1,3)(0,0,0)[1] intercept   : AIC=1720.215, Time=0.70 sec\n",
            " ARIMA(3,1,0)(0,0,0)[1] intercept   : AIC=1776.953, Time=0.13 sec\n",
            " ARIMA(3,1,1)(0,0,0)[1] intercept   : AIC=1717.674, Time=0.43 sec\n",
            " ARIMA(3,1,2)(0,0,0)[1] intercept   : AIC=1720.335, Time=0.46 sec\n",
            " ARIMA(4,1,0)(0,0,0)[1] intercept   : AIC=1769.466, Time=0.21 sec\n",
            " ARIMA(4,1,1)(0,0,0)[1] intercept   : AIC=1704.366, Time=0.59 sec\n",
            " ARIMA(5,1,0)(0,0,0)[1] intercept   : AIC=1761.869, Time=0.28 sec\n",
            "\n",
            "Best model:  ARIMA(1,1,4)(0,0,0)[1] intercept\n",
            "Total fit time: 6.603 seconds\n"
          ],
          "name": "stdout"
        }
      ]
    },
    {
      "cell_type": "code",
      "metadata": {
        "colab": {
          "base_uri": "https://localhost:8080/"
        },
        "id": "LFBYjpxKX_cW",
        "outputId": "053ffa9b-fabb-4aa7-e3c9-331a8be994b7"
      },
      "source": [
        "model_auto.fit(case_train['obitos'].values)"
      ],
      "execution_count": null,
      "outputs": [
        {
          "output_type": "execute_result",
          "data": {
            "text/plain": [
              "ARIMA(maxiter=50, method='lbfgs', order=(1, 1, 4), out_of_sample_size=0,\n",
              "      scoring='mse', scoring_args={}, seasonal_order=(0, 0, 0, 1),\n",
              "      start_params=None, suppress_warnings=True, trend=None,\n",
              "      with_intercept=True)"
            ]
          },
          "metadata": {
            "tags": []
          },
          "execution_count": 16
        }
      ]
    },
    {
      "cell_type": "code",
      "metadata": {
        "id": "31o5Xd5fYK3m"
      },
      "source": [
        "predict = model_auto.predict(n_periods= int(case_test.size))"
      ],
      "execution_count": null,
      "outputs": []
    },
    {
      "cell_type": "code",
      "metadata": {
        "colab": {
          "base_uri": "https://localhost:8080/",
          "height": 483
        },
        "id": "rUT6WN0BYOMk",
        "outputId": "6b56fab4-4a75-4cd1-cb50-d01f31a7f411"
      },
      "source": [
        "plt.plot(case_test.index, case_test)\n",
        "plt.plot(case_test.index, predict)\n",
        "plt.gcf().set_size_inches((16,8))"
      ],
      "execution_count": null,
      "outputs": [
        {
          "output_type": "display_data",
          "data": {
            "image/png": "[encoded data removed]",
            "text/plain": [
              "<Figure size 1152x576 with 1 Axes>"
            ]
          },
          "metadata": {
            "tags": [],
            "needs_background": "light"
          }
        }
      ]
    },
    {
      "cell_type": "code",
      "metadata": {
        "colab": {
          "base_uri": "https://localhost:8080/",
          "height": 483
        },
        "id": "a8dLs3HKYP0K",
        "outputId": "2f2e1e7b-a558-477d-878b-7f78bc38d4ce"
      },
      "source": [
        "plt.plot(case_train.index, case_train)\n",
        "plt.plot(case_test.index, case_test)\n",
        "plt.plot(case_test.index, predict)\n",
        "plt.gcf().set_size_inches((16,8))"
      ],
      "execution_count": null,
      "outputs": [
        {
          "output_type": "display_data",
          "data": {
            "image/png": "[encoded data removed]",
            "text/plain": [
              "<Figure size 1152x576 with 1 Axes>"
            ]
          },
          "metadata": {
            "tags": [],
            "needs_background": "light"
          }
        }
      ]
    },
    {
      "cell_type": "code",
      "metadata": {
        "colab": {
          "base_uri": "https://localhost:8080/"
        },
        "id": "Mz5VxnzfYSHp",
        "outputId": "bfaa503f-1c6d-4d13-aa22-70e29d2616d5"
      },
      "source": [
        "mse = mean_squared_error(predict, case_test)\n",
        "mse"
      ],
      "execution_count": null,
      "outputs": [
        {
          "output_type": "execute_result",
          "data": {
            "text/plain": [
              "197627.5565617479"
            ]
          },
          "metadata": {
            "tags": []
          },
          "execution_count": 24
        }
      ]
    },
    {
      "cell_type": "markdown",
      "metadata": {
        "id": "moNlk01nlnOx"
      },
      "source": [
        "## process data"
      ]
    },
    {
      "cell_type": "code",
      "metadata": {
        "colab": {
          "base_uri": "https://localhost:8080/",
          "height": 309
        },
        "id": "FRskJneEak3m",
        "outputId": "77905096-1ed6-450c-8f92-cc2d17b5b864"
      },
      "source": [
        "campinas_isolamento.head(5)"
      ],
      "execution_count": null,
      "outputs": [
        {
          "output_type": "execute_result",
          "data": {
            "text/html": [
              "<div>\n",
              "<style scoped>\n",
              "    .dataframe tbody tr th:only-of-type {\n",
              "        vertical-align: middle;\n",
              "    }\n",
              "\n",
              "    .dataframe tbody tr th {\n",
              "        vertical-align: top;\n",
              "    }\n",
              "\n",
              "    .dataframe thead th {\n",
              "        text-align: right;\n",
              "    }\n",
              "</style>\n",
              "<table border=\"1\" class=\"dataframe\">\n",
              "  <thead>\n",
              "    <tr style=\"text-align: right;\">\n",
              "      <th></th>\n",
              "      <th>nome_munic</th>\n",
              "      <th>codigo_ibge</th>\n",
              "      <th>dia</th>\n",
              "      <th>mes</th>\n",
              "      <th>datahora</th>\n",
              "      <th>casos</th>\n",
              "      <th>casos_novos</th>\n",
              "      <th>casos_pc</th>\n",
              "      <th>casos_mm7d</th>\n",
              "      <th>obitos</th>\n",
              "      <th>obitos_novos</th>\n",
              "      <th>obitos_pc</th>\n",
              "      <th>obitos_mm7d</th>\n",
              "      <th>letalidade</th>\n",
              "      <th>nome_ra</th>\n",
              "      <th>cod_ra</th>\n",
              "      <th>nome_drs</th>\n",
              "      <th>cod_drs</th>\n",
              "      <th>pop</th>\n",
              "      <th>pop_60</th>\n",
              "      <th>area</th>\n",
              "      <th>map_leg</th>\n",
              "      <th>map_leg_s</th>\n",
              "      <th>latitude</th>\n",
              "      <th>longitude</th>\n",
              "      <th>semana_epidem</th>\n",
              "    </tr>\n",
              "  </thead>\n",
              "  <tbody>\n",
              "    <tr>\n",
              "      <th>108</th>\n",
              "      <td>Campinas</td>\n",
              "      <td>3509502</td>\n",
              "      <td>25</td>\n",
              "      <td>2</td>\n",
              "      <td>25/02/2020</td>\n",
              "      <td>0</td>\n",
              "      <td>0</td>\n",
              "      <td>0,00E+00</td>\n",
              "      <td>0</td>\n",
              "      <td>0</td>\n",
              "      <td>0</td>\n",
              "      <td>0,00E+00</td>\n",
              "      <td>0</td>\n",
              "      <td>0</td>\n",
              "      <td>RA de Campinas</td>\n",
              "      <td>4</td>\n",
              "      <td>Campinas</td>\n",
              "      <td>3</td>\n",
              "      <td>1175501</td>\n",
              "      <td>192796</td>\n",
              "      <td>79457</td>\n",
              "      <td>0</td>\n",
              "      <td>8.0</td>\n",
              "      <td>-22,9053</td>\n",
              "      <td>-47,0659</td>\n",
              "      <td>9</td>\n",
              "    </tr>\n",
              "    <tr>\n",
              "      <th>753</th>\n",
              "      <td>Campinas</td>\n",
              "      <td>3509502</td>\n",
              "      <td>26</td>\n",
              "      <td>2</td>\n",
              "      <td>26/02/2020</td>\n",
              "      <td>0</td>\n",
              "      <td>0</td>\n",
              "      <td>0,00E+00</td>\n",
              "      <td>0</td>\n",
              "      <td>0</td>\n",
              "      <td>0</td>\n",
              "      <td>0,00E+00</td>\n",
              "      <td>0</td>\n",
              "      <td>0</td>\n",
              "      <td>RA de Campinas</td>\n",
              "      <td>4</td>\n",
              "      <td>Campinas</td>\n",
              "      <td>3</td>\n",
              "      <td>1175501</td>\n",
              "      <td>192796</td>\n",
              "      <td>79457</td>\n",
              "      <td>0</td>\n",
              "      <td>8.0</td>\n",
              "      <td>-22,9053</td>\n",
              "      <td>-47,0659</td>\n",
              "      <td>9</td>\n",
              "    </tr>\n",
              "    <tr>\n",
              "      <th>1398</th>\n",
              "      <td>Campinas</td>\n",
              "      <td>3509502</td>\n",
              "      <td>27</td>\n",
              "      <td>2</td>\n",
              "      <td>27/02/2020</td>\n",
              "      <td>0</td>\n",
              "      <td>0</td>\n",
              "      <td>0,00E+00</td>\n",
              "      <td>0</td>\n",
              "      <td>0</td>\n",
              "      <td>0</td>\n",
              "      <td>0,00E+00</td>\n",
              "      <td>0</td>\n",
              "      <td>0</td>\n",
              "      <td>RA de Campinas</td>\n",
              "      <td>4</td>\n",
              "      <td>Campinas</td>\n",
              "      <td>3</td>\n",
              "      <td>1175501</td>\n",
              "      <td>192796</td>\n",
              "      <td>79457</td>\n",
              "      <td>0</td>\n",
              "      <td>8.0</td>\n",
              "      <td>-22,9053</td>\n",
              "      <td>-47,0659</td>\n",
              "      <td>9</td>\n",
              "    </tr>\n",
              "    <tr>\n",
              "      <th>2043</th>\n",
              "      <td>Campinas</td>\n",
              "      <td>3509502</td>\n",
              "      <td>28</td>\n",
              "      <td>2</td>\n",
              "      <td>28/02/2020</td>\n",
              "      <td>0</td>\n",
              "      <td>0</td>\n",
              "      <td>0,00E+00</td>\n",
              "      <td>0</td>\n",
              "      <td>0</td>\n",
              "      <td>0</td>\n",
              "      <td>0,00E+00</td>\n",
              "      <td>0</td>\n",
              "      <td>0</td>\n",
              "      <td>RA de Campinas</td>\n",
              "      <td>4</td>\n",
              "      <td>Campinas</td>\n",
              "      <td>3</td>\n",
              "      <td>1175501</td>\n",
              "      <td>192796</td>\n",
              "      <td>79457</td>\n",
              "      <td>0</td>\n",
              "      <td>8.0</td>\n",
              "      <td>-22,9053</td>\n",
              "      <td>-47,0659</td>\n",
              "      <td>9</td>\n",
              "    </tr>\n",
              "    <tr>\n",
              "      <th>2688</th>\n",
              "      <td>Campinas</td>\n",
              "      <td>3509502</td>\n",
              "      <td>29</td>\n",
              "      <td>2</td>\n",
              "      <td>29/02/2020</td>\n",
              "      <td>0</td>\n",
              "      <td>0</td>\n",
              "      <td>0,00E+00</td>\n",
              "      <td>0</td>\n",
              "      <td>0</td>\n",
              "      <td>0</td>\n",
              "      <td>0,00E+00</td>\n",
              "      <td>0</td>\n",
              "      <td>0</td>\n",
              "      <td>RA de Campinas</td>\n",
              "      <td>4</td>\n",
              "      <td>Campinas</td>\n",
              "      <td>3</td>\n",
              "      <td>1175501</td>\n",
              "      <td>192796</td>\n",
              "      <td>79457</td>\n",
              "      <td>0</td>\n",
              "      <td>8.0</td>\n",
              "      <td>-22,9053</td>\n",
              "      <td>-47,0659</td>\n",
              "      <td>9</td>\n",
              "    </tr>\n",
              "  </tbody>\n",
              "</table>\n",
              "</div>"
            ],
            "text/plain": [
              "     nome_munic  codigo_ibge  dia  ...  latitude longitude  semana_epidem\n",
              "108    Campinas      3509502   25  ...  -22,9053  -47,0659              9\n",
              "753    Campinas      3509502   26  ...  -22,9053  -47,0659              9\n",
              "1398   Campinas      3509502   27  ...  -22,9053  -47,0659              9\n",
              "2043   Campinas      3509502   28  ...  -22,9053  -47,0659              9\n",
              "2688   Campinas      3509502   29  ...  -22,9053  -47,0659              9\n",
              "\n",
              "[5 rows x 26 columns]"
            ]
          },
          "metadata": {
            "tags": []
          },
          "execution_count": 25
        }
      ]
    },
    {
      "cell_type": "code",
      "metadata": {
        "colab": {
          "base_uri": "https://localhost:8080/"
        },
        "id": "HZIPe8a0HMep",
        "outputId": "25096d16-5504-4a46-d8e5-1955d9dbc58d"
      },
      "source": [
        "campinas_isolamento['datahora'] = pd.to_datetime(campinas_isolamento.loc[:, 'datahora'], format=\"%d/%m/%Y\")\n",
        "campinas_isolamento['datahora'] = campinas_isolamento.loc[:,'datahora'].astype('datetime64[ns]')\n",
        "campinas_isolamento = campinas_isolamento.set_index(\"datahora\")\n",
        "campinas_isolamento = campinas_isolamento.sort_index().asfreq(freq='D', method='pad')\n",
        "campinas_isolamento.index"
      ],
      "execution_count": null,
      "outputs": [
        {
          "output_type": "stream",
          "text": [
            "/usr/local/lib/python3.7/dist-packages/ipykernel_launcher.py:1: SettingWithCopyWarning: \n",
            "A value is trying to be set on a copy of a slice from a DataFrame.\n",
            "Try using .loc[row_indexer,col_indexer] = value instead\n",
            "\n",
            "See the caveats in the documentation: https://pandas.pydata.org/pandas-docs/stable/user_guide/indexing.html#returning-a-view-versus-a-copy\n",
            "  \"\"\"Entry point for launching an IPython kernel.\n",
            "/usr/local/lib/python3.7/dist-packages/ipykernel_launcher.py:2: SettingWithCopyWarning: \n",
            "A value is trying to be set on a copy of a slice from a DataFrame.\n",
            "Try using .loc[row_indexer,col_indexer] = value instead\n",
            "\n",
            "See the caveats in the documentation: https://pandas.pydata.org/pandas-docs/stable/user_guide/indexing.html#returning-a-view-versus-a-copy\n",
            "  \n"
          ],
          "name": "stderr"
        },
        {
          "output_type": "execute_result",
          "data": {
            "text/plain": [
              "DatetimeIndex(['2020-02-25', '2020-02-26', '2020-02-27', '2020-02-28',\n",
              "               '2020-02-29', '2020-03-01', '2020-03-02', '2020-03-03',\n",
              "               '2020-03-04', '2020-03-05',\n",
              "               ...\n",
              "               '2021-04-11', '2021-04-12', '2021-04-13', '2021-04-14',\n",
              "               '2021-04-15', '2021-04-16', '2021-04-17', '2021-04-18',\n",
              "               '2021-04-19', '2021-04-20'],\n",
              "              dtype='datetime64[ns]', name='datahora', length=421, freq='D')"
            ]
          },
          "metadata": {
            "tags": []
          },
          "execution_count": 26
        }
      ]
    },
    {
      "cell_type": "code",
      "metadata": {
        "id": "fnn65TgsnbYM"
      },
      "source": [
        "campinas_isolamento_lagged = campinas_isolamento_obito[:]\n",
        "for i in range(1,7):\n",
        "  campinas_obito_lagged = campinas_isolamento_obito.shift(i);\n",
        "  campinas_obito_lagged = campinas_obito_lagged.rename(columns={'obitos': 'date_' + str(i)})\n",
        "  campinas_isolamento_lagged = pd.merge(campinas_isolamento_lagged, campinas_obito_lagged, how='inner', left_on=['datahora'], right_on=['datahora'])"
      ],
      "execution_count": null,
      "outputs": []
    },
    {
      "cell_type": "code",
      "metadata": {
        "colab": {
          "base_uri": "https://localhost:8080/",
          "height": 390
        },
        "id": "TNQT90NtsGJU",
        "outputId": "2b4486e1-e6b9-4623-863c-acf2a267df09"
      },
      "source": [
        "campinas_isolamento_lagged[50:].head(10)"
      ],
      "execution_count": null,
      "outputs": [
        {
          "output_type": "execute_result",
          "data": {
            "text/html": [
              "<div>\n",
              "<style scoped>\n",
              "    .dataframe tbody tr th:only-of-type {\n",
              "        vertical-align: middle;\n",
              "    }\n",
              "\n",
              "    .dataframe tbody tr th {\n",
              "        vertical-align: top;\n",
              "    }\n",
              "\n",
              "    .dataframe thead th {\n",
              "        text-align: right;\n",
              "    }\n",
              "</style>\n",
              "<table border=\"1\" class=\"dataframe\">\n",
              "  <thead>\n",
              "    <tr style=\"text-align: right;\">\n",
              "      <th></th>\n",
              "      <th>obitos</th>\n",
              "      <th>date_1</th>\n",
              "      <th>date_2</th>\n",
              "      <th>date_3</th>\n",
              "      <th>date_4</th>\n",
              "      <th>date_5</th>\n",
              "      <th>date_6</th>\n",
              "    </tr>\n",
              "    <tr>\n",
              "      <th>datahora</th>\n",
              "      <th></th>\n",
              "      <th></th>\n",
              "      <th></th>\n",
              "      <th></th>\n",
              "      <th></th>\n",
              "      <th></th>\n",
              "      <th></th>\n",
              "    </tr>\n",
              "  </thead>\n",
              "  <tbody>\n",
              "    <tr>\n",
              "      <th>2020-04-15</th>\n",
              "      <td>5</td>\n",
              "      <td>5.0</td>\n",
              "      <td>5.0</td>\n",
              "      <td>5.0</td>\n",
              "      <td>5.0</td>\n",
              "      <td>5.0</td>\n",
              "      <td>5.0</td>\n",
              "    </tr>\n",
              "    <tr>\n",
              "      <th>2020-04-16</th>\n",
              "      <td>7</td>\n",
              "      <td>5.0</td>\n",
              "      <td>5.0</td>\n",
              "      <td>5.0</td>\n",
              "      <td>5.0</td>\n",
              "      <td>5.0</td>\n",
              "      <td>5.0</td>\n",
              "    </tr>\n",
              "    <tr>\n",
              "      <th>2020-04-17</th>\n",
              "      <td>7</td>\n",
              "      <td>7.0</td>\n",
              "      <td>5.0</td>\n",
              "      <td>5.0</td>\n",
              "      <td>5.0</td>\n",
              "      <td>5.0</td>\n",
              "      <td>5.0</td>\n",
              "    </tr>\n",
              "    <tr>\n",
              "      <th>2020-04-18</th>\n",
              "      <td>7</td>\n",
              "      <td>7.0</td>\n",
              "      <td>7.0</td>\n",
              "      <td>5.0</td>\n",
              "      <td>5.0</td>\n",
              "      <td>5.0</td>\n",
              "      <td>5.0</td>\n",
              "    </tr>\n",
              "    <tr>\n",
              "      <th>2020-04-19</th>\n",
              "      <td>7</td>\n",
              "      <td>7.0</td>\n",
              "      <td>7.0</td>\n",
              "      <td>7.0</td>\n",
              "      <td>5.0</td>\n",
              "      <td>5.0</td>\n",
              "      <td>5.0</td>\n",
              "    </tr>\n",
              "    <tr>\n",
              "      <th>2020-04-20</th>\n",
              "      <td>7</td>\n",
              "      <td>7.0</td>\n",
              "      <td>7.0</td>\n",
              "      <td>7.0</td>\n",
              "      <td>7.0</td>\n",
              "      <td>5.0</td>\n",
              "      <td>5.0</td>\n",
              "    </tr>\n",
              "    <tr>\n",
              "      <th>2020-04-21</th>\n",
              "      <td>7</td>\n",
              "      <td>7.0</td>\n",
              "      <td>7.0</td>\n",
              "      <td>7.0</td>\n",
              "      <td>7.0</td>\n",
              "      <td>7.0</td>\n",
              "      <td>5.0</td>\n",
              "    </tr>\n",
              "    <tr>\n",
              "      <th>2020-04-22</th>\n",
              "      <td>9</td>\n",
              "      <td>7.0</td>\n",
              "      <td>7.0</td>\n",
              "      <td>7.0</td>\n",
              "      <td>7.0</td>\n",
              "      <td>7.0</td>\n",
              "      <td>7.0</td>\n",
              "    </tr>\n",
              "    <tr>\n",
              "      <th>2020-04-23</th>\n",
              "      <td>9</td>\n",
              "      <td>9.0</td>\n",
              "      <td>7.0</td>\n",
              "      <td>7.0</td>\n",
              "      <td>7.0</td>\n",
              "      <td>7.0</td>\n",
              "      <td>7.0</td>\n",
              "    </tr>\n",
              "    <tr>\n",
              "      <th>2020-04-24</th>\n",
              "      <td>11</td>\n",
              "      <td>9.0</td>\n",
              "      <td>9.0</td>\n",
              "      <td>7.0</td>\n",
              "      <td>7.0</td>\n",
              "      <td>7.0</td>\n",
              "      <td>7.0</td>\n",
              "    </tr>\n",
              "  </tbody>\n",
              "</table>\n",
              "</div>"
            ],
            "text/plain": [
              "            obitos  date_1  date_2  date_3  date_4  date_5  date_6\n",
              "datahora                                                          \n",
              "2020-04-15       5     5.0     5.0     5.0     5.0     5.0     5.0\n",
              "2020-04-16       7     5.0     5.0     5.0     5.0     5.0     5.0\n",
              "2020-04-17       7     7.0     5.0     5.0     5.0     5.0     5.0\n",
              "2020-04-18       7     7.0     7.0     5.0     5.0     5.0     5.0\n",
              "2020-04-19       7     7.0     7.0     7.0     5.0     5.0     5.0\n",
              "2020-04-20       7     7.0     7.0     7.0     7.0     5.0     5.0\n",
              "2020-04-21       7     7.0     7.0     7.0     7.0     7.0     5.0\n",
              "2020-04-22       9     7.0     7.0     7.0     7.0     7.0     7.0\n",
              "2020-04-23       9     9.0     7.0     7.0     7.0     7.0     7.0\n",
              "2020-04-24      11     9.0     9.0     7.0     7.0     7.0     7.0"
            ]
          },
          "metadata": {
            "tags": []
          },
          "execution_count": 28
        }
      ]
    },
    {
      "cell_type": "code",
      "metadata": {
        "id": "3-uUKr4Fu5Fk"
      },
      "source": [
        "obitos = campinas_isolamento_lagged.pop('obitos')"
      ],
      "execution_count": null,
      "outputs": []
    },
    {
      "cell_type": "code",
      "metadata": {
        "colab": {
          "base_uri": "https://localhost:8080/"
        },
        "id": "InZ8LmbyIWFN",
        "outputId": "5469f7c7-694a-4c03-cd20-c07aa9437cfc"
      },
      "source": [
        "obitos"
      ],
      "execution_count": null,
      "outputs": [
        {
          "output_type": "execute_result",
          "data": {
            "text/plain": [
              "datahora\n",
              "2020-02-25       0\n",
              "2020-02-26       0\n",
              "2020-02-27       0\n",
              "2020-02-28       0\n",
              "2020-02-29       0\n",
              "              ... \n",
              "2021-04-16    2783\n",
              "2021-04-17    2818\n",
              "2021-04-18    2823\n",
              "2021-04-19    2825\n",
              "2021-04-20    2844\n",
              "Name: obitos, Length: 421, dtype: int64"
            ]
          },
          "metadata": {
            "tags": []
          },
          "execution_count": 30
        }
      ]
    },
    {
      "cell_type": "code",
      "metadata": {
        "colab": {
          "base_uri": "https://localhost:8080/",
          "height": 450
        },
        "id": "1m2UT2X7IYIy",
        "outputId": "37092b2b-c353-447a-c2be-c1933315e2a6"
      },
      "source": [
        "campinas_isolamento_lagged"
      ],
      "execution_count": null,
      "outputs": [
        {
          "output_type": "execute_result",
          "data": {
            "text/html": [
              "<div>\n",
              "<style scoped>\n",
              "    .dataframe tbody tr th:only-of-type {\n",
              "        vertical-align: middle;\n",
              "    }\n",
              "\n",
              "    .dataframe tbody tr th {\n",
              "        vertical-align: top;\n",
              "    }\n",
              "\n",
              "    .dataframe thead th {\n",
              "        text-align: right;\n",
              "    }\n",
              "</style>\n",
              "<table border=\"1\" class=\"dataframe\">\n",
              "  <thead>\n",
              "    <tr style=\"text-align: right;\">\n",
              "      <th></th>\n",
              "      <th>date_1</th>\n",
              "      <th>date_2</th>\n",
              "      <th>date_3</th>\n",
              "      <th>date_4</th>\n",
              "      <th>date_5</th>\n",
              "      <th>date_6</th>\n",
              "    </tr>\n",
              "    <tr>\n",
              "      <th>datahora</th>\n",
              "      <th></th>\n",
              "      <th></th>\n",
              "      <th></th>\n",
              "      <th></th>\n",
              "      <th></th>\n",
              "      <th></th>\n",
              "    </tr>\n",
              "  </thead>\n",
              "  <tbody>\n",
              "    <tr>\n",
              "      <th>2020-02-25</th>\n",
              "      <td>NaN</td>\n",
              "      <td>NaN</td>\n",
              "      <td>NaN</td>\n",
              "      <td>NaN</td>\n",
              "      <td>NaN</td>\n",
              "      <td>NaN</td>\n",
              "    </tr>\n",
              "    <tr>\n",
              "      <th>2020-02-26</th>\n",
              "      <td>0.0</td>\n",
              "      <td>NaN</td>\n",
              "      <td>NaN</td>\n",
              "      <td>NaN</td>\n",
              "      <td>NaN</td>\n",
              "      <td>NaN</td>\n",
              "    </tr>\n",
              "    <tr>\n",
              "      <th>2020-02-27</th>\n",
              "      <td>0.0</td>\n",
              "      <td>0.0</td>\n",
              "      <td>NaN</td>\n",
              "      <td>NaN</td>\n",
              "      <td>NaN</td>\n",
              "      <td>NaN</td>\n",
              "    </tr>\n",
              "    <tr>\n",
              "      <th>2020-02-28</th>\n",
              "      <td>0.0</td>\n",
              "      <td>0.0</td>\n",
              "      <td>0.0</td>\n",
              "      <td>NaN</td>\n",
              "      <td>NaN</td>\n",
              "      <td>NaN</td>\n",
              "    </tr>\n",
              "    <tr>\n",
              "      <th>2020-02-29</th>\n",
              "      <td>0.0</td>\n",
              "      <td>0.0</td>\n",
              "      <td>0.0</td>\n",
              "      <td>0.0</td>\n",
              "      <td>NaN</td>\n",
              "      <td>NaN</td>\n",
              "    </tr>\n",
              "    <tr>\n",
              "      <th>...</th>\n",
              "      <td>...</td>\n",
              "      <td>...</td>\n",
              "      <td>...</td>\n",
              "      <td>...</td>\n",
              "      <td>...</td>\n",
              "      <td>...</td>\n",
              "    </tr>\n",
              "    <tr>\n",
              "      <th>2021-04-16</th>\n",
              "      <td>2768.0</td>\n",
              "      <td>2740.0</td>\n",
              "      <td>2706.0</td>\n",
              "      <td>2663.0</td>\n",
              "      <td>2660.0</td>\n",
              "      <td>2650.0</td>\n",
              "    </tr>\n",
              "    <tr>\n",
              "      <th>2021-04-17</th>\n",
              "      <td>2783.0</td>\n",
              "      <td>2768.0</td>\n",
              "      <td>2740.0</td>\n",
              "      <td>2706.0</td>\n",
              "      <td>2663.0</td>\n",
              "      <td>2660.0</td>\n",
              "    </tr>\n",
              "    <tr>\n",
              "      <th>2021-04-18</th>\n",
              "      <td>2818.0</td>\n",
              "      <td>2783.0</td>\n",
              "      <td>2768.0</td>\n",
              "      <td>2740.0</td>\n",
              "      <td>2706.0</td>\n",
              "      <td>2663.0</td>\n",
              "    </tr>\n",
              "    <tr>\n",
              "      <th>2021-04-19</th>\n",
              "      <td>2823.0</td>\n",
              "      <td>2818.0</td>\n",
              "      <td>2783.0</td>\n",
              "      <td>2768.0</td>\n",
              "      <td>2740.0</td>\n",
              "      <td>2706.0</td>\n",
              "    </tr>\n",
              "    <tr>\n",
              "      <th>2021-04-20</th>\n",
              "      <td>2825.0</td>\n",
              "      <td>2823.0</td>\n",
              "      <td>2818.0</td>\n",
              "      <td>2783.0</td>\n",
              "      <td>2768.0</td>\n",
              "      <td>2740.0</td>\n",
              "    </tr>\n",
              "  </tbody>\n",
              "</table>\n",
              "<p>421 rows × 6 columns</p>\n",
              "</div>"
            ],
            "text/plain": [
              "            date_1  date_2  date_3  date_4  date_5  date_6\n",
              "datahora                                                  \n",
              "2020-02-25     NaN     NaN     NaN     NaN     NaN     NaN\n",
              "2020-02-26     0.0     NaN     NaN     NaN     NaN     NaN\n",
              "2020-02-27     0.0     0.0     NaN     NaN     NaN     NaN\n",
              "2020-02-28     0.0     0.0     0.0     NaN     NaN     NaN\n",
              "2020-02-29     0.0     0.0     0.0     0.0     NaN     NaN\n",
              "...            ...     ...     ...     ...     ...     ...\n",
              "2021-04-16  2768.0  2740.0  2706.0  2663.0  2660.0  2650.0\n",
              "2021-04-17  2783.0  2768.0  2740.0  2706.0  2663.0  2660.0\n",
              "2021-04-18  2818.0  2783.0  2768.0  2740.0  2706.0  2663.0\n",
              "2021-04-19  2823.0  2818.0  2783.0  2768.0  2740.0  2706.0\n",
              "2021-04-20  2825.0  2823.0  2818.0  2783.0  2768.0  2740.0\n",
              "\n",
              "[421 rows x 6 columns]"
            ]
          },
          "metadata": {
            "tags": []
          },
          "execution_count": 31
        }
      ]
    },
    {
      "cell_type": "code",
      "metadata": {
        "id": "dURBMsiuAzqt"
      },
      "source": [
        "campinas_isolamento_lagged = campinas_isolamento_lagged.fillna(0)"
      ],
      "execution_count": null,
      "outputs": []
    },
    {
      "cell_type": "code",
      "metadata": {
        "colab": {
          "base_uri": "https://localhost:8080/",
          "height": 450
        },
        "id": "EJQEsMVx_TnD",
        "outputId": "bffa38a8-203d-4ef1-f2c4-c70e5abc0d2b"
      },
      "source": [
        "campinas_isolamento_lagged"
      ],
      "execution_count": null,
      "outputs": [
        {
          "output_type": "execute_result",
          "data": {
            "text/html": [
              "<div>\n",
              "<style scoped>\n",
              "    .dataframe tbody tr th:only-of-type {\n",
              "        vertical-align: middle;\n",
              "    }\n",
              "\n",
              "    .dataframe tbody tr th {\n",
              "        vertical-align: top;\n",
              "    }\n",
              "\n",
              "    .dataframe thead th {\n",
              "        text-align: right;\n",
              "    }\n",
              "</style>\n",
              "<table border=\"1\" class=\"dataframe\">\n",
              "  <thead>\n",
              "    <tr style=\"text-align: right;\">\n",
              "      <th></th>\n",
              "      <th>date_1</th>\n",
              "      <th>date_2</th>\n",
              "      <th>date_3</th>\n",
              "      <th>date_4</th>\n",
              "      <th>date_5</th>\n",
              "      <th>date_6</th>\n",
              "    </tr>\n",
              "    <tr>\n",
              "      <th>datahora</th>\n",
              "      <th></th>\n",
              "      <th></th>\n",
              "      <th></th>\n",
              "      <th></th>\n",
              "      <th></th>\n",
              "      <th></th>\n",
              "    </tr>\n",
              "  </thead>\n",
              "  <tbody>\n",
              "    <tr>\n",
              "      <th>2020-02-25</th>\n",
              "      <td>0.0</td>\n",
              "      <td>0.0</td>\n",
              "      <td>0.0</td>\n",
              "      <td>0.0</td>\n",
              "      <td>0.0</td>\n",
              "      <td>0.0</td>\n",
              "    </tr>\n",
              "    <tr>\n",
              "      <th>2020-02-26</th>\n",
              "      <td>0.0</td>\n",
              "      <td>0.0</td>\n",
              "      <td>0.0</td>\n",
              "      <td>0.0</td>\n",
              "      <td>0.0</td>\n",
              "      <td>0.0</td>\n",
              "    </tr>\n",
              "    <tr>\n",
              "      <th>2020-02-27</th>\n",
              "      <td>0.0</td>\n",
              "      <td>0.0</td>\n",
              "      <td>0.0</td>\n",
              "      <td>0.0</td>\n",
              "      <td>0.0</td>\n",
              "      <td>0.0</td>\n",
              "    </tr>\n",
              "    <tr>\n",
              "      <th>2020-02-28</th>\n",
              "      <td>0.0</td>\n",
              "      <td>0.0</td>\n",
              "      <td>0.0</td>\n",
              "      <td>0.0</td>\n",
              "      <td>0.0</td>\n",
              "      <td>0.0</td>\n",
              "    </tr>\n",
              "    <tr>\n",
              "      <th>2020-02-29</th>\n",
              "      <td>0.0</td>\n",
              "      <td>0.0</td>\n",
              "      <td>0.0</td>\n",
              "      <td>0.0</td>\n",
              "      <td>0.0</td>\n",
              "      <td>0.0</td>\n",
              "    </tr>\n",
              "    <tr>\n",
              "      <th>...</th>\n",
              "      <td>...</td>\n",
              "      <td>...</td>\n",
              "      <td>...</td>\n",
              "      <td>...</td>\n",
              "      <td>...</td>\n",
              "      <td>...</td>\n",
              "    </tr>\n",
              "    <tr>\n",
              "      <th>2021-04-16</th>\n",
              "      <td>2768.0</td>\n",
              "      <td>2740.0</td>\n",
              "      <td>2706.0</td>\n",
              "      <td>2663.0</td>\n",
              "      <td>2660.0</td>\n",
              "      <td>2650.0</td>\n",
              "    </tr>\n",
              "    <tr>\n",
              "      <th>2021-04-17</th>\n",
              "      <td>2783.0</td>\n",
              "      <td>2768.0</td>\n",
              "      <td>2740.0</td>\n",
              "      <td>2706.0</td>\n",
              "      <td>2663.0</td>\n",
              "      <td>2660.0</td>\n",
              "    </tr>\n",
              "    <tr>\n",
              "      <th>2021-04-18</th>\n",
              "      <td>2818.0</td>\n",
              "      <td>2783.0</td>\n",
              "      <td>2768.0</td>\n",
              "      <td>2740.0</td>\n",
              "      <td>2706.0</td>\n",
              "      <td>2663.0</td>\n",
              "    </tr>\n",
              "    <tr>\n",
              "      <th>2021-04-19</th>\n",
              "      <td>2823.0</td>\n",
              "      <td>2818.0</td>\n",
              "      <td>2783.0</td>\n",
              "      <td>2768.0</td>\n",
              "      <td>2740.0</td>\n",
              "      <td>2706.0</td>\n",
              "    </tr>\n",
              "    <tr>\n",
              "      <th>2021-04-20</th>\n",
              "      <td>2825.0</td>\n",
              "      <td>2823.0</td>\n",
              "      <td>2818.0</td>\n",
              "      <td>2783.0</td>\n",
              "      <td>2768.0</td>\n",
              "      <td>2740.0</td>\n",
              "    </tr>\n",
              "  </tbody>\n",
              "</table>\n",
              "<p>421 rows × 6 columns</p>\n",
              "</div>"
            ],
            "text/plain": [
              "            date_1  date_2  date_3  date_4  date_5  date_6\n",
              "datahora                                                  \n",
              "2020-02-25     0.0     0.0     0.0     0.0     0.0     0.0\n",
              "2020-02-26     0.0     0.0     0.0     0.0     0.0     0.0\n",
              "2020-02-27     0.0     0.0     0.0     0.0     0.0     0.0\n",
              "2020-02-28     0.0     0.0     0.0     0.0     0.0     0.0\n",
              "2020-02-29     0.0     0.0     0.0     0.0     0.0     0.0\n",
              "...            ...     ...     ...     ...     ...     ...\n",
              "2021-04-16  2768.0  2740.0  2706.0  2663.0  2660.0  2650.0\n",
              "2021-04-17  2783.0  2768.0  2740.0  2706.0  2663.0  2660.0\n",
              "2021-04-18  2818.0  2783.0  2768.0  2740.0  2706.0  2663.0\n",
              "2021-04-19  2823.0  2818.0  2783.0  2768.0  2740.0  2706.0\n",
              "2021-04-20  2825.0  2823.0  2818.0  2783.0  2768.0  2740.0\n",
              "\n",
              "[421 rows x 6 columns]"
            ]
          },
          "metadata": {
            "tags": []
          },
          "execution_count": 33
        }
      ]
    },
    {
      "cell_type": "markdown",
      "metadata": {
        "id": "qhPOzjeHKDTh"
      },
      "source": [
        "## SVR"
      ]
    },
    {
      "cell_type": "code",
      "metadata": {
        "id": "5-1aCJvCB-hF"
      },
      "source": [
        "case_train = campinas_isolamento_lagged[:294]\n",
        "label_train = obitos[:294]\n",
        "\n",
        "case_test = campinas_isolamento_lagged[294:]\n",
        "label_test = obitos[294:]"
      ],
      "execution_count": null,
      "outputs": []
    },
    {
      "cell_type": "code",
      "metadata": {
        "id": "99aKVhtpwBpz"
      },
      "source": [
        "from sklearn import svm\n",
        "from sklearn.pipeline import make_pipeline\n",
        "from sklearn.preprocessing import StandardScaler"
      ],
      "execution_count": null,
      "outputs": []
    },
    {
      "cell_type": "code",
      "metadata": {
        "colab": {
          "base_uri": "https://localhost:8080/"
        },
        "id": "RU7jqKv7JPDO",
        "outputId": "2a195a28-f224-47ac-8e4b-e55f4076a603"
      },
      "source": [
        "clf = make_pipeline(StandardScaler(),\n",
        "                    svm.SVR(max_iter=5000, kernel='linear'))\n",
        "clf.fit(case_train, label_train)"
      ],
      "execution_count": null,
      "outputs": [
        {
          "output_type": "execute_result",
          "data": {
            "text/plain": [
              "Pipeline(memory=None,\n",
              "         steps=[('standardscaler',\n",
              "                 StandardScaler(copy=True, with_mean=True, with_std=True)),\n",
              "                ('svr',\n",
              "                 SVR(C=1.0, cache_size=200, coef0=0.0, degree=3, epsilon=0.1,\n",
              "                     gamma='scale', kernel='linear', max_iter=5000,\n",
              "                     shrinking=True, tol=0.001, verbose=False))],\n",
              "         verbose=False)"
            ]
          },
          "metadata": {
            "tags": []
          },
          "execution_count": 50
        }
      ]
    },
    {
      "cell_type": "code",
      "metadata": {
        "id": "fBs0sugdMWQx"
      },
      "source": [
        "r = clf.score(case_test, label_test)"
      ],
      "execution_count": null,
      "outputs": []
    },
    {
      "cell_type": "code",
      "metadata": {
        "colab": {
          "base_uri": "https://localhost:8080/"
        },
        "id": "HSKM2mKxMtWH",
        "outputId": "9cbccf59-d04f-4740-972c-ee483f39d327"
      },
      "source": [
        "r"
      ],
      "execution_count": null,
      "outputs": [
        {
          "output_type": "execute_result",
          "data": {
            "text/plain": [
              "0.9891754871164236"
            ]
          },
          "metadata": {
            "tags": []
          },
          "execution_count": 52
        }
      ]
    },
    {
      "cell_type": "code",
      "metadata": {
        "id": "NSG2C_hbPwof"
      },
      "source": [
        "campinas_train_predict = clf.predict(case_train)"
      ],
      "execution_count": null,
      "outputs": []
    },
    {
      "cell_type": "code",
      "metadata": {
        "id": "WJqJIU_KKHcm"
      },
      "source": [
        "campinas_test_predict = clf.predict(case_test)"
      ],
      "execution_count": null,
      "outputs": []
    },
    {
      "cell_type": "code",
      "metadata": {
        "colab": {
          "base_uri": "https://localhost:8080/",
          "height": 265
        },
        "id": "VjJcxb13JHBV",
        "outputId": "0624b6dd-6f07-4f18-e633-dbc1c4fb00dd"
      },
      "source": [
        "plt.plot(case_train.index, label_train, label=\"real\")\n",
        "plt.plot(case_train.index, campinas_train_predict, label=\"Predicted\")\n",
        "plt.plot(case_test.index, label_test, label=\"real test\")\n",
        "plt.plot(case_test.index, campinas_test_predict, label=\"Predicted test\")\n",
        "plt.show()"
      ],
      "execution_count": null,
      "outputs": [
        {
          "output_type": "display_data",
          "data": {
            "image/png": "[encoded data removed]",
            "text/plain": [
              "<Figure size 432x288 with 1 Axes>"
            ]
          },
          "metadata": {
            "tags": [],
            "needs_background": "light"
          }
        }
      ]
    },
    {
      "cell_type": "code",
      "metadata": {
        "colab": {
          "base_uri": "https://localhost:8080/"
        },
        "id": "QhJhn6sjPCWH",
        "outputId": "fb2ebad5-2abd-474f-cf16-db6a90305a9d"
      },
      "source": [
        "from sklearn.metrics import mean_squared_error\n",
        "mse = mean_squared_error(label_test, campinas_test_predict)\n",
        "mse"
      ],
      "execution_count": null,
      "outputs": [
        {
          "output_type": "execute_result",
          "data": {
            "text/plain": [
              "1806.9540693486422"
            ]
          },
          "metadata": {
            "tags": []
          },
          "execution_count": 56
        }
      ]
    },
    {
      "cell_type": "markdown",
      "metadata": {
        "id": "-s7MV72lOxdx"
      },
      "source": [
        "## SGD"
      ]
    },
    {
      "cell_type": "code",
      "metadata": {
        "id": "zxKKiP1DJ3V_"
      },
      "source": [
        "case_train = campinas_isolamento_lagged[:294]\n",
        "label_train = obitos[:294]\n",
        "\n",
        "case_test = campinas_isolamento_lagged[294:]\n",
        "label_test = obitos[294:]"
      ],
      "execution_count": null,
      "outputs": []
    },
    {
      "cell_type": "code",
      "metadata": {
        "id": "NPxjsk4EMe_Y"
      },
      "source": [
        "from sklearn.linear_model import SGDRegressor\n",
        "from sklearn.pipeline import make_pipeline\n",
        "from sklearn.preprocessing import StandardScaler"
      ],
      "execution_count": null,
      "outputs": []
    },
    {
      "cell_type": "code",
      "metadata": {
        "id": "I-tK7WWGMip4"
      },
      "source": [
        "reg = make_pipeline(StandardScaler(),\n",
        "                    SGDRegressor(max_iter=1000, tol=1e-3))"
      ],
      "execution_count": null,
      "outputs": []
    },
    {
      "cell_type": "code",
      "metadata": {
        "colab": {
          "base_uri": "https://localhost:8080/"
        },
        "id": "ENbR7y_mMpqO",
        "outputId": "1fe484ca-cf41-4a1c-ec2c-19324a1f3318"
      },
      "source": [
        "reg.fit(case_train, label_train)"
      ],
      "execution_count": null,
      "outputs": [
        {
          "output_type": "execute_result",
          "data": {
            "text/plain": [
              "Pipeline(memory=None,\n",
              "         steps=[('standardscaler',\n",
              "                 StandardScaler(copy=True, with_mean=True, with_std=True)),\n",
              "                ('sgdregressor',\n",
              "                 SGDRegressor(alpha=0.0001, average=False, early_stopping=False,\n",
              "                              epsilon=0.1, eta0=0.01, fit_intercept=True,\n",
              "                              l1_ratio=0.15, learning_rate='invscaling',\n",
              "                              loss='squared_loss', max_iter=1000,\n",
              "                              n_iter_no_change=5, penalty='l2', power_t=0.25,\n",
              "                              random_state=None, shuffle=True, tol=0.001,\n",
              "                              validation_fraction=0.1, verbose=0,\n",
              "                              warm_start=False))],\n",
              "         verbose=False)"
            ]
          },
          "metadata": {
            "tags": []
          },
          "execution_count": 60
        }
      ]
    },
    {
      "cell_type": "code",
      "metadata": {
        "colab": {
          "base_uri": "https://localhost:8080/"
        },
        "id": "hTNBp9g-MtOK",
        "outputId": "9bf96faf-b14c-43bc-c870-b86bea392e5f"
      },
      "source": [
        "r = reg.score(case_test, label_test)\n",
        "r"
      ],
      "execution_count": null,
      "outputs": [
        {
          "output_type": "execute_result",
          "data": {
            "text/plain": [
              "0.9941595754757001"
            ]
          },
          "metadata": {
            "tags": []
          },
          "execution_count": 61
        }
      ]
    },
    {
      "cell_type": "code",
      "metadata": {
        "id": "q7EU5PYFM0xa"
      },
      "source": [
        "campinas_train_predict = reg.predict(case_train)\n",
        "campinas_test_predict = reg.predict(case_test)"
      ],
      "execution_count": null,
      "outputs": []
    },
    {
      "cell_type": "code",
      "metadata": {
        "colab": {
          "base_uri": "https://localhost:8080/",
          "height": 265
        },
        "id": "Rjr7JEyLM7-f",
        "outputId": "b34b7d7c-a873-4d01-96bf-9cc9eee23227"
      },
      "source": [
        "plt.plot(case_train.index, label_train, label=\"real\")\n",
        "plt.plot(case_train.index, campinas_train_predict, label=\"Predicted\")\n",
        "plt.plot(case_test.index, label_test, label=\"real test\")\n",
        "plt.plot(case_test.index, campinas_test_predict, label=\"Predicted test\")\n",
        "plt.show()\n",
        "plt.rcParams[\"figure.figsize\"] = (60,20)"
      ],
      "execution_count": null,
      "outputs": [
        {
          "output_type": "display_data",
          "data": {
            "image/png": "[encoded data removed]",
            "text/plain": [
              "<Figure size 432x288 with 1 Axes>"
            ]
          },
          "metadata": {
            "tags": [],
            "needs_background": "light"
          }
        }
      ]
    },
    {
      "cell_type": "code",
      "metadata": {
        "colab": {
          "base_uri": "https://localhost:8080/"
        },
        "id": "vj4d6nDKNw8-",
        "outputId": "ab210899-b19d-4864-88bb-c52d8d7c2da7"
      },
      "source": [
        "from sklearn.metrics import mean_squared_error\n",
        "mse = mean_squared_error(label_test, campinas_test_predict)\n",
        "mse"
      ],
      "execution_count": null,
      "outputs": [
        {
          "output_type": "execute_result",
          "data": {
            "text/plain": [
              "974.9518499737036"
            ]
          },
          "metadata": {
            "tags": []
          },
          "execution_count": 64
        }
      ]
    },
    {
      "cell_type": "markdown",
      "metadata": {
        "id": "H-0pWXkGOYUI"
      },
      "source": [
        "## Ada boost\n"
      ]
    },
    {
      "cell_type": "code",
      "metadata": {
        "id": "kgGg-2UIOZyO"
      },
      "source": [
        "from sklearn.ensemble import AdaBoostRegressor\n",
        "from sklearn.pipeline import make_pipeline\n",
        "from sklearn.preprocessing import StandardScaler"
      ],
      "execution_count": null,
      "outputs": []
    },
    {
      "cell_type": "code",
      "metadata": {
        "id": "wnaT2dLNeId2"
      },
      "source": [
        "case_train = campinas_isolamento_lagged[:294]\n",
        "label_train = obitos[:294]\n",
        "\n",
        "case_test = campinas_isolamento_lagged[294:]\n",
        "label_test = obitos[294:]"
      ],
      "execution_count": null,
      "outputs": []
    },
    {
      "cell_type": "code",
      "metadata": {
        "colab": {
          "base_uri": "https://localhost:8080/"
        },
        "id": "sRg9vqT2OaRb",
        "outputId": "fa620c97-679d-403e-b239-c033f67bf7a8"
      },
      "source": [
        "reg = make_pipeline(StandardScaler(),\n",
        "                    AdaBoostRegressor(random_state=0, n_estimators=200))\n",
        "reg.fit(case_train, label_train)"
      ],
      "execution_count": null,
      "outputs": [
        {
          "output_type": "execute_result",
          "data": {
            "text/plain": [
              "Pipeline(memory=None,\n",
              "         steps=[('standardscaler',\n",
              "                 StandardScaler(copy=True, with_mean=True, with_std=True)),\n",
              "                ('adaboostregressor',\n",
              "                 AdaBoostRegressor(base_estimator=None, learning_rate=1.0,\n",
              "                                   loss='linear', n_estimators=200,\n",
              "                                   random_state=0))],\n",
              "         verbose=False)"
            ]
          },
          "metadata": {
            "tags": []
          },
          "execution_count": 22
        }
      ]
    },
    {
      "cell_type": "code",
      "metadata": {
        "colab": {
          "base_uri": "https://localhost:8080/"
        },
        "id": "7wwSrnueOiA7",
        "outputId": "be187a8e-d655-45d8-fad9-488b9ec9bf44"
      },
      "source": [
        "r = reg.score(case_test, label_test)\n",
        "r"
      ],
      "execution_count": null,
      "outputs": [
        {
          "output_type": "execute_result",
          "data": {
            "text/plain": [
              "-1.7132829789921045"
            ]
          },
          "metadata": {
            "tags": []
          },
          "execution_count": 23
        }
      ]
    },
    {
      "cell_type": "code",
      "metadata": {
        "id": "IbIsrFKNOsUl"
      },
      "source": [
        "campinas_train_predict = reg.predict(case_train)\n",
        "campinas_test_predict = reg.predict(case_test)"
      ],
      "execution_count": null,
      "outputs": []
    },
    {
      "cell_type": "code",
      "metadata": {
        "colab": {
          "base_uri": "https://localhost:8080/",
          "height": 265
        },
        "id": "YyYnplRgO1bt",
        "outputId": "7c88f861-9067-45cc-b248-b9ce30c686ca"
      },
      "source": [
        "plt.plot(case_train.index, label_train, label=\"real\")\n",
        "plt.plot(case_train.index, campinas_train_predict, label=\"Predicted\")\n",
        "plt.plot(case_test.index, label_test, label=\"real test\")\n",
        "plt.plot(case_test.index, campinas_test_predict, label=\"Predicted test\")\n",
        "plt.show()\n",
        "plt.rcParams[\"figure.figsize\"] = (60,20)"
      ],
      "execution_count": null,
      "outputs": [
        {
          "output_type": "display_data",
          "data": {
            "image/png": "[encoded data removed]",
            "text/plain": [
              "<Figure size 432x288 with 1 Axes>"
            ]
          },
          "metadata": {
            "tags": [],
            "needs_background": "light"
          }
        }
      ]
    },
    {
      "cell_type": "code",
      "metadata": {
        "colab": {
          "base_uri": "https://localhost:8080/"
        },
        "id": "4tdtZtd8O3FX",
        "outputId": "e87e20be-83ef-4445-c975-952c8e1fd967"
      },
      "source": [
        "from sklearn.metrics import mean_squared_error\n",
        "mse = mean_squared_error(label_test, campinas_test_predict)\n",
        "mse"
      ],
      "execution_count": null,
      "outputs": [
        {
          "output_type": "execute_result",
          "data": {
            "text/plain": [
              "452932.8730924206"
            ]
          },
          "metadata": {
            "tags": []
          },
          "execution_count": 26
        }
      ]
    },
    {
      "cell_type": "markdown",
      "metadata": {
        "id": "cJeqXvfgRm-o"
      },
      "source": [
        "## NN"
      ]
    },
    {
      "cell_type": "code",
      "metadata": {
        "id": "9QZ9hHjIO55V"
      },
      "source": [
        "from sklearn.neural_network import MLPRegressor"
      ],
      "execution_count": null,
      "outputs": []
    },
    {
      "cell_type": "code",
      "metadata": {
        "colab": {
          "base_uri": "https://localhost:8080/"
        },
        "id": "0_xZXbs_QyxT",
        "outputId": "179596a3-7d7b-42d5-ee9d-c132db605c64"
      },
      "source": [
        "reg = make_pipeline(StandardScaler(),\n",
        "                    MLPRegressor(random_state=1, max_iter=8000, hidden_layer_sizes=(100,)))\n",
        "reg.fit(case_train, label_train)"
      ],
      "execution_count": null,
      "outputs": [
        {
          "output_type": "execute_result",
          "data": {
            "text/plain": [
              "Pipeline(memory=None,\n",
              "         steps=[('standardscaler',\n",
              "                 StandardScaler(copy=True, with_mean=True, with_std=True)),\n",
              "                ('mlpregressor',\n",
              "                 MLPRegressor(activation='relu', alpha=0.0001,\n",
              "                              batch_size='auto', beta_1=0.9, beta_2=0.999,\n",
              "                              early_stopping=False, epsilon=1e-08,\n",
              "                              hidden_layer_sizes=(100,),\n",
              "                              learning_rate='constant',\n",
              "                              learning_rate_init=0.001, max_fun=15000,\n",
              "                              max_iter=8000, momentum=0.9, n_iter_no_change=10,\n",
              "                              nesterovs_momentum=True, power_t=0.5,\n",
              "                              random_state=1, shuffle=True, solver='adam',\n",
              "                              tol=0.0001, validation_fraction=0.1,\n",
              "                              verbose=False, warm_start=False))],\n",
              "         verbose=False)"
            ]
          },
          "metadata": {
            "tags": []
          },
          "execution_count": 58
        }
      ]
    },
    {
      "cell_type": "code",
      "metadata": {
        "colab": {
          "base_uri": "https://localhost:8080/"
        },
        "id": "2_7Alf3yRDSC",
        "outputId": "2e4c8bbd-d5c7-4eb2-9ba8-23ef1454cecb"
      },
      "source": [
        "r = reg.score(case_test, label_test)\n",
        "r"
      ],
      "execution_count": null,
      "outputs": [
        {
          "output_type": "execute_result",
          "data": {
            "text/plain": [
              "0.973269482593943"
            ]
          },
          "metadata": {
            "tags": []
          },
          "execution_count": 59
        }
      ]
    },
    {
      "cell_type": "code",
      "metadata": {
        "id": "AXq-r8YcRGCG"
      },
      "source": [
        "campinas_train_predict = reg.predict(case_train)\n",
        "campinas_test_predict = reg.predict(case_test)"
      ],
      "execution_count": null,
      "outputs": []
    },
    {
      "cell_type": "code",
      "metadata": {
        "colab": {
          "base_uri": "https://localhost:8080/",
          "height": 510
        },
        "id": "3pIIFaMuRHvL",
        "outputId": "daa31476-053f-4577-9875-056db6c41989"
      },
      "source": [
        "plt.plot(case_train.index, label_train, label=\"real\")\n",
        "plt.plot(case_train.index, campinas_train_predict, label=\"Predicted\")\n",
        "plt.plot(case_test.index, label_test, label=\"real test\")\n",
        "plt.plot(case_test.index, campinas_test_predict, label=\"Predicted test\")\n",
        "plt.rcParams[\"figure.figsize\"] = (60,20)\n",
        "plt.show()"
      ],
      "execution_count": null,
      "outputs": [
        {
          "output_type": "display_data",
          "data": {
            "image/png": "[encoded data removed]",
            "text/plain": [
              "<Figure size 4320x1440 with 1 Axes>"
            ]
          },
          "metadata": {
            "tags": [],
            "needs_background": "light"
          }
        }
      ]
    },
    {
      "cell_type": "code",
      "metadata": {
        "colab": {
          "base_uri": "https://localhost:8080/"
        },
        "id": "oo99AQfkRJRd",
        "outputId": "6f9f6f28-0e59-402c-9f2e-0fc24b79e8f6"
      },
      "source": [
        "from sklearn.metrics import mean_squared_error\n",
        "mse = mean_squared_error(label_test, campinas_test_predict)\n",
        "mse"
      ],
      "execution_count": null,
      "outputs": [
        {
          "output_type": "execute_result",
          "data": {
            "text/plain": [
              "4462.170050714618"
            ]
          },
          "metadata": {
            "tags": []
          },
          "execution_count": 62
        }
      ]
    },
    {
      "cell_type": "code",
      "metadata": {
        "id": "qhi2iE29RNDV"
      },
      "source": [
        ""
      ],
      "execution_count": null,
      "outputs": []
    }
  ]
}