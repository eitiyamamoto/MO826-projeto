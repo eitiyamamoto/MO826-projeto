{
  "nbformat": 4,
  "nbformat_minor": 0,
  "metadata": {
    "colab": {
      "name": "projeto-MO826-correlation.ipynb",
      "provenance": [],
      "collapsed_sections": [
        "4R_s0Mp7G4ZP",
        "sHbVphVQ0rA4",
        "lKQFqkus_7lb",
        "X_gD04c6AA37",
        "qMpvz3EQdfsM"
      ],
      "toc_visible": true
    },
    "kernelspec": {
      "name": "python3",
      "display_name": "Python 3"
    },
    "language_info": {
      "name": "python"
    }
  },
  "cells": [
    {
      "cell_type": "markdown",
      "metadata": {
        "id": "SMQhMqoMG0TN"
      },
      "source": [
        "# Configuração"
      ]
    },
    {
      "cell_type": "code",
      "metadata": {
        "colab": {
          "base_uri": "https://localhost:8080/",
          "height": 1000
        },
        "id": "nOxvMGodOXuD",
        "outputId": "f42e11b9-091e-4696-fd90-135e9fc88f90"
      },
      "source": [
        "!pip uninstall numpy\n",
        "!pip install numpy\n",
        "\n",
        "!pip install pmdarima"
      ],
      "execution_count": null,
      "outputs": [
        {
          "output_type": "stream",
          "text": [
            "Uninstalling numpy-1.19.5:\n",
            "  Would remove:\n",
            "    /usr/bin/f2py\n",
            "    /usr/local/bin/f2py\n",
            "    /usr/local/bin/f2py3\n",
            "    /usr/local/bin/f2py3.7\n",
            "    /usr/local/lib/python3.7/dist-packages/numpy-1.19.5.dist-info/*\n",
            "    /usr/local/lib/python3.7/dist-packages/numpy.libs/libgfortran-2e0d59d6.so.5.0.0\n",
            "    /usr/local/lib/python3.7/dist-packages/numpy.libs/libopenblasp-r0-09e95953.3.13.so\n",
            "    /usr/local/lib/python3.7/dist-packages/numpy.libs/libquadmath-2d0c479f.so.0.0.0\n",
            "    /usr/local/lib/python3.7/dist-packages/numpy.libs/libz-eb09ad1d.so.1.2.3\n",
            "    /usr/local/lib/python3.7/dist-packages/numpy/*\n",
            "Proceed (y/n)? y\n",
            "  Successfully uninstalled numpy-1.19.5\n",
            "Collecting numpy\n",
            "\u001b[?25l  Downloading https://files.pythonhosted.org/packages/a5/42/560d269f604d3e186a57c21a363e77e199358d054884e61b73e405dd217c/numpy-1.20.3-cp37-cp37m-manylinux_2_12_x86_64.manylinux2010_x86_64.whl (15.3MB)\n",
            "\u001b[K     |████████████████████████████████| 15.3MB 233kB/s \n",
            "\u001b[31mERROR: tensorflow 2.4.1 has requirement numpy~=1.19.2, but you'll have numpy 1.20.3 which is incompatible.\u001b[0m\n",
            "\u001b[31mERROR: datascience 0.10.6 has requirement folium==0.2.1, but you'll have folium 0.8.3 which is incompatible.\u001b[0m\n",
            "\u001b[31mERROR: albumentations 0.1.12 has requirement imgaug<0.2.7,>=0.2.5, but you'll have imgaug 0.2.9 which is incompatible.\u001b[0m\n",
            "\u001b[?25hInstalling collected packages: numpy\n",
            "Successfully installed numpy-1.20.3\n"
          ],
          "name": "stdout"
        },
        {
          "output_type": "display_data",
          "data": {
            "application/vnd.colab-display-data+json": {
              "pip_warning": {
                "packages": [
                  "numpy"
                ]
              }
            }
          },
          "metadata": {
            "tags": []
          }
        },
        {
          "output_type": "stream",
          "text": [
            "Collecting pmdarima\n",
            "\u001b[?25l  Downloading https://files.pythonhosted.org/packages/f4/c2/2a94bce6bba1deac3c0b16dbb14f28de0b9035e3211919cae8448455aa65/pmdarima-1.8.2-cp37-cp37m-manylinux1_x86_64.whl (1.5MB)\n",
            "\u001b[K     |████████████████████████████████| 1.5MB 3.0MB/s \n",
            "\u001b[?25hCollecting statsmodels!=0.12.0,>=0.11\n",
            "\u001b[?25l  Downloading https://files.pythonhosted.org/packages/da/69/8eef30a6237c54f3c0b524140e2975f4b1eea3489b45eb3339574fc8acee/statsmodels-0.12.2-cp37-cp37m-manylinux1_x86_64.whl (9.5MB)\n",
            "\u001b[K     |████████████████████████████████| 9.5MB 19.3MB/s \n",
            "\u001b[?25hRequirement already satisfied: urllib3 in /usr/local/lib/python3.7/dist-packages (from pmdarima) (1.24.3)\n",
            "Requirement already satisfied: scikit-learn>=0.22 in /usr/local/lib/python3.7/dist-packages (from pmdarima) (0.22.2.post1)\n",
            "Requirement already satisfied: setuptools!=50.0.0,>=38.6.0 in /usr/local/lib/python3.7/dist-packages (from pmdarima) (56.1.0)\n",
            "Requirement already satisfied: pandas>=0.19 in /usr/local/lib/python3.7/dist-packages (from pmdarima) (1.1.5)\n",
            "Requirement already satisfied: scipy>=1.3.2 in /usr/local/lib/python3.7/dist-packages (from pmdarima) (1.4.1)\n",
            "Collecting numpy~=1.19.0\n",
            "\u001b[?25l  Downloading https://files.pythonhosted.org/packages/08/d6/a6aaa29fea945bc6c61d11f6e0697b325ff7446de5ffd62c2fa02f627048/numpy-1.19.5-cp37-cp37m-manylinux2010_x86_64.whl (14.8MB)\n",
            "\u001b[K     |████████████████████████████████| 14.8MB 295kB/s \n",
            "\u001b[?25hRequirement already satisfied: joblib>=0.11 in /usr/local/lib/python3.7/dist-packages (from pmdarima) (1.0.1)\n",
            "Requirement already satisfied: Cython!=0.29.18,>=0.29 in /usr/local/lib/python3.7/dist-packages (from pmdarima) (0.29.23)\n",
            "Requirement already satisfied: patsy>=0.5 in /usr/local/lib/python3.7/dist-packages (from statsmodels!=0.12.0,>=0.11->pmdarima) (0.5.1)\n",
            "Requirement already satisfied: pytz>=2017.2 in /usr/local/lib/python3.7/dist-packages (from pandas>=0.19->pmdarima) (2018.9)\n",
            "Requirement already satisfied: python-dateutil>=2.7.3 in /usr/local/lib/python3.7/dist-packages (from pandas>=0.19->pmdarima) (2.8.1)\n",
            "Requirement already satisfied: six in /usr/local/lib/python3.7/dist-packages (from patsy>=0.5->statsmodels!=0.12.0,>=0.11->pmdarima) (1.15.0)\n",
            "\u001b[31mERROR: datascience 0.10.6 has requirement folium==0.2.1, but you'll have folium 0.8.3 which is incompatible.\u001b[0m\n",
            "\u001b[31mERROR: albumentations 0.1.12 has requirement imgaug<0.2.7,>=0.2.5, but you'll have imgaug 0.2.9 which is incompatible.\u001b[0m\n",
            "Installing collected packages: numpy, statsmodels, pmdarima\n",
            "  Found existing installation: numpy 1.20.3\n",
            "    Uninstalling numpy-1.20.3:\n",
            "      Successfully uninstalled numpy-1.20.3\n",
            "  Found existing installation: statsmodels 0.10.2\n",
            "    Uninstalling statsmodels-0.10.2:\n",
            "      Successfully uninstalled statsmodels-0.10.2\n",
            "Successfully installed numpy-1.19.5 pmdarima-1.8.2 statsmodels-0.12.2\n"
          ],
          "name": "stdout"
        },
        {
          "output_type": "display_data",
          "data": {
            "application/vnd.colab-display-data+json": {
              "pip_warning": {
                "packages": [
                  "numpy",
                  "statsmodels"
                ]
              }
            }
          },
          "metadata": {
            "tags": []
          }
        }
      ]
    },
    {
      "cell_type": "code",
      "metadata": {
        "id": "Ov_YHmJZQpT4"
      },
      "source": [
        "#Import modules\n",
        "%matplotlib inline\n",
        "\n",
        "import numpy as np\n",
        "import pandas as pd\n",
        "import matplotlib.pyplot as plt\n",
        "\n",
        "import math\n",
        "from random import shuffle, choice\n",
        "import datetime\n",
        "\n",
        "import matplotlib\n",
        "\n",
        "import scipy.stats as scistats"
      ],
      "execution_count": null,
      "outputs": []
    },
    {
      "cell_type": "code",
      "metadata": {
        "colab": {
          "base_uri": "https://localhost:8080/"
        },
        "id": "GU29lUM4Qrga",
        "outputId": "21e2291a-00ac-4162-d113-1980fed24d58"
      },
      "source": [
        "!git clone https://github.com/eitiyamamoto/MO826-projeto.git"
      ],
      "execution_count": null,
      "outputs": [
        {
          "output_type": "stream",
          "text": [
            "Cloning into 'MO826-projeto'...\n",
            "remote: Enumerating objects: 94, done.\u001b[K\n",
            "remote: Counting objects: 100% (94/94), done.\u001b[K\n",
            "remote: Compressing objects: 100% (73/73), done.\u001b[K\n",
            "remote: Total 94 (delta 29), reused 73 (delta 14), pack-reused 0\u001b[K\n",
            "Unpacking objects: 100% (94/94), done.\n",
            "Checking out files: 100% (46/46), done.\n"
          ],
          "name": "stdout"
        }
      ]
    },
    {
      "cell_type": "code",
      "metadata": {
        "colab": {
          "base_uri": "https://localhost:8080/"
        },
        "id": "-8ByeNU-EDm0",
        "outputId": "6237e14b-8194-43ab-9380-ddbf22498a89"
      },
      "source": [
        "%cd MO826-projeto\n",
        "!ls"
      ],
      "execution_count": null,
      "outputs": [
        {
          "output_type": "stream",
          "text": [
            "/content/MO826-projeto\n",
            "CONTRIBUTING.rst  image        mo826_projeto\t     setup.cfg\n",
            "data\t\t  LICENSE      README.md\t     setup.py\n",
            "docs\t\t  Makefile     README.rst\t     tests\n",
            "HISTORY.rst\t  MANIFEST.in  requirements_dev.txt  tox.ini\n"
          ],
          "name": "stdout"
        }
      ]
    },
    {
      "cell_type": "code",
      "metadata": {
        "colab": {
          "base_uri": "https://localhost:8080/"
        },
        "id": "0NgMCyn6D3L6",
        "outputId": "7213c49b-b5ac-4274-fc39-a789e7ea1f58"
      },
      "source": [
        "!git pull origin master"
      ],
      "execution_count": null,
      "outputs": [
        {
          "output_type": "stream",
          "text": [
            "From https://github.com/eitiyamamoto/MO826-projeto\n",
            " * branch            master     -> FETCH_HEAD\n",
            "Already up to date.\n"
          ],
          "name": "stdout"
        }
      ]
    },
    {
      "cell_type": "markdown",
      "metadata": {
        "id": "4R_s0Mp7G4ZP"
      },
      "source": [
        "# Leitura de dados e pré-processamento"
      ]
    },
    {
      "cell_type": "code",
      "metadata": {
        "id": "uB1txylNQ5ls"
      },
      "source": [
        "isolamento_sao_paulo_data = pd.read_csv('data/raw/20210407_isolamento_utf_8.csv', engine='python', sep=';')"
      ],
      "execution_count": null,
      "outputs": []
    },
    {
      "cell_type": "code",
      "metadata": {
        "colab": {
          "base_uri": "https://localhost:8080/",
          "height": 359
        },
        "id": "4Tyn_CviQ_rD",
        "outputId": "8c4ea921-7777-40a7-b669-3e75f42f7090"
      },
      "source": [
        "isolamento_sao_paulo_data.head(10)"
      ],
      "execution_count": null,
      "outputs": [
        {
          "output_type": "execute_result",
          "data": {
            "text/html": [
              "<div>\n",
              "<style scoped>\n",
              "    .dataframe tbody tr th:only-of-type {\n",
              "        vertical-align: middle;\n",
              "    }\n",
              "\n",
              "    .dataframe tbody tr th {\n",
              "        vertical-align: top;\n",
              "    }\n",
              "\n",
              "    .dataframe thead th {\n",
              "        text-align: right;\n",
              "    }\n",
              "</style>\n",
              "<table border=\"1\" class=\"dataframe\">\n",
              "  <thead>\n",
              "    <tr style=\"text-align: right;\">\n",
              "      <th></th>\n",
              "      <th>Município1</th>\n",
              "      <th>Código Município IBGE</th>\n",
              "      <th>População estimada (2020)</th>\n",
              "      <th>UF1</th>\n",
              "      <th>Data</th>\n",
              "      <th>Média de Índice De Isolamento</th>\n",
              "    </tr>\n",
              "  </thead>\n",
              "  <tbody>\n",
              "    <tr>\n",
              "      <th>0</th>\n",
              "      <td>AMERICANA</td>\n",
              "      <td>3501608</td>\n",
              "      <td>242018</td>\n",
              "      <td>SP</td>\n",
              "      <td>terça-feira, 06/04</td>\n",
              "      <td>40%</td>\n",
              "    </tr>\n",
              "    <tr>\n",
              "      <th>1</th>\n",
              "      <td>AMERICANA</td>\n",
              "      <td>3501608</td>\n",
              "      <td>242018</td>\n",
              "      <td>SP</td>\n",
              "      <td>segunda-feira, 05/04</td>\n",
              "      <td>40%</td>\n",
              "    </tr>\n",
              "    <tr>\n",
              "      <th>2</th>\n",
              "      <td>AMERICANA</td>\n",
              "      <td>3501608</td>\n",
              "      <td>242018</td>\n",
              "      <td>SP</td>\n",
              "      <td>domingo, 04/04</td>\n",
              "      <td>49%</td>\n",
              "    </tr>\n",
              "    <tr>\n",
              "      <th>3</th>\n",
              "      <td>AMERICANA</td>\n",
              "      <td>3501608</td>\n",
              "      <td>242018</td>\n",
              "      <td>SP</td>\n",
              "      <td>sábado, 03/04</td>\n",
              "      <td>44%</td>\n",
              "    </tr>\n",
              "    <tr>\n",
              "      <th>4</th>\n",
              "      <td>AMERICANA</td>\n",
              "      <td>3501608</td>\n",
              "      <td>242018</td>\n",
              "      <td>SP</td>\n",
              "      <td>sexta-feira, 02/04</td>\n",
              "      <td>45%</td>\n",
              "    </tr>\n",
              "    <tr>\n",
              "      <th>5</th>\n",
              "      <td>AMERICANA</td>\n",
              "      <td>3501608</td>\n",
              "      <td>242018</td>\n",
              "      <td>SP</td>\n",
              "      <td>quinta-feira, 01/04</td>\n",
              "      <td>38%</td>\n",
              "    </tr>\n",
              "    <tr>\n",
              "      <th>6</th>\n",
              "      <td>AMERICANA</td>\n",
              "      <td>3501608</td>\n",
              "      <td>242018</td>\n",
              "      <td>SP</td>\n",
              "      <td>quarta-feira, 31/03</td>\n",
              "      <td>39%</td>\n",
              "    </tr>\n",
              "    <tr>\n",
              "      <th>7</th>\n",
              "      <td>AMERICANA</td>\n",
              "      <td>3501608</td>\n",
              "      <td>242018</td>\n",
              "      <td>SP</td>\n",
              "      <td>terça-feira, 30/03</td>\n",
              "      <td>40%</td>\n",
              "    </tr>\n",
              "    <tr>\n",
              "      <th>8</th>\n",
              "      <td>AMERICANA</td>\n",
              "      <td>3501608</td>\n",
              "      <td>242018</td>\n",
              "      <td>SP</td>\n",
              "      <td>segunda-feira, 29/03</td>\n",
              "      <td>41%</td>\n",
              "    </tr>\n",
              "    <tr>\n",
              "      <th>9</th>\n",
              "      <td>AMERICANA</td>\n",
              "      <td>3501608</td>\n",
              "      <td>242018</td>\n",
              "      <td>SP</td>\n",
              "      <td>domingo, 28/03</td>\n",
              "      <td>47%</td>\n",
              "    </tr>\n",
              "  </tbody>\n",
              "</table>\n",
              "</div>"
            ],
            "text/plain": [
              "  Município1  ...  Média de Índice De Isolamento\n",
              "0  AMERICANA  ...                            40%\n",
              "1  AMERICANA  ...                            40%\n",
              "2  AMERICANA  ...                            49%\n",
              "3  AMERICANA  ...                            44%\n",
              "4  AMERICANA  ...                            45%\n",
              "5  AMERICANA  ...                            38%\n",
              "6  AMERICANA  ...                            39%\n",
              "7  AMERICANA  ...                            40%\n",
              "8  AMERICANA  ...                            41%\n",
              "9  AMERICANA  ...                            47%\n",
              "\n",
              "[10 rows x 6 columns]"
            ]
          },
          "metadata": {
            "tags": []
          },
          "execution_count": 6
        }
      ]
    },
    {
      "cell_type": "code",
      "metadata": {
        "id": "HKhiHxn4RW4Q"
      },
      "source": [
        "isolamento_sao_paulo_data[['dia da semana', 'data']] = isolamento_sao_paulo_data.Data.str.split(\", \", expand=True)\n",
        "isolamento_sao_paulo_data[['dia', 'mes']] = isolamento_sao_paulo_data.data.str.split(\"/\", expand=True)\n",
        "isolamento_sao_paulo_data['dia'] = isolamento_sao_paulo_data['dia'].astype(int)\n",
        "isolamento_sao_paulo_data['mes'] = isolamento_sao_paulo_data['mes'].astype(int)\n",
        "\n",
        "cidade_atual = 0\n",
        "dia_convertido = dict()\n",
        "for i, row in isolamento_sao_paulo_data.iterrows():\n",
        "  if cidade_atual == 0 or cidade_atual != row[2]:\n",
        "    dia_convertido.clear()\n",
        "    cidade_atual = row[2]\n",
        "  if (row.mes < 4 or (row.mes == 4 and row.dia < 7)):\n",
        "    if row.mes in dia_convertido:\n",
        "      if row.dia in dia_convertido[row.mes] or (row.mes == 2 and row.dia == 29):\n",
        "        isolamento_sao_paulo_data.at[i, 'data'] = datetime.datetime(2020, row.mes, row.dia)\n",
        "      else:\n",
        "        isolamento_sao_paulo_data.at[i, 'data'] = datetime.datetime(2021, row.mes, row.dia)\n",
        "        dia_convertido[row.mes][row.dia] = True\n",
        "    else:\n",
        "      dia_convertido[row.mes] = dict()\n",
        "      dia_convertido[row.mes][row.dia] = True\n",
        "      isolamento_sao_paulo_data.at[i, 'data'] = datetime.datetime(2021, row.mes, row.dia)\n",
        "  else:\n",
        "    isolamento_sao_paulo_data.at[i, 'data'] = datetime.datetime(2020, row.mes, row.dia)"
      ],
      "execution_count": null,
      "outputs": []
    },
    {
      "cell_type": "code",
      "metadata": {
        "colab": {
          "base_uri": "https://localhost:8080/",
          "height": 359
        },
        "id": "6VJKKiRrRoac",
        "outputId": "0f4226e7-3e51-4b07-f3d7-665e19d63823"
      },
      "source": [
        "isolamento_sao_paulo_data.head(10)"
      ],
      "execution_count": null,
      "outputs": [
        {
          "output_type": "execute_result",
          "data": {
            "text/html": [
              "<div>\n",
              "<style scoped>\n",
              "    .dataframe tbody tr th:only-of-type {\n",
              "        vertical-align: middle;\n",
              "    }\n",
              "\n",
              "    .dataframe tbody tr th {\n",
              "        vertical-align: top;\n",
              "    }\n",
              "\n",
              "    .dataframe thead th {\n",
              "        text-align: right;\n",
              "    }\n",
              "</style>\n",
              "<table border=\"1\" class=\"dataframe\">\n",
              "  <thead>\n",
              "    <tr style=\"text-align: right;\">\n",
              "      <th></th>\n",
              "      <th>Município1</th>\n",
              "      <th>Código Município IBGE</th>\n",
              "      <th>População estimada (2020)</th>\n",
              "      <th>UF1</th>\n",
              "      <th>Data</th>\n",
              "      <th>Média de Índice De Isolamento</th>\n",
              "      <th>dia da semana</th>\n",
              "      <th>data</th>\n",
              "      <th>dia</th>\n",
              "      <th>mes</th>\n",
              "    </tr>\n",
              "  </thead>\n",
              "  <tbody>\n",
              "    <tr>\n",
              "      <th>0</th>\n",
              "      <td>AMERICANA</td>\n",
              "      <td>3501608</td>\n",
              "      <td>242018</td>\n",
              "      <td>SP</td>\n",
              "      <td>terça-feira, 06/04</td>\n",
              "      <td>40%</td>\n",
              "      <td>terça-feira</td>\n",
              "      <td>2021-04-06 00:00:00</td>\n",
              "      <td>6</td>\n",
              "      <td>4</td>\n",
              "    </tr>\n",
              "    <tr>\n",
              "      <th>1</th>\n",
              "      <td>AMERICANA</td>\n",
              "      <td>3501608</td>\n",
              "      <td>242018</td>\n",
              "      <td>SP</td>\n",
              "      <td>segunda-feira, 05/04</td>\n",
              "      <td>40%</td>\n",
              "      <td>segunda-feira</td>\n",
              "      <td>2021-04-05 00:00:00</td>\n",
              "      <td>5</td>\n",
              "      <td>4</td>\n",
              "    </tr>\n",
              "    <tr>\n",
              "      <th>2</th>\n",
              "      <td>AMERICANA</td>\n",
              "      <td>3501608</td>\n",
              "      <td>242018</td>\n",
              "      <td>SP</td>\n",
              "      <td>domingo, 04/04</td>\n",
              "      <td>49%</td>\n",
              "      <td>domingo</td>\n",
              "      <td>2021-04-04 00:00:00</td>\n",
              "      <td>4</td>\n",
              "      <td>4</td>\n",
              "    </tr>\n",
              "    <tr>\n",
              "      <th>3</th>\n",
              "      <td>AMERICANA</td>\n",
              "      <td>3501608</td>\n",
              "      <td>242018</td>\n",
              "      <td>SP</td>\n",
              "      <td>sábado, 03/04</td>\n",
              "      <td>44%</td>\n",
              "      <td>sábado</td>\n",
              "      <td>2021-04-03 00:00:00</td>\n",
              "      <td>3</td>\n",
              "      <td>4</td>\n",
              "    </tr>\n",
              "    <tr>\n",
              "      <th>4</th>\n",
              "      <td>AMERICANA</td>\n",
              "      <td>3501608</td>\n",
              "      <td>242018</td>\n",
              "      <td>SP</td>\n",
              "      <td>sexta-feira, 02/04</td>\n",
              "      <td>45%</td>\n",
              "      <td>sexta-feira</td>\n",
              "      <td>2021-04-02 00:00:00</td>\n",
              "      <td>2</td>\n",
              "      <td>4</td>\n",
              "    </tr>\n",
              "    <tr>\n",
              "      <th>5</th>\n",
              "      <td>AMERICANA</td>\n",
              "      <td>3501608</td>\n",
              "      <td>242018</td>\n",
              "      <td>SP</td>\n",
              "      <td>quinta-feira, 01/04</td>\n",
              "      <td>38%</td>\n",
              "      <td>quinta-feira</td>\n",
              "      <td>2021-04-01 00:00:00</td>\n",
              "      <td>1</td>\n",
              "      <td>4</td>\n",
              "    </tr>\n",
              "    <tr>\n",
              "      <th>6</th>\n",
              "      <td>AMERICANA</td>\n",
              "      <td>3501608</td>\n",
              "      <td>242018</td>\n",
              "      <td>SP</td>\n",
              "      <td>quarta-feira, 31/03</td>\n",
              "      <td>39%</td>\n",
              "      <td>quarta-feira</td>\n",
              "      <td>2021-03-31 00:00:00</td>\n",
              "      <td>31</td>\n",
              "      <td>3</td>\n",
              "    </tr>\n",
              "    <tr>\n",
              "      <th>7</th>\n",
              "      <td>AMERICANA</td>\n",
              "      <td>3501608</td>\n",
              "      <td>242018</td>\n",
              "      <td>SP</td>\n",
              "      <td>terça-feira, 30/03</td>\n",
              "      <td>40%</td>\n",
              "      <td>terça-feira</td>\n",
              "      <td>2021-03-30 00:00:00</td>\n",
              "      <td>30</td>\n",
              "      <td>3</td>\n",
              "    </tr>\n",
              "    <tr>\n",
              "      <th>8</th>\n",
              "      <td>AMERICANA</td>\n",
              "      <td>3501608</td>\n",
              "      <td>242018</td>\n",
              "      <td>SP</td>\n",
              "      <td>segunda-feira, 29/03</td>\n",
              "      <td>41%</td>\n",
              "      <td>segunda-feira</td>\n",
              "      <td>2021-03-29 00:00:00</td>\n",
              "      <td>29</td>\n",
              "      <td>3</td>\n",
              "    </tr>\n",
              "    <tr>\n",
              "      <th>9</th>\n",
              "      <td>AMERICANA</td>\n",
              "      <td>3501608</td>\n",
              "      <td>242018</td>\n",
              "      <td>SP</td>\n",
              "      <td>domingo, 28/03</td>\n",
              "      <td>47%</td>\n",
              "      <td>domingo</td>\n",
              "      <td>2021-03-28 00:00:00</td>\n",
              "      <td>28</td>\n",
              "      <td>3</td>\n",
              "    </tr>\n",
              "  </tbody>\n",
              "</table>\n",
              "</div>"
            ],
            "text/plain": [
              "  Município1  Código Município IBGE  ...  dia mes\n",
              "0  AMERICANA                3501608  ...    6   4\n",
              "1  AMERICANA                3501608  ...    5   4\n",
              "2  AMERICANA                3501608  ...    4   4\n",
              "3  AMERICANA                3501608  ...    3   4\n",
              "4  AMERICANA                3501608  ...    2   4\n",
              "5  AMERICANA                3501608  ...    1   4\n",
              "6  AMERICANA                3501608  ...   31   3\n",
              "7  AMERICANA                3501608  ...   30   3\n",
              "8  AMERICANA                3501608  ...   29   3\n",
              "9  AMERICANA                3501608  ...   28   3\n",
              "\n",
              "[10 rows x 10 columns]"
            ]
          },
          "metadata": {
            "tags": []
          },
          "execution_count": 8
        }
      ]
    },
    {
      "cell_type": "code",
      "metadata": {
        "id": "N1MtZb-7tLYK"
      },
      "source": [
        "covid_sao_paulo_data = pd.read_csv('data/raw/20210420_dados_covid_municipios_sp_utf_8.csv', engine='python', sep=';')"
      ],
      "execution_count": null,
      "outputs": []
    },
    {
      "cell_type": "code",
      "metadata": {
        "colab": {
          "base_uri": "https://localhost:8080/",
          "height": 668
        },
        "id": "A8AQVNFJtves",
        "outputId": "9fea6a90-f4fc-4a7f-cbda-3cc402e4b7b9"
      },
      "source": [
        "covid_sao_paulo_data.head(10)"
      ],
      "execution_count": null,
      "outputs": [
        {
          "output_type": "execute_result",
          "data": {
            "text/html": [
              "<div>\n",
              "<style scoped>\n",
              "    .dataframe tbody tr th:only-of-type {\n",
              "        vertical-align: middle;\n",
              "    }\n",
              "\n",
              "    .dataframe tbody tr th {\n",
              "        vertical-align: top;\n",
              "    }\n",
              "\n",
              "    .dataframe thead th {\n",
              "        text-align: right;\n",
              "    }\n",
              "</style>\n",
              "<table border=\"1\" class=\"dataframe\">\n",
              "  <thead>\n",
              "    <tr style=\"text-align: right;\">\n",
              "      <th></th>\n",
              "      <th>nome_munic</th>\n",
              "      <th>codigo_ibge</th>\n",
              "      <th>dia</th>\n",
              "      <th>mes</th>\n",
              "      <th>datahora</th>\n",
              "      <th>casos</th>\n",
              "      <th>casos_novos</th>\n",
              "      <th>casos_pc</th>\n",
              "      <th>casos_mm7d</th>\n",
              "      <th>obitos</th>\n",
              "      <th>obitos_novos</th>\n",
              "      <th>obitos_pc</th>\n",
              "      <th>obitos_mm7d</th>\n",
              "      <th>letalidade</th>\n",
              "      <th>nome_ra</th>\n",
              "      <th>cod_ra</th>\n",
              "      <th>nome_drs</th>\n",
              "      <th>cod_drs</th>\n",
              "      <th>pop</th>\n",
              "      <th>pop_60</th>\n",
              "      <th>area</th>\n",
              "      <th>map_leg</th>\n",
              "      <th>map_leg_s</th>\n",
              "      <th>latitude</th>\n",
              "      <th>longitude</th>\n",
              "      <th>semana_epidem</th>\n",
              "    </tr>\n",
              "  </thead>\n",
              "  <tbody>\n",
              "    <tr>\n",
              "      <th>0</th>\n",
              "      <td>Adamantina</td>\n",
              "      <td>3500105</td>\n",
              "      <td>25</td>\n",
              "      <td>2</td>\n",
              "      <td>25/02/2020</td>\n",
              "      <td>0</td>\n",
              "      <td>0</td>\n",
              "      <td>0,00E+00</td>\n",
              "      <td>0</td>\n",
              "      <td>0</td>\n",
              "      <td>0</td>\n",
              "      <td>0,00E+00</td>\n",
              "      <td>0</td>\n",
              "      <td>0</td>\n",
              "      <td>RA de Presidente Prudente</td>\n",
              "      <td>9</td>\n",
              "      <td>Marília</td>\n",
              "      <td>5</td>\n",
              "      <td>33894</td>\n",
              "      <td>7398</td>\n",
              "      <td>41199</td>\n",
              "      <td>0</td>\n",
              "      <td>8.0</td>\n",
              "      <td>-21,682</td>\n",
              "      <td>-51,0737</td>\n",
              "      <td>9</td>\n",
              "    </tr>\n",
              "    <tr>\n",
              "      <th>1</th>\n",
              "      <td>Adolfo</td>\n",
              "      <td>3500204</td>\n",
              "      <td>25</td>\n",
              "      <td>2</td>\n",
              "      <td>25/02/2020</td>\n",
              "      <td>0</td>\n",
              "      <td>0</td>\n",
              "      <td>0,00E+00</td>\n",
              "      <td>0</td>\n",
              "      <td>0</td>\n",
              "      <td>0</td>\n",
              "      <td>0,00E+00</td>\n",
              "      <td>0</td>\n",
              "      <td>0</td>\n",
              "      <td>RA de São José do Rio Preto</td>\n",
              "      <td>14</td>\n",
              "      <td>São José do Rio Preto</td>\n",
              "      <td>15</td>\n",
              "      <td>3447</td>\n",
              "      <td>761</td>\n",
              "      <td>21106</td>\n",
              "      <td>0</td>\n",
              "      <td>8.0</td>\n",
              "      <td>-21,2325</td>\n",
              "      <td>-49,6451</td>\n",
              "      <td>9</td>\n",
              "    </tr>\n",
              "    <tr>\n",
              "      <th>2</th>\n",
              "      <td>Aguaí</td>\n",
              "      <td>3500303</td>\n",
              "      <td>25</td>\n",
              "      <td>2</td>\n",
              "      <td>25/02/2020</td>\n",
              "      <td>0</td>\n",
              "      <td>0</td>\n",
              "      <td>0,00E+00</td>\n",
              "      <td>0</td>\n",
              "      <td>0</td>\n",
              "      <td>0</td>\n",
              "      <td>0,00E+00</td>\n",
              "      <td>0</td>\n",
              "      <td>0</td>\n",
              "      <td>RA de Campinas</td>\n",
              "      <td>4</td>\n",
              "      <td>São João da Boa Vista</td>\n",
              "      <td>14</td>\n",
              "      <td>35608</td>\n",
              "      <td>5245</td>\n",
              "      <td>47455</td>\n",
              "      <td>0</td>\n",
              "      <td>8.0</td>\n",
              "      <td>-22,0572</td>\n",
              "      <td>-46,9735</td>\n",
              "      <td>9</td>\n",
              "    </tr>\n",
              "    <tr>\n",
              "      <th>3</th>\n",
              "      <td>Águas da Prata</td>\n",
              "      <td>3500402</td>\n",
              "      <td>25</td>\n",
              "      <td>2</td>\n",
              "      <td>25/02/2020</td>\n",
              "      <td>0</td>\n",
              "      <td>0</td>\n",
              "      <td>0,00E+00</td>\n",
              "      <td>0</td>\n",
              "      <td>0</td>\n",
              "      <td>0</td>\n",
              "      <td>0,00E+00</td>\n",
              "      <td>0</td>\n",
              "      <td>0</td>\n",
              "      <td>RA de Campinas</td>\n",
              "      <td>4</td>\n",
              "      <td>São João da Boa Vista</td>\n",
              "      <td>14</td>\n",
              "      <td>7797</td>\n",
              "      <td>1729</td>\n",
              "      <td>14267</td>\n",
              "      <td>0</td>\n",
              "      <td>8.0</td>\n",
              "      <td>-21,9319</td>\n",
              "      <td>-46,7176</td>\n",
              "      <td>9</td>\n",
              "    </tr>\n",
              "    <tr>\n",
              "      <th>4</th>\n",
              "      <td>Águas de Lindóia</td>\n",
              "      <td>3500501</td>\n",
              "      <td>25</td>\n",
              "      <td>2</td>\n",
              "      <td>25/02/2020</td>\n",
              "      <td>0</td>\n",
              "      <td>0</td>\n",
              "      <td>0,00E+00</td>\n",
              "      <td>0</td>\n",
              "      <td>0</td>\n",
              "      <td>0</td>\n",
              "      <td>0,00E+00</td>\n",
              "      <td>0</td>\n",
              "      <td>0</td>\n",
              "      <td>RA de Campinas</td>\n",
              "      <td>4</td>\n",
              "      <td>Campinas</td>\n",
              "      <td>3</td>\n",
              "      <td>18374</td>\n",
              "      <td>3275</td>\n",
              "      <td>6013</td>\n",
              "      <td>0</td>\n",
              "      <td>8.0</td>\n",
              "      <td>-22,4733</td>\n",
              "      <td>-46,6314</td>\n",
              "      <td>9</td>\n",
              "    </tr>\n",
              "    <tr>\n",
              "      <th>5</th>\n",
              "      <td>Águas de Santa Bárbara</td>\n",
              "      <td>3500550</td>\n",
              "      <td>25</td>\n",
              "      <td>2</td>\n",
              "      <td>25/02/2020</td>\n",
              "      <td>0</td>\n",
              "      <td>0</td>\n",
              "      <td>0,00E+00</td>\n",
              "      <td>0</td>\n",
              "      <td>0</td>\n",
              "      <td>0</td>\n",
              "      <td>0,00E+00</td>\n",
              "      <td>0</td>\n",
              "      <td>0</td>\n",
              "      <td>RA de Sorocaba</td>\n",
              "      <td>13</td>\n",
              "      <td>Bauru</td>\n",
              "      <td>12</td>\n",
              "      <td>5931</td>\n",
              "      <td>1106</td>\n",
              "      <td>40446</td>\n",
              "      <td>0</td>\n",
              "      <td>8.0</td>\n",
              "      <td>-22,8812</td>\n",
              "      <td>-49,2421</td>\n",
              "      <td>9</td>\n",
              "    </tr>\n",
              "    <tr>\n",
              "      <th>6</th>\n",
              "      <td>Águas de São Pedro</td>\n",
              "      <td>3500600</td>\n",
              "      <td>25</td>\n",
              "      <td>2</td>\n",
              "      <td>25/02/2020</td>\n",
              "      <td>0</td>\n",
              "      <td>0</td>\n",
              "      <td>0,00E+00</td>\n",
              "      <td>0</td>\n",
              "      <td>0</td>\n",
              "      <td>0</td>\n",
              "      <td>0,00E+00</td>\n",
              "      <td>0</td>\n",
              "      <td>0</td>\n",
              "      <td>RA de Campinas</td>\n",
              "      <td>4</td>\n",
              "      <td>Piracicaba</td>\n",
              "      <td>11</td>\n",
              "      <td>3122</td>\n",
              "      <td>764</td>\n",
              "      <td>361</td>\n",
              "      <td>0</td>\n",
              "      <td>8.0</td>\n",
              "      <td>-22,5977</td>\n",
              "      <td>-47,8734</td>\n",
              "      <td>9</td>\n",
              "    </tr>\n",
              "    <tr>\n",
              "      <th>7</th>\n",
              "      <td>Agudos</td>\n",
              "      <td>3500709</td>\n",
              "      <td>25</td>\n",
              "      <td>2</td>\n",
              "      <td>25/02/2020</td>\n",
              "      <td>0</td>\n",
              "      <td>0</td>\n",
              "      <td>0,00E+00</td>\n",
              "      <td>0</td>\n",
              "      <td>0</td>\n",
              "      <td>0</td>\n",
              "      <td>0,00E+00</td>\n",
              "      <td>0</td>\n",
              "      <td>0</td>\n",
              "      <td>RA de Bauru</td>\n",
              "      <td>3</td>\n",
              "      <td>Bauru</td>\n",
              "      <td>12</td>\n",
              "      <td>36134</td>\n",
              "      <td>5524</td>\n",
              "      <td>96671</td>\n",
              "      <td>0</td>\n",
              "      <td>8.0</td>\n",
              "      <td>-22,4694</td>\n",
              "      <td>-48,9863</td>\n",
              "      <td>9</td>\n",
              "    </tr>\n",
              "    <tr>\n",
              "      <th>8</th>\n",
              "      <td>Alambari</td>\n",
              "      <td>3500758</td>\n",
              "      <td>25</td>\n",
              "      <td>2</td>\n",
              "      <td>25/02/2020</td>\n",
              "      <td>0</td>\n",
              "      <td>0</td>\n",
              "      <td>0,00E+00</td>\n",
              "      <td>0</td>\n",
              "      <td>0</td>\n",
              "      <td>0</td>\n",
              "      <td>0,00E+00</td>\n",
              "      <td>0</td>\n",
              "      <td>0</td>\n",
              "      <td>RA de Sorocaba</td>\n",
              "      <td>13</td>\n",
              "      <td>Sorocaba</td>\n",
              "      <td>6</td>\n",
              "      <td>5779</td>\n",
              "      <td>830</td>\n",
              "      <td>1596</td>\n",
              "      <td>0</td>\n",
              "      <td>8.0</td>\n",
              "      <td>-23,5503</td>\n",
              "      <td>-47,898</td>\n",
              "      <td>9</td>\n",
              "    </tr>\n",
              "    <tr>\n",
              "      <th>9</th>\n",
              "      <td>Alfredo Marcondes</td>\n",
              "      <td>3500808</td>\n",
              "      <td>25</td>\n",
              "      <td>2</td>\n",
              "      <td>25/02/2020</td>\n",
              "      <td>0</td>\n",
              "      <td>0</td>\n",
              "      <td>0,00E+00</td>\n",
              "      <td>0</td>\n",
              "      <td>0</td>\n",
              "      <td>0</td>\n",
              "      <td>0,00E+00</td>\n",
              "      <td>0</td>\n",
              "      <td>0</td>\n",
              "      <td>RA de Presidente Prudente</td>\n",
              "      <td>9</td>\n",
              "      <td>Presidente Prudente</td>\n",
              "      <td>2</td>\n",
              "      <td>3927</td>\n",
              "      <td>907</td>\n",
              "      <td>11892</td>\n",
              "      <td>0</td>\n",
              "      <td>8.0</td>\n",
              "      <td>-21,9527</td>\n",
              "      <td>-51,414</td>\n",
              "      <td>9</td>\n",
              "    </tr>\n",
              "  </tbody>\n",
              "</table>\n",
              "</div>"
            ],
            "text/plain": [
              "               nome_munic  codigo_ibge  dia  ...  latitude longitude  semana_epidem\n",
              "0              Adamantina      3500105   25  ...   -21,682  -51,0737              9\n",
              "1                  Adolfo      3500204   25  ...  -21,2325  -49,6451              9\n",
              "2                   Aguaí      3500303   25  ...  -22,0572  -46,9735              9\n",
              "3          Águas da Prata      3500402   25  ...  -21,9319  -46,7176              9\n",
              "4        Águas de Lindóia      3500501   25  ...  -22,4733  -46,6314              9\n",
              "5  Águas de Santa Bárbara      3500550   25  ...  -22,8812  -49,2421              9\n",
              "6      Águas de São Pedro      3500600   25  ...  -22,5977  -47,8734              9\n",
              "7                  Agudos      3500709   25  ...  -22,4694  -48,9863              9\n",
              "8                Alambari      3500758   25  ...  -23,5503   -47,898              9\n",
              "9       Alfredo Marcondes      3500808   25  ...  -21,9527   -51,414              9\n",
              "\n",
              "[10 rows x 26 columns]"
            ]
          },
          "metadata": {
            "tags": []
          },
          "execution_count": 10
        }
      ]
    },
    {
      "cell_type": "code",
      "metadata": {
        "id": "1FB3WUG3teDr"
      },
      "source": [
        "covid_sao_paulo_data['datahora'] = covid_sao_paulo_data.loc[:,'datahora'].astype('datetime64[ns]')\n",
        "isolamento_sao_paulo_data['data'] = isolamento_sao_paulo_data.loc[:,'data'].astype('datetime64[ns]')"
      ],
      "execution_count": null,
      "outputs": []
    },
    {
      "cell_type": "code",
      "metadata": {
        "colab": {
          "base_uri": "https://localhost:8080/",
          "height": 725
        },
        "id": "wGAsBsgYuoSW",
        "outputId": "776a1c9b-5081-4fd1-a809-b7868e7e22b3"
      },
      "source": [
        "isolamento_sao_paulo_data.set_index('data')\n",
        "covid_sao_paulo_data.set_index('datahora')"
      ],
      "execution_count": null,
      "outputs": [
        {
          "output_type": "execute_result",
          "data": {
            "text/html": [
              "<div>\n",
              "<style scoped>\n",
              "    .dataframe tbody tr th:only-of-type {\n",
              "        vertical-align: middle;\n",
              "    }\n",
              "\n",
              "    .dataframe tbody tr th {\n",
              "        vertical-align: top;\n",
              "    }\n",
              "\n",
              "    .dataframe thead th {\n",
              "        text-align: right;\n",
              "    }\n",
              "</style>\n",
              "<table border=\"1\" class=\"dataframe\">\n",
              "  <thead>\n",
              "    <tr style=\"text-align: right;\">\n",
              "      <th></th>\n",
              "      <th>nome_munic</th>\n",
              "      <th>codigo_ibge</th>\n",
              "      <th>dia</th>\n",
              "      <th>mes</th>\n",
              "      <th>casos</th>\n",
              "      <th>casos_novos</th>\n",
              "      <th>casos_pc</th>\n",
              "      <th>casos_mm7d</th>\n",
              "      <th>obitos</th>\n",
              "      <th>obitos_novos</th>\n",
              "      <th>obitos_pc</th>\n",
              "      <th>obitos_mm7d</th>\n",
              "      <th>letalidade</th>\n",
              "      <th>nome_ra</th>\n",
              "      <th>cod_ra</th>\n",
              "      <th>nome_drs</th>\n",
              "      <th>cod_drs</th>\n",
              "      <th>pop</th>\n",
              "      <th>pop_60</th>\n",
              "      <th>area</th>\n",
              "      <th>map_leg</th>\n",
              "      <th>map_leg_s</th>\n",
              "      <th>latitude</th>\n",
              "      <th>longitude</th>\n",
              "      <th>semana_epidem</th>\n",
              "    </tr>\n",
              "    <tr>\n",
              "      <th>datahora</th>\n",
              "      <th></th>\n",
              "      <th></th>\n",
              "      <th></th>\n",
              "      <th></th>\n",
              "      <th></th>\n",
              "      <th></th>\n",
              "      <th></th>\n",
              "      <th></th>\n",
              "      <th></th>\n",
              "      <th></th>\n",
              "      <th></th>\n",
              "      <th></th>\n",
              "      <th></th>\n",
              "      <th></th>\n",
              "      <th></th>\n",
              "      <th></th>\n",
              "      <th></th>\n",
              "      <th></th>\n",
              "      <th></th>\n",
              "      <th></th>\n",
              "      <th></th>\n",
              "      <th></th>\n",
              "      <th></th>\n",
              "      <th></th>\n",
              "      <th></th>\n",
              "    </tr>\n",
              "  </thead>\n",
              "  <tbody>\n",
              "    <tr>\n",
              "      <th>2020-02-25</th>\n",
              "      <td>Adamantina</td>\n",
              "      <td>3500105</td>\n",
              "      <td>25</td>\n",
              "      <td>2</td>\n",
              "      <td>0</td>\n",
              "      <td>0</td>\n",
              "      <td>0,00E+00</td>\n",
              "      <td>0</td>\n",
              "      <td>0</td>\n",
              "      <td>0</td>\n",
              "      <td>0,00E+00</td>\n",
              "      <td>0</td>\n",
              "      <td>0</td>\n",
              "      <td>RA de Presidente Prudente</td>\n",
              "      <td>9</td>\n",
              "      <td>Marília</td>\n",
              "      <td>5</td>\n",
              "      <td>33894</td>\n",
              "      <td>7398</td>\n",
              "      <td>41199</td>\n",
              "      <td>0</td>\n",
              "      <td>8.0</td>\n",
              "      <td>-21,682</td>\n",
              "      <td>-51,0737</td>\n",
              "      <td>9</td>\n",
              "    </tr>\n",
              "    <tr>\n",
              "      <th>2020-02-25</th>\n",
              "      <td>Adolfo</td>\n",
              "      <td>3500204</td>\n",
              "      <td>25</td>\n",
              "      <td>2</td>\n",
              "      <td>0</td>\n",
              "      <td>0</td>\n",
              "      <td>0,00E+00</td>\n",
              "      <td>0</td>\n",
              "      <td>0</td>\n",
              "      <td>0</td>\n",
              "      <td>0,00E+00</td>\n",
              "      <td>0</td>\n",
              "      <td>0</td>\n",
              "      <td>RA de São José do Rio Preto</td>\n",
              "      <td>14</td>\n",
              "      <td>São José do Rio Preto</td>\n",
              "      <td>15</td>\n",
              "      <td>3447</td>\n",
              "      <td>761</td>\n",
              "      <td>21106</td>\n",
              "      <td>0</td>\n",
              "      <td>8.0</td>\n",
              "      <td>-21,2325</td>\n",
              "      <td>-49,6451</td>\n",
              "      <td>9</td>\n",
              "    </tr>\n",
              "    <tr>\n",
              "      <th>2020-02-25</th>\n",
              "      <td>Aguaí</td>\n",
              "      <td>3500303</td>\n",
              "      <td>25</td>\n",
              "      <td>2</td>\n",
              "      <td>0</td>\n",
              "      <td>0</td>\n",
              "      <td>0,00E+00</td>\n",
              "      <td>0</td>\n",
              "      <td>0</td>\n",
              "      <td>0</td>\n",
              "      <td>0,00E+00</td>\n",
              "      <td>0</td>\n",
              "      <td>0</td>\n",
              "      <td>RA de Campinas</td>\n",
              "      <td>4</td>\n",
              "      <td>São João da Boa Vista</td>\n",
              "      <td>14</td>\n",
              "      <td>35608</td>\n",
              "      <td>5245</td>\n",
              "      <td>47455</td>\n",
              "      <td>0</td>\n",
              "      <td>8.0</td>\n",
              "      <td>-22,0572</td>\n",
              "      <td>-46,9735</td>\n",
              "      <td>9</td>\n",
              "    </tr>\n",
              "    <tr>\n",
              "      <th>2020-02-25</th>\n",
              "      <td>Águas da Prata</td>\n",
              "      <td>3500402</td>\n",
              "      <td>25</td>\n",
              "      <td>2</td>\n",
              "      <td>0</td>\n",
              "      <td>0</td>\n",
              "      <td>0,00E+00</td>\n",
              "      <td>0</td>\n",
              "      <td>0</td>\n",
              "      <td>0</td>\n",
              "      <td>0,00E+00</td>\n",
              "      <td>0</td>\n",
              "      <td>0</td>\n",
              "      <td>RA de Campinas</td>\n",
              "      <td>4</td>\n",
              "      <td>São João da Boa Vista</td>\n",
              "      <td>14</td>\n",
              "      <td>7797</td>\n",
              "      <td>1729</td>\n",
              "      <td>14267</td>\n",
              "      <td>0</td>\n",
              "      <td>8.0</td>\n",
              "      <td>-21,9319</td>\n",
              "      <td>-46,7176</td>\n",
              "      <td>9</td>\n",
              "    </tr>\n",
              "    <tr>\n",
              "      <th>2020-02-25</th>\n",
              "      <td>Águas de Lindóia</td>\n",
              "      <td>3500501</td>\n",
              "      <td>25</td>\n",
              "      <td>2</td>\n",
              "      <td>0</td>\n",
              "      <td>0</td>\n",
              "      <td>0,00E+00</td>\n",
              "      <td>0</td>\n",
              "      <td>0</td>\n",
              "      <td>0</td>\n",
              "      <td>0,00E+00</td>\n",
              "      <td>0</td>\n",
              "      <td>0</td>\n",
              "      <td>RA de Campinas</td>\n",
              "      <td>4</td>\n",
              "      <td>Campinas</td>\n",
              "      <td>3</td>\n",
              "      <td>18374</td>\n",
              "      <td>3275</td>\n",
              "      <td>6013</td>\n",
              "      <td>0</td>\n",
              "      <td>8.0</td>\n",
              "      <td>-22,4733</td>\n",
              "      <td>-46,6314</td>\n",
              "      <td>9</td>\n",
              "    </tr>\n",
              "    <tr>\n",
              "      <th>...</th>\n",
              "      <td>...</td>\n",
              "      <td>...</td>\n",
              "      <td>...</td>\n",
              "      <td>...</td>\n",
              "      <td>...</td>\n",
              "      <td>...</td>\n",
              "      <td>...</td>\n",
              "      <td>...</td>\n",
              "      <td>...</td>\n",
              "      <td>...</td>\n",
              "      <td>...</td>\n",
              "      <td>...</td>\n",
              "      <td>...</td>\n",
              "      <td>...</td>\n",
              "      <td>...</td>\n",
              "      <td>...</td>\n",
              "      <td>...</td>\n",
              "      <td>...</td>\n",
              "      <td>...</td>\n",
              "      <td>...</td>\n",
              "      <td>...</td>\n",
              "      <td>...</td>\n",
              "      <td>...</td>\n",
              "      <td>...</td>\n",
              "      <td>...</td>\n",
              "    </tr>\n",
              "    <tr>\n",
              "      <th>2021-04-16</th>\n",
              "      <td>Ignorado</td>\n",
              "      <td>9999999</td>\n",
              "      <td>16</td>\n",
              "      <td>4</td>\n",
              "      <td>541</td>\n",
              "      <td>24</td>\n",
              "      <td>0,00E+00</td>\n",
              "      <td>8,7142857</td>\n",
              "      <td>3</td>\n",
              "      <td>-3</td>\n",
              "      <td>0,00E+00</td>\n",
              "      <td>-0,2857143</td>\n",
              "      <td>0,005545287</td>\n",
              "      <td>NaN</td>\n",
              "      <td>0</td>\n",
              "      <td>NaN</td>\n",
              "      <td>0</td>\n",
              "      <td>0</td>\n",
              "      <td>0</td>\n",
              "      <td>0</td>\n",
              "      <td>NaN</td>\n",
              "      <td>NaN</td>\n",
              "      <td>0</td>\n",
              "      <td>0</td>\n",
              "      <td>15</td>\n",
              "    </tr>\n",
              "    <tr>\n",
              "      <th>2021-04-17</th>\n",
              "      <td>Ignorado</td>\n",
              "      <td>9999999</td>\n",
              "      <td>17</td>\n",
              "      <td>4</td>\n",
              "      <td>590</td>\n",
              "      <td>49</td>\n",
              "      <td>0,00E+00</td>\n",
              "      <td>7,1428571</td>\n",
              "      <td>1</td>\n",
              "      <td>-2</td>\n",
              "      <td>0,00E+00</td>\n",
              "      <td>-0,5714286</td>\n",
              "      <td>0,001694915</td>\n",
              "      <td>NaN</td>\n",
              "      <td>0</td>\n",
              "      <td>NaN</td>\n",
              "      <td>0</td>\n",
              "      <td>0</td>\n",
              "      <td>0</td>\n",
              "      <td>0</td>\n",
              "      <td>NaN</td>\n",
              "      <td>NaN</td>\n",
              "      <td>0</td>\n",
              "      <td>0</td>\n",
              "      <td>15</td>\n",
              "    </tr>\n",
              "    <tr>\n",
              "      <th>2021-04-18</th>\n",
              "      <td>Ignorado</td>\n",
              "      <td>9999999</td>\n",
              "      <td>18</td>\n",
              "      <td>4</td>\n",
              "      <td>577</td>\n",
              "      <td>-13</td>\n",
              "      <td>0,00E+00</td>\n",
              "      <td>10,2857143</td>\n",
              "      <td>1</td>\n",
              "      <td>0</td>\n",
              "      <td>0,00E+00</td>\n",
              "      <td>-1,1428571</td>\n",
              "      <td>0,001733102</td>\n",
              "      <td>NaN</td>\n",
              "      <td>0</td>\n",
              "      <td>NaN</td>\n",
              "      <td>0</td>\n",
              "      <td>0</td>\n",
              "      <td>0</td>\n",
              "      <td>0</td>\n",
              "      <td>NaN</td>\n",
              "      <td>NaN</td>\n",
              "      <td>0</td>\n",
              "      <td>0</td>\n",
              "      <td>16</td>\n",
              "    </tr>\n",
              "    <tr>\n",
              "      <th>2021-04-19</th>\n",
              "      <td>Ignorado</td>\n",
              "      <td>9999999</td>\n",
              "      <td>19</td>\n",
              "      <td>4</td>\n",
              "      <td>539</td>\n",
              "      <td>-38</td>\n",
              "      <td>0,00E+00</td>\n",
              "      <td>6</td>\n",
              "      <td>1</td>\n",
              "      <td>0</td>\n",
              "      <td>0,00E+00</td>\n",
              "      <td>-0,8571429</td>\n",
              "      <td>0,001855288</td>\n",
              "      <td>NaN</td>\n",
              "      <td>0</td>\n",
              "      <td>NaN</td>\n",
              "      <td>0</td>\n",
              "      <td>0</td>\n",
              "      <td>0</td>\n",
              "      <td>0</td>\n",
              "      <td>NaN</td>\n",
              "      <td>NaN</td>\n",
              "      <td>0</td>\n",
              "      <td>0</td>\n",
              "      <td>16</td>\n",
              "    </tr>\n",
              "    <tr>\n",
              "      <th>2021-04-20</th>\n",
              "      <td>Ignorado</td>\n",
              "      <td>9999999</td>\n",
              "      <td>20</td>\n",
              "      <td>4</td>\n",
              "      <td>509</td>\n",
              "      <td>-30</td>\n",
              "      <td>0,00E+00</td>\n",
              "      <td>1,4285714</td>\n",
              "      <td>0</td>\n",
              "      <td>-1</td>\n",
              "      <td>0,00E+00</td>\n",
              "      <td>-1</td>\n",
              "      <td>0</td>\n",
              "      <td>NaN</td>\n",
              "      <td>0</td>\n",
              "      <td>NaN</td>\n",
              "      <td>0</td>\n",
              "      <td>0</td>\n",
              "      <td>0</td>\n",
              "      <td>0</td>\n",
              "      <td>NaN</td>\n",
              "      <td>NaN</td>\n",
              "      <td>0</td>\n",
              "      <td>0</td>\n",
              "      <td>16</td>\n",
              "    </tr>\n",
              "  </tbody>\n",
              "</table>\n",
              "<p>271966 rows × 25 columns</p>\n",
              "</div>"
            ],
            "text/plain": [
              "                  nome_munic  codigo_ibge  ...  longitude  semana_epidem\n",
              "datahora                                   ...                          \n",
              "2020-02-25        Adamantina      3500105  ...   -51,0737              9\n",
              "2020-02-25            Adolfo      3500204  ...   -49,6451              9\n",
              "2020-02-25             Aguaí      3500303  ...   -46,9735              9\n",
              "2020-02-25    Águas da Prata      3500402  ...   -46,7176              9\n",
              "2020-02-25  Águas de Lindóia      3500501  ...   -46,6314              9\n",
              "...                      ...          ...  ...        ...            ...\n",
              "2021-04-16          Ignorado      9999999  ...          0             15\n",
              "2021-04-17          Ignorado      9999999  ...          0             15\n",
              "2021-04-18          Ignorado      9999999  ...          0             16\n",
              "2021-04-19          Ignorado      9999999  ...          0             16\n",
              "2021-04-20          Ignorado      9999999  ...          0             16\n",
              "\n",
              "[271966 rows x 25 columns]"
            ]
          },
          "metadata": {
            "tags": []
          },
          "execution_count": 12
        }
      ]
    },
    {
      "cell_type": "code",
      "metadata": {
        "id": "_kjYszvTwYDA"
      },
      "source": [
        "merge_isolamento_covid_data = pd.merge(isolamento_sao_paulo_data, covid_sao_paulo_data, how='inner', left_on=['data', 'Código Município IBGE'], right_on=['datahora', 'codigo_ibge'])"
      ],
      "execution_count": null,
      "outputs": []
    },
    {
      "cell_type": "code",
      "metadata": {
        "colab": {
          "base_uri": "https://localhost:8080/",
          "height": 685
        },
        "id": "rBKbRjidu8P_",
        "outputId": "a37978d6-c5fc-4787-ea29-398c9caaf438"
      },
      "source": [
        "merge_isolamento_covid_data.head(10)"
      ],
      "execution_count": null,
      "outputs": [
        {
          "output_type": "execute_result",
          "data": {
            "text/html": [
              "<div>\n",
              "<style scoped>\n",
              "    .dataframe tbody tr th:only-of-type {\n",
              "        vertical-align: middle;\n",
              "    }\n",
              "\n",
              "    .dataframe tbody tr th {\n",
              "        vertical-align: top;\n",
              "    }\n",
              "\n",
              "    .dataframe thead th {\n",
              "        text-align: right;\n",
              "    }\n",
              "</style>\n",
              "<table border=\"1\" class=\"dataframe\">\n",
              "  <thead>\n",
              "    <tr style=\"text-align: right;\">\n",
              "      <th></th>\n",
              "      <th>Município1</th>\n",
              "      <th>Código Município IBGE</th>\n",
              "      <th>População estimada (2020)</th>\n",
              "      <th>UF1</th>\n",
              "      <th>Data</th>\n",
              "      <th>Média de Índice De Isolamento</th>\n",
              "      <th>dia da semana</th>\n",
              "      <th>data</th>\n",
              "      <th>dia_x</th>\n",
              "      <th>mes_x</th>\n",
              "      <th>nome_munic</th>\n",
              "      <th>codigo_ibge</th>\n",
              "      <th>dia_y</th>\n",
              "      <th>mes_y</th>\n",
              "      <th>datahora</th>\n",
              "      <th>casos</th>\n",
              "      <th>casos_novos</th>\n",
              "      <th>casos_pc</th>\n",
              "      <th>casos_mm7d</th>\n",
              "      <th>obitos</th>\n",
              "      <th>obitos_novos</th>\n",
              "      <th>obitos_pc</th>\n",
              "      <th>obitos_mm7d</th>\n",
              "      <th>letalidade</th>\n",
              "      <th>nome_ra</th>\n",
              "      <th>cod_ra</th>\n",
              "      <th>nome_drs</th>\n",
              "      <th>cod_drs</th>\n",
              "      <th>pop</th>\n",
              "      <th>pop_60</th>\n",
              "      <th>area</th>\n",
              "      <th>map_leg</th>\n",
              "      <th>map_leg_s</th>\n",
              "      <th>latitude</th>\n",
              "      <th>longitude</th>\n",
              "      <th>semana_epidem</th>\n",
              "    </tr>\n",
              "  </thead>\n",
              "  <tbody>\n",
              "    <tr>\n",
              "      <th>0</th>\n",
              "      <td>AMERICANA</td>\n",
              "      <td>3501608</td>\n",
              "      <td>242018</td>\n",
              "      <td>SP</td>\n",
              "      <td>domingo, 04/04</td>\n",
              "      <td>49%</td>\n",
              "      <td>domingo</td>\n",
              "      <td>2021-04-04</td>\n",
              "      <td>4</td>\n",
              "      <td>4</td>\n",
              "      <td>Americana</td>\n",
              "      <td>3501608</td>\n",
              "      <td>4</td>\n",
              "      <td>4</td>\n",
              "      <td>2021-04-04</td>\n",
              "      <td>13468</td>\n",
              "      <td>23</td>\n",
              "      <td>5,77E+03</td>\n",
              "      <td>57,8571429</td>\n",
              "      <td>366</td>\n",
              "      <td>0</td>\n",
              "      <td>1,57E+02</td>\n",
              "      <td>3,5714286</td>\n",
              "      <td>0,027175527</td>\n",
              "      <td>RA de Campinas</td>\n",
              "      <td>4</td>\n",
              "      <td>Campinas</td>\n",
              "      <td>3</td>\n",
              "      <td>233458</td>\n",
              "      <td>40276</td>\n",
              "      <td>13391</td>\n",
              "      <td>&gt;5000</td>\n",
              "      <td>1.0</td>\n",
              "      <td>-22,7374</td>\n",
              "      <td>-47,3331</td>\n",
              "      <td>14</td>\n",
              "    </tr>\n",
              "    <tr>\n",
              "      <th>1</th>\n",
              "      <td>AMERICANA</td>\n",
              "      <td>3501608</td>\n",
              "      <td>242018</td>\n",
              "      <td>SP</td>\n",
              "      <td>sábado, 03/04</td>\n",
              "      <td>44%</td>\n",
              "      <td>sábado</td>\n",
              "      <td>2021-04-03</td>\n",
              "      <td>3</td>\n",
              "      <td>4</td>\n",
              "      <td>Americana</td>\n",
              "      <td>3501608</td>\n",
              "      <td>4</td>\n",
              "      <td>3</td>\n",
              "      <td>2021-04-03</td>\n",
              "      <td>11083</td>\n",
              "      <td>46</td>\n",
              "      <td>4,75E+03</td>\n",
              "      <td>39,4285714</td>\n",
              "      <td>287</td>\n",
              "      <td>0</td>\n",
              "      <td>1,23E+02</td>\n",
              "      <td>1,1428571</td>\n",
              "      <td>0,025895516</td>\n",
              "      <td>RA de Campinas</td>\n",
              "      <td>4</td>\n",
              "      <td>Campinas</td>\n",
              "      <td>3</td>\n",
              "      <td>233458</td>\n",
              "      <td>40276</td>\n",
              "      <td>13391</td>\n",
              "      <td>&gt;5000</td>\n",
              "      <td>1.0</td>\n",
              "      <td>-22,7374</td>\n",
              "      <td>-47,3331</td>\n",
              "      <td>9</td>\n",
              "    </tr>\n",
              "    <tr>\n",
              "      <th>2</th>\n",
              "      <td>AMERICANA</td>\n",
              "      <td>3501608</td>\n",
              "      <td>242018</td>\n",
              "      <td>SP</td>\n",
              "      <td>sexta-feira, 02/04</td>\n",
              "      <td>45%</td>\n",
              "      <td>sexta-feira</td>\n",
              "      <td>2021-04-02</td>\n",
              "      <td>2</td>\n",
              "      <td>4</td>\n",
              "      <td>Americana</td>\n",
              "      <td>3501608</td>\n",
              "      <td>4</td>\n",
              "      <td>2</td>\n",
              "      <td>2021-04-02</td>\n",
              "      <td>9625</td>\n",
              "      <td>16</td>\n",
              "      <td>4,12E+03</td>\n",
              "      <td>26</td>\n",
              "      <td>248</td>\n",
              "      <td>0</td>\n",
              "      <td>1,06E+02</td>\n",
              "      <td>0,2857143</td>\n",
              "      <td>0,025766234</td>\n",
              "      <td>RA de Campinas</td>\n",
              "      <td>4</td>\n",
              "      <td>Campinas</td>\n",
              "      <td>3</td>\n",
              "      <td>233458</td>\n",
              "      <td>40276</td>\n",
              "      <td>13391</td>\n",
              "      <td>&gt;5000</td>\n",
              "      <td>1.0</td>\n",
              "      <td>-22,7374</td>\n",
              "      <td>-47,3331</td>\n",
              "      <td>5</td>\n",
              "    </tr>\n",
              "    <tr>\n",
              "      <th>3</th>\n",
              "      <td>AMERICANA</td>\n",
              "      <td>3501608</td>\n",
              "      <td>242018</td>\n",
              "      <td>SP</td>\n",
              "      <td>quinta-feira, 01/04</td>\n",
              "      <td>38%</td>\n",
              "      <td>quinta-feira</td>\n",
              "      <td>2021-04-01</td>\n",
              "      <td>1</td>\n",
              "      <td>4</td>\n",
              "      <td>Americana</td>\n",
              "      <td>3501608</td>\n",
              "      <td>4</td>\n",
              "      <td>1</td>\n",
              "      <td>2021-04-01</td>\n",
              "      <td>8078</td>\n",
              "      <td>3</td>\n",
              "      <td>3,46E+03</td>\n",
              "      <td>60,2857143</td>\n",
              "      <td>212</td>\n",
              "      <td>0</td>\n",
              "      <td>9,08E+01</td>\n",
              "      <td>1,4285714</td>\n",
              "      <td>0,02624412</td>\n",
              "      <td>RA de Campinas</td>\n",
              "      <td>4</td>\n",
              "      <td>Campinas</td>\n",
              "      <td>3</td>\n",
              "      <td>233458</td>\n",
              "      <td>40276</td>\n",
              "      <td>13391</td>\n",
              "      <td>&gt;5000</td>\n",
              "      <td>1.0</td>\n",
              "      <td>-22,7374</td>\n",
              "      <td>-47,3331</td>\n",
              "      <td>1</td>\n",
              "    </tr>\n",
              "    <tr>\n",
              "      <th>4</th>\n",
              "      <td>AMERICANA</td>\n",
              "      <td>3501608</td>\n",
              "      <td>242018</td>\n",
              "      <td>SP</td>\n",
              "      <td>quarta-feira, 31/03</td>\n",
              "      <td>39%</td>\n",
              "      <td>quarta-feira</td>\n",
              "      <td>2021-03-31</td>\n",
              "      <td>31</td>\n",
              "      <td>3</td>\n",
              "      <td>Americana</td>\n",
              "      <td>3501608</td>\n",
              "      <td>31</td>\n",
              "      <td>3</td>\n",
              "      <td>2021-03-31</td>\n",
              "      <td>13260</td>\n",
              "      <td>94</td>\n",
              "      <td>5,68E+03</td>\n",
              "      <td>85,8571429</td>\n",
              "      <td>350</td>\n",
              "      <td>3</td>\n",
              "      <td>1,50E+02</td>\n",
              "      <td>3,8571429</td>\n",
              "      <td>0,026395174</td>\n",
              "      <td>RA de Campinas</td>\n",
              "      <td>4</td>\n",
              "      <td>Campinas</td>\n",
              "      <td>3</td>\n",
              "      <td>233458</td>\n",
              "      <td>40276</td>\n",
              "      <td>13391</td>\n",
              "      <td>&gt;5000</td>\n",
              "      <td>1.0</td>\n",
              "      <td>-22,7374</td>\n",
              "      <td>-47,3331</td>\n",
              "      <td>13</td>\n",
              "    </tr>\n",
              "    <tr>\n",
              "      <th>5</th>\n",
              "      <td>AMERICANA</td>\n",
              "      <td>3501608</td>\n",
              "      <td>242018</td>\n",
              "      <td>SP</td>\n",
              "      <td>terça-feira, 30/03</td>\n",
              "      <td>40%</td>\n",
              "      <td>terça-feira</td>\n",
              "      <td>2021-03-30</td>\n",
              "      <td>30</td>\n",
              "      <td>3</td>\n",
              "      <td>Americana</td>\n",
              "      <td>3501608</td>\n",
              "      <td>30</td>\n",
              "      <td>3</td>\n",
              "      <td>2021-03-30</td>\n",
              "      <td>13166</td>\n",
              "      <td>72</td>\n",
              "      <td>5,64E+03</td>\n",
              "      <td>89,1428571</td>\n",
              "      <td>347</td>\n",
              "      <td>6</td>\n",
              "      <td>1,49E+02</td>\n",
              "      <td>3,4285714</td>\n",
              "      <td>0,026355765</td>\n",
              "      <td>RA de Campinas</td>\n",
              "      <td>4</td>\n",
              "      <td>Campinas</td>\n",
              "      <td>3</td>\n",
              "      <td>233458</td>\n",
              "      <td>40276</td>\n",
              "      <td>13391</td>\n",
              "      <td>&gt;5000</td>\n",
              "      <td>1.0</td>\n",
              "      <td>-22,7374</td>\n",
              "      <td>-47,3331</td>\n",
              "      <td>13</td>\n",
              "    </tr>\n",
              "    <tr>\n",
              "      <th>6</th>\n",
              "      <td>AMERICANA</td>\n",
              "      <td>3501608</td>\n",
              "      <td>242018</td>\n",
              "      <td>SP</td>\n",
              "      <td>segunda-feira, 29/03</td>\n",
              "      <td>41%</td>\n",
              "      <td>segunda-feira</td>\n",
              "      <td>2021-03-29</td>\n",
              "      <td>29</td>\n",
              "      <td>3</td>\n",
              "      <td>Americana</td>\n",
              "      <td>3501608</td>\n",
              "      <td>29</td>\n",
              "      <td>3</td>\n",
              "      <td>2021-03-29</td>\n",
              "      <td>13094</td>\n",
              "      <td>31</td>\n",
              "      <td>5,61E+03</td>\n",
              "      <td>99,5714286</td>\n",
              "      <td>341</td>\n",
              "      <td>0</td>\n",
              "      <td>1,46E+02</td>\n",
              "      <td>3</td>\n",
              "      <td>0,026042462</td>\n",
              "      <td>RA de Campinas</td>\n",
              "      <td>4</td>\n",
              "      <td>Campinas</td>\n",
              "      <td>3</td>\n",
              "      <td>233458</td>\n",
              "      <td>40276</td>\n",
              "      <td>13391</td>\n",
              "      <td>&gt;5000</td>\n",
              "      <td>1.0</td>\n",
              "      <td>-22,7374</td>\n",
              "      <td>-47,3331</td>\n",
              "      <td>13</td>\n",
              "    </tr>\n",
              "    <tr>\n",
              "      <th>7</th>\n",
              "      <td>AMERICANA</td>\n",
              "      <td>3501608</td>\n",
              "      <td>242018</td>\n",
              "      <td>SP</td>\n",
              "      <td>domingo, 28/03</td>\n",
              "      <td>47%</td>\n",
              "      <td>domingo</td>\n",
              "      <td>2021-03-28</td>\n",
              "      <td>28</td>\n",
              "      <td>3</td>\n",
              "      <td>Americana</td>\n",
              "      <td>3501608</td>\n",
              "      <td>28</td>\n",
              "      <td>3</td>\n",
              "      <td>2021-03-28</td>\n",
              "      <td>13063</td>\n",
              "      <td>59</td>\n",
              "      <td>5,60E+03</td>\n",
              "      <td>99</td>\n",
              "      <td>341</td>\n",
              "      <td>0</td>\n",
              "      <td>1,46E+02</td>\n",
              "      <td>3</td>\n",
              "      <td>0,026104264</td>\n",
              "      <td>RA de Campinas</td>\n",
              "      <td>4</td>\n",
              "      <td>Campinas</td>\n",
              "      <td>3</td>\n",
              "      <td>233458</td>\n",
              "      <td>40276</td>\n",
              "      <td>13391</td>\n",
              "      <td>&gt;5000</td>\n",
              "      <td>1.0</td>\n",
              "      <td>-22,7374</td>\n",
              "      <td>-47,3331</td>\n",
              "      <td>13</td>\n",
              "    </tr>\n",
              "    <tr>\n",
              "      <th>8</th>\n",
              "      <td>AMERICANA</td>\n",
              "      <td>3501608</td>\n",
              "      <td>242018</td>\n",
              "      <td>SP</td>\n",
              "      <td>sábado, 27/03</td>\n",
              "      <td>44%</td>\n",
              "      <td>sábado</td>\n",
              "      <td>2021-03-27</td>\n",
              "      <td>27</td>\n",
              "      <td>3</td>\n",
              "      <td>Americana</td>\n",
              "      <td>3501608</td>\n",
              "      <td>27</td>\n",
              "      <td>3</td>\n",
              "      <td>2021-03-27</td>\n",
              "      <td>13004</td>\n",
              "      <td>83</td>\n",
              "      <td>5,57E+03</td>\n",
              "      <td>105,2857143</td>\n",
              "      <td>341</td>\n",
              "      <td>6</td>\n",
              "      <td>1,46E+02</td>\n",
              "      <td>3</td>\n",
              "      <td>0,026222701</td>\n",
              "      <td>RA de Campinas</td>\n",
              "      <td>4</td>\n",
              "      <td>Campinas</td>\n",
              "      <td>3</td>\n",
              "      <td>233458</td>\n",
              "      <td>40276</td>\n",
              "      <td>13391</td>\n",
              "      <td>&gt;5000</td>\n",
              "      <td>1.0</td>\n",
              "      <td>-22,7374</td>\n",
              "      <td>-47,3331</td>\n",
              "      <td>12</td>\n",
              "    </tr>\n",
              "    <tr>\n",
              "      <th>9</th>\n",
              "      <td>AMERICANA</td>\n",
              "      <td>3501608</td>\n",
              "      <td>242018</td>\n",
              "      <td>SP</td>\n",
              "      <td>sexta-feira, 26/03</td>\n",
              "      <td>39%</td>\n",
              "      <td>sexta-feira</td>\n",
              "      <td>2021-03-26</td>\n",
              "      <td>26</td>\n",
              "      <td>3</td>\n",
              "      <td>Americana</td>\n",
              "      <td>3501608</td>\n",
              "      <td>26</td>\n",
              "      <td>3</td>\n",
              "      <td>2021-03-26</td>\n",
              "      <td>12921</td>\n",
              "      <td>200</td>\n",
              "      <td>5,53E+03</td>\n",
              "      <td>112,2857143</td>\n",
              "      <td>335</td>\n",
              "      <td>12</td>\n",
              "      <td>1,43E+02</td>\n",
              "      <td>3</td>\n",
              "      <td>0,025926786</td>\n",
              "      <td>RA de Campinas</td>\n",
              "      <td>4</td>\n",
              "      <td>Campinas</td>\n",
              "      <td>3</td>\n",
              "      <td>233458</td>\n",
              "      <td>40276</td>\n",
              "      <td>13391</td>\n",
              "      <td>&gt;5000</td>\n",
              "      <td>1.0</td>\n",
              "      <td>-22,7374</td>\n",
              "      <td>-47,3331</td>\n",
              "      <td>12</td>\n",
              "    </tr>\n",
              "  </tbody>\n",
              "</table>\n",
              "</div>"
            ],
            "text/plain": [
              "  Município1  Código Município IBGE  ...  longitude semana_epidem\n",
              "0  AMERICANA                3501608  ...   -47,3331            14\n",
              "1  AMERICANA                3501608  ...   -47,3331             9\n",
              "2  AMERICANA                3501608  ...   -47,3331             5\n",
              "3  AMERICANA                3501608  ...   -47,3331             1\n",
              "4  AMERICANA                3501608  ...   -47,3331            13\n",
              "5  AMERICANA                3501608  ...   -47,3331            13\n",
              "6  AMERICANA                3501608  ...   -47,3331            13\n",
              "7  AMERICANA                3501608  ...   -47,3331            13\n",
              "8  AMERICANA                3501608  ...   -47,3331            12\n",
              "9  AMERICANA                3501608  ...   -47,3331            12\n",
              "\n",
              "[10 rows x 36 columns]"
            ]
          },
          "metadata": {
            "tags": []
          },
          "execution_count": 14
        }
      ]
    },
    {
      "cell_type": "code",
      "metadata": {
        "id": "kzYmSibxCh9S"
      },
      "source": [
        "merge_isolamento_covid_data['Média de Índice De Isolamento'] = merge_isolamento_covid_data['Média de Índice De Isolamento'].str.rstrip('%').astype('int')"
      ],
      "execution_count": null,
      "outputs": []
    },
    {
      "cell_type": "code",
      "metadata": {
        "colab": {
          "base_uri": "https://localhost:8080/",
          "height": 864
        },
        "id": "Eus-NaYiFbER",
        "outputId": "3c664abe-be9b-4858-a227-59096fd88c6e"
      },
      "source": [
        "merge_isolamento_covid_data"
      ],
      "execution_count": null,
      "outputs": [
        {
          "output_type": "execute_result",
          "data": {
            "text/html": [
              "<div>\n",
              "<style scoped>\n",
              "    .dataframe tbody tr th:only-of-type {\n",
              "        vertical-align: middle;\n",
              "    }\n",
              "\n",
              "    .dataframe tbody tr th {\n",
              "        vertical-align: top;\n",
              "    }\n",
              "\n",
              "    .dataframe thead th {\n",
              "        text-align: right;\n",
              "    }\n",
              "</style>\n",
              "<table border=\"1\" class=\"dataframe\">\n",
              "  <thead>\n",
              "    <tr style=\"text-align: right;\">\n",
              "      <th></th>\n",
              "      <th>Município1</th>\n",
              "      <th>Código Município IBGE</th>\n",
              "      <th>População estimada (2020)</th>\n",
              "      <th>UF1</th>\n",
              "      <th>Data</th>\n",
              "      <th>Média de Índice De Isolamento</th>\n",
              "      <th>dia da semana</th>\n",
              "      <th>data</th>\n",
              "      <th>dia_x</th>\n",
              "      <th>mes_x</th>\n",
              "      <th>nome_munic</th>\n",
              "      <th>codigo_ibge</th>\n",
              "      <th>dia_y</th>\n",
              "      <th>mes_y</th>\n",
              "      <th>datahora</th>\n",
              "      <th>casos</th>\n",
              "      <th>casos_novos</th>\n",
              "      <th>casos_pc</th>\n",
              "      <th>casos_mm7d</th>\n",
              "      <th>obitos</th>\n",
              "      <th>obitos_novos</th>\n",
              "      <th>obitos_pc</th>\n",
              "      <th>obitos_mm7d</th>\n",
              "      <th>letalidade</th>\n",
              "      <th>nome_ra</th>\n",
              "      <th>cod_ra</th>\n",
              "      <th>nome_drs</th>\n",
              "      <th>cod_drs</th>\n",
              "      <th>pop</th>\n",
              "      <th>pop_60</th>\n",
              "      <th>area</th>\n",
              "      <th>map_leg</th>\n",
              "      <th>map_leg_s</th>\n",
              "      <th>latitude</th>\n",
              "      <th>longitude</th>\n",
              "      <th>semana_epidem</th>\n",
              "    </tr>\n",
              "  </thead>\n",
              "  <tbody>\n",
              "    <tr>\n",
              "      <th>0</th>\n",
              "      <td>AMERICANA</td>\n",
              "      <td>3501608</td>\n",
              "      <td>242018</td>\n",
              "      <td>SP</td>\n",
              "      <td>domingo, 04/04</td>\n",
              "      <td>49</td>\n",
              "      <td>domingo</td>\n",
              "      <td>2021-04-04</td>\n",
              "      <td>4</td>\n",
              "      <td>4</td>\n",
              "      <td>Americana</td>\n",
              "      <td>3501608</td>\n",
              "      <td>4</td>\n",
              "      <td>4</td>\n",
              "      <td>2021-04-04</td>\n",
              "      <td>13468</td>\n",
              "      <td>23</td>\n",
              "      <td>5,77E+03</td>\n",
              "      <td>57,8571429</td>\n",
              "      <td>366</td>\n",
              "      <td>0</td>\n",
              "      <td>1,57E+02</td>\n",
              "      <td>3,5714286</td>\n",
              "      <td>0,027175527</td>\n",
              "      <td>RA de Campinas</td>\n",
              "      <td>4</td>\n",
              "      <td>Campinas</td>\n",
              "      <td>3</td>\n",
              "      <td>233458</td>\n",
              "      <td>40276</td>\n",
              "      <td>13391</td>\n",
              "      <td>&gt;5000</td>\n",
              "      <td>1.0</td>\n",
              "      <td>-22,7374</td>\n",
              "      <td>-47,3331</td>\n",
              "      <td>14</td>\n",
              "    </tr>\n",
              "    <tr>\n",
              "      <th>1</th>\n",
              "      <td>AMERICANA</td>\n",
              "      <td>3501608</td>\n",
              "      <td>242018</td>\n",
              "      <td>SP</td>\n",
              "      <td>sábado, 03/04</td>\n",
              "      <td>44</td>\n",
              "      <td>sábado</td>\n",
              "      <td>2021-04-03</td>\n",
              "      <td>3</td>\n",
              "      <td>4</td>\n",
              "      <td>Americana</td>\n",
              "      <td>3501608</td>\n",
              "      <td>4</td>\n",
              "      <td>3</td>\n",
              "      <td>2021-04-03</td>\n",
              "      <td>11083</td>\n",
              "      <td>46</td>\n",
              "      <td>4,75E+03</td>\n",
              "      <td>39,4285714</td>\n",
              "      <td>287</td>\n",
              "      <td>0</td>\n",
              "      <td>1,23E+02</td>\n",
              "      <td>1,1428571</td>\n",
              "      <td>0,025895516</td>\n",
              "      <td>RA de Campinas</td>\n",
              "      <td>4</td>\n",
              "      <td>Campinas</td>\n",
              "      <td>3</td>\n",
              "      <td>233458</td>\n",
              "      <td>40276</td>\n",
              "      <td>13391</td>\n",
              "      <td>&gt;5000</td>\n",
              "      <td>1.0</td>\n",
              "      <td>-22,7374</td>\n",
              "      <td>-47,3331</td>\n",
              "      <td>9</td>\n",
              "    </tr>\n",
              "    <tr>\n",
              "      <th>2</th>\n",
              "      <td>AMERICANA</td>\n",
              "      <td>3501608</td>\n",
              "      <td>242018</td>\n",
              "      <td>SP</td>\n",
              "      <td>sexta-feira, 02/04</td>\n",
              "      <td>45</td>\n",
              "      <td>sexta-feira</td>\n",
              "      <td>2021-04-02</td>\n",
              "      <td>2</td>\n",
              "      <td>4</td>\n",
              "      <td>Americana</td>\n",
              "      <td>3501608</td>\n",
              "      <td>4</td>\n",
              "      <td>2</td>\n",
              "      <td>2021-04-02</td>\n",
              "      <td>9625</td>\n",
              "      <td>16</td>\n",
              "      <td>4,12E+03</td>\n",
              "      <td>26</td>\n",
              "      <td>248</td>\n",
              "      <td>0</td>\n",
              "      <td>1,06E+02</td>\n",
              "      <td>0,2857143</td>\n",
              "      <td>0,025766234</td>\n",
              "      <td>RA de Campinas</td>\n",
              "      <td>4</td>\n",
              "      <td>Campinas</td>\n",
              "      <td>3</td>\n",
              "      <td>233458</td>\n",
              "      <td>40276</td>\n",
              "      <td>13391</td>\n",
              "      <td>&gt;5000</td>\n",
              "      <td>1.0</td>\n",
              "      <td>-22,7374</td>\n",
              "      <td>-47,3331</td>\n",
              "      <td>5</td>\n",
              "    </tr>\n",
              "    <tr>\n",
              "      <th>3</th>\n",
              "      <td>AMERICANA</td>\n",
              "      <td>3501608</td>\n",
              "      <td>242018</td>\n",
              "      <td>SP</td>\n",
              "      <td>quinta-feira, 01/04</td>\n",
              "      <td>38</td>\n",
              "      <td>quinta-feira</td>\n",
              "      <td>2021-04-01</td>\n",
              "      <td>1</td>\n",
              "      <td>4</td>\n",
              "      <td>Americana</td>\n",
              "      <td>3501608</td>\n",
              "      <td>4</td>\n",
              "      <td>1</td>\n",
              "      <td>2021-04-01</td>\n",
              "      <td>8078</td>\n",
              "      <td>3</td>\n",
              "      <td>3,46E+03</td>\n",
              "      <td>60,2857143</td>\n",
              "      <td>212</td>\n",
              "      <td>0</td>\n",
              "      <td>9,08E+01</td>\n",
              "      <td>1,4285714</td>\n",
              "      <td>0,02624412</td>\n",
              "      <td>RA de Campinas</td>\n",
              "      <td>4</td>\n",
              "      <td>Campinas</td>\n",
              "      <td>3</td>\n",
              "      <td>233458</td>\n",
              "      <td>40276</td>\n",
              "      <td>13391</td>\n",
              "      <td>&gt;5000</td>\n",
              "      <td>1.0</td>\n",
              "      <td>-22,7374</td>\n",
              "      <td>-47,3331</td>\n",
              "      <td>1</td>\n",
              "    </tr>\n",
              "    <tr>\n",
              "      <th>4</th>\n",
              "      <td>AMERICANA</td>\n",
              "      <td>3501608</td>\n",
              "      <td>242018</td>\n",
              "      <td>SP</td>\n",
              "      <td>quarta-feira, 31/03</td>\n",
              "      <td>39</td>\n",
              "      <td>quarta-feira</td>\n",
              "      <td>2021-03-31</td>\n",
              "      <td>31</td>\n",
              "      <td>3</td>\n",
              "      <td>Americana</td>\n",
              "      <td>3501608</td>\n",
              "      <td>31</td>\n",
              "      <td>3</td>\n",
              "      <td>2021-03-31</td>\n",
              "      <td>13260</td>\n",
              "      <td>94</td>\n",
              "      <td>5,68E+03</td>\n",
              "      <td>85,8571429</td>\n",
              "      <td>350</td>\n",
              "      <td>3</td>\n",
              "      <td>1,50E+02</td>\n",
              "      <td>3,8571429</td>\n",
              "      <td>0,026395174</td>\n",
              "      <td>RA de Campinas</td>\n",
              "      <td>4</td>\n",
              "      <td>Campinas</td>\n",
              "      <td>3</td>\n",
              "      <td>233458</td>\n",
              "      <td>40276</td>\n",
              "      <td>13391</td>\n",
              "      <td>&gt;5000</td>\n",
              "      <td>1.0</td>\n",
              "      <td>-22,7374</td>\n",
              "      <td>-47,3331</td>\n",
              "      <td>13</td>\n",
              "    </tr>\n",
              "    <tr>\n",
              "      <th>...</th>\n",
              "      <td>...</td>\n",
              "      <td>...</td>\n",
              "      <td>...</td>\n",
              "      <td>...</td>\n",
              "      <td>...</td>\n",
              "      <td>...</td>\n",
              "      <td>...</td>\n",
              "      <td>...</td>\n",
              "      <td>...</td>\n",
              "      <td>...</td>\n",
              "      <td>...</td>\n",
              "      <td>...</td>\n",
              "      <td>...</td>\n",
              "      <td>...</td>\n",
              "      <td>...</td>\n",
              "      <td>...</td>\n",
              "      <td>...</td>\n",
              "      <td>...</td>\n",
              "      <td>...</td>\n",
              "      <td>...</td>\n",
              "      <td>...</td>\n",
              "      <td>...</td>\n",
              "      <td>...</td>\n",
              "      <td>...</td>\n",
              "      <td>...</td>\n",
              "      <td>...</td>\n",
              "      <td>...</td>\n",
              "      <td>...</td>\n",
              "      <td>...</td>\n",
              "      <td>...</td>\n",
              "      <td>...</td>\n",
              "      <td>...</td>\n",
              "      <td>...</td>\n",
              "      <td>...</td>\n",
              "      <td>...</td>\n",
              "      <td>...</td>\n",
              "    </tr>\n",
              "    <tr>\n",
              "      <th>49325</th>\n",
              "      <td>VOTUPORANGA</td>\n",
              "      <td>3557105</td>\n",
              "      <td>95338</td>\n",
              "      <td>SP</td>\n",
              "      <td>terça-feira, 03/03</td>\n",
              "      <td>40</td>\n",
              "      <td>terça-feira</td>\n",
              "      <td>2020-03-03</td>\n",
              "      <td>3</td>\n",
              "      <td>3</td>\n",
              "      <td>Votuporanga</td>\n",
              "      <td>3557105</td>\n",
              "      <td>3</td>\n",
              "      <td>3</td>\n",
              "      <td>2020-03-03</td>\n",
              "      <td>0</td>\n",
              "      <td>0</td>\n",
              "      <td>0,00E+00</td>\n",
              "      <td>0</td>\n",
              "      <td>0</td>\n",
              "      <td>0</td>\n",
              "      <td>0,00E+00</td>\n",
              "      <td>0</td>\n",
              "      <td>0</td>\n",
              "      <td>RA de São José do Rio Preto</td>\n",
              "      <td>14</td>\n",
              "      <td>São José do Rio Preto</td>\n",
              "      <td>15</td>\n",
              "      <td>91760</td>\n",
              "      <td>17203</td>\n",
              "      <td>4207</td>\n",
              "      <td>0</td>\n",
              "      <td>8.0</td>\n",
              "      <td>-20,4237</td>\n",
              "      <td>-49,9781</td>\n",
              "      <td>10</td>\n",
              "    </tr>\n",
              "    <tr>\n",
              "      <th>49326</th>\n",
              "      <td>VOTUPORANGA</td>\n",
              "      <td>3557105</td>\n",
              "      <td>95338</td>\n",
              "      <td>SP</td>\n",
              "      <td>sábado, 29/02</td>\n",
              "      <td>37</td>\n",
              "      <td>sábado</td>\n",
              "      <td>2020-02-29</td>\n",
              "      <td>29</td>\n",
              "      <td>2</td>\n",
              "      <td>Votuporanga</td>\n",
              "      <td>3557105</td>\n",
              "      <td>29</td>\n",
              "      <td>2</td>\n",
              "      <td>2020-02-29</td>\n",
              "      <td>0</td>\n",
              "      <td>0</td>\n",
              "      <td>0,00E+00</td>\n",
              "      <td>0</td>\n",
              "      <td>0</td>\n",
              "      <td>0</td>\n",
              "      <td>0,00E+00</td>\n",
              "      <td>0</td>\n",
              "      <td>0</td>\n",
              "      <td>RA de São José do Rio Preto</td>\n",
              "      <td>14</td>\n",
              "      <td>São José do Rio Preto</td>\n",
              "      <td>15</td>\n",
              "      <td>91760</td>\n",
              "      <td>17203</td>\n",
              "      <td>4207</td>\n",
              "      <td>0</td>\n",
              "      <td>8.0</td>\n",
              "      <td>-20,4237</td>\n",
              "      <td>-49,9781</td>\n",
              "      <td>9</td>\n",
              "    </tr>\n",
              "    <tr>\n",
              "      <th>49327</th>\n",
              "      <td>VOTUPORANGA</td>\n",
              "      <td>3557105</td>\n",
              "      <td>95338</td>\n",
              "      <td>SP</td>\n",
              "      <td>sexta-feira, 28/02</td>\n",
              "      <td>37</td>\n",
              "      <td>sexta-feira</td>\n",
              "      <td>2020-02-28</td>\n",
              "      <td>28</td>\n",
              "      <td>2</td>\n",
              "      <td>Votuporanga</td>\n",
              "      <td>3557105</td>\n",
              "      <td>28</td>\n",
              "      <td>2</td>\n",
              "      <td>2020-02-28</td>\n",
              "      <td>0</td>\n",
              "      <td>0</td>\n",
              "      <td>0,00E+00</td>\n",
              "      <td>0</td>\n",
              "      <td>0</td>\n",
              "      <td>0</td>\n",
              "      <td>0,00E+00</td>\n",
              "      <td>0</td>\n",
              "      <td>0</td>\n",
              "      <td>RA de São José do Rio Preto</td>\n",
              "      <td>14</td>\n",
              "      <td>São José do Rio Preto</td>\n",
              "      <td>15</td>\n",
              "      <td>91760</td>\n",
              "      <td>17203</td>\n",
              "      <td>4207</td>\n",
              "      <td>0</td>\n",
              "      <td>8.0</td>\n",
              "      <td>-20,4237</td>\n",
              "      <td>-49,9781</td>\n",
              "      <td>9</td>\n",
              "    </tr>\n",
              "    <tr>\n",
              "      <th>49328</th>\n",
              "      <td>VOTUPORANGA</td>\n",
              "      <td>3557105</td>\n",
              "      <td>95338</td>\n",
              "      <td>SP</td>\n",
              "      <td>quinta-feira, 27/02</td>\n",
              "      <td>37</td>\n",
              "      <td>quinta-feira</td>\n",
              "      <td>2020-02-27</td>\n",
              "      <td>27</td>\n",
              "      <td>2</td>\n",
              "      <td>Votuporanga</td>\n",
              "      <td>3557105</td>\n",
              "      <td>27</td>\n",
              "      <td>2</td>\n",
              "      <td>2020-02-27</td>\n",
              "      <td>0</td>\n",
              "      <td>0</td>\n",
              "      <td>0,00E+00</td>\n",
              "      <td>0</td>\n",
              "      <td>0</td>\n",
              "      <td>0</td>\n",
              "      <td>0,00E+00</td>\n",
              "      <td>0</td>\n",
              "      <td>0</td>\n",
              "      <td>RA de São José do Rio Preto</td>\n",
              "      <td>14</td>\n",
              "      <td>São José do Rio Preto</td>\n",
              "      <td>15</td>\n",
              "      <td>91760</td>\n",
              "      <td>17203</td>\n",
              "      <td>4207</td>\n",
              "      <td>0</td>\n",
              "      <td>8.0</td>\n",
              "      <td>-20,4237</td>\n",
              "      <td>-49,9781</td>\n",
              "      <td>9</td>\n",
              "    </tr>\n",
              "    <tr>\n",
              "      <th>49329</th>\n",
              "      <td>VOTUPORANGA</td>\n",
              "      <td>3557105</td>\n",
              "      <td>95338</td>\n",
              "      <td>SP</td>\n",
              "      <td>quarta-feira, 26/02</td>\n",
              "      <td>35</td>\n",
              "      <td>quarta-feira</td>\n",
              "      <td>2020-02-26</td>\n",
              "      <td>26</td>\n",
              "      <td>2</td>\n",
              "      <td>Votuporanga</td>\n",
              "      <td>3557105</td>\n",
              "      <td>26</td>\n",
              "      <td>2</td>\n",
              "      <td>2020-02-26</td>\n",
              "      <td>0</td>\n",
              "      <td>0</td>\n",
              "      <td>0,00E+00</td>\n",
              "      <td>0</td>\n",
              "      <td>0</td>\n",
              "      <td>0</td>\n",
              "      <td>0,00E+00</td>\n",
              "      <td>0</td>\n",
              "      <td>0</td>\n",
              "      <td>RA de São José do Rio Preto</td>\n",
              "      <td>14</td>\n",
              "      <td>São José do Rio Preto</td>\n",
              "      <td>15</td>\n",
              "      <td>91760</td>\n",
              "      <td>17203</td>\n",
              "      <td>4207</td>\n",
              "      <td>0</td>\n",
              "      <td>8.0</td>\n",
              "      <td>-20,4237</td>\n",
              "      <td>-49,9781</td>\n",
              "      <td>9</td>\n",
              "    </tr>\n",
              "  </tbody>\n",
              "</table>\n",
              "<p>49330 rows × 36 columns</p>\n",
              "</div>"
            ],
            "text/plain": [
              "        Município1  Código Município IBGE  ...  longitude semana_epidem\n",
              "0        AMERICANA                3501608  ...   -47,3331            14\n",
              "1        AMERICANA                3501608  ...   -47,3331             9\n",
              "2        AMERICANA                3501608  ...   -47,3331             5\n",
              "3        AMERICANA                3501608  ...   -47,3331             1\n",
              "4        AMERICANA                3501608  ...   -47,3331            13\n",
              "...            ...                    ...  ...        ...           ...\n",
              "49325  VOTUPORANGA                3557105  ...   -49,9781            10\n",
              "49326  VOTUPORANGA                3557105  ...   -49,9781             9\n",
              "49327  VOTUPORANGA                3557105  ...   -49,9781             9\n",
              "49328  VOTUPORANGA                3557105  ...   -49,9781             9\n",
              "49329  VOTUPORANGA                3557105  ...   -49,9781             9\n",
              "\n",
              "[49330 rows x 36 columns]"
            ]
          },
          "metadata": {
            "tags": []
          },
          "execution_count": 16
        }
      ]
    },
    {
      "cell_type": "markdown",
      "metadata": {
        "id": "R70s_AyGHCqm"
      },
      "source": [
        "# Correlação de Pearson"
      ]
    },
    {
      "cell_type": "markdown",
      "metadata": {
        "id": "sHbVphVQ0rA4"
      },
      "source": [
        "## Média de isolamento"
      ]
    },
    {
      "cell_type": "markdown",
      "metadata": {
        "id": "qku125bIHGJF"
      },
      "source": [
        "Para estudar a correlação entre os dados de isolamento de são paulo com os índices da covid, iniciaremos com o método mais simples que é a correlação de Pearson."
      ]
    },
    {
      "cell_type": "markdown",
      "metadata": {
        "id": "Yal_QPumHdCF"
      },
      "source": [
        "Analisamos a correlação entre a média do índice de isolamento em um dia com os casos de óbitos novos e casos novos desse mesmo dia. Os valores deram uma correlação negativa e baixa. O p-valor é baixo, então o resultado é confiável"
      ]
    },
    {
      "cell_type": "code",
      "metadata": {
        "colab": {
          "base_uri": "https://localhost:8080/"
        },
        "id": "4NyVI4VvuJAM",
        "outputId": "00f0f709-1516-4bae-b68d-518db65159dc"
      },
      "source": [
        "r, p = scistats.pearsonr(merge_isolamento_covid_data.dropna()['Média de Índice De Isolamento'], merge_isolamento_covid_data.dropna()['obitos_novos'])\n",
        "print(f\"Pearson r: {r} and p-value: {p}\")"
      ],
      "execution_count": null,
      "outputs": [
        {
          "output_type": "stream",
          "text": [
            "Pearson r: -0.03831349022395001 and p-value: 1.7026249505131105e-17\n"
          ],
          "name": "stdout"
        }
      ]
    },
    {
      "cell_type": "code",
      "metadata": {
        "colab": {
          "base_uri": "https://localhost:8080/"
        },
        "id": "Q4AITk7YCIss",
        "outputId": "4ec03024-bff0-4315-a0a8-092274bf7e42"
      },
      "source": [
        "r, p = scistats.pearsonr(merge_isolamento_covid_data.dropna()['Média de Índice De Isolamento'], merge_isolamento_covid_data.dropna()['casos_novos'])\n",
        "print(f\"Pearson r: {r} and p-value: {p}\")"
      ],
      "execution_count": null,
      "outputs": [
        {
          "output_type": "stream",
          "text": [
            "Pearson r: -0.06146158532072596 and p-value: 1.6793201909689825e-42\n"
          ],
          "name": "stdout"
        }
      ]
    },
    {
      "cell_type": "markdown",
      "metadata": {
        "id": "akII57Rq1AnK"
      },
      "source": [
        "Agora vamos calcular a correlação de pearson para os dados de isolamento para os dias anteriores. Para calcular esses dados, vamos deslocar os dias e adicionar em uma nova coluna. Esta operação é repetida 15 vezes"
      ]
    },
    {
      "cell_type": "code",
      "metadata": {
        "colab": {
          "base_uri": "https://localhost:8080/"
        },
        "id": "L4QjTn4_7_WF",
        "outputId": "5475a8f9-5ce6-464c-eaf9-ff9ddfc80ac5"
      },
      "source": [
        "isolamento_filtered = isolamento_sao_paulo_data[['Código Município IBGE', 'data', 'Média de Índice De Isolamento']]\n",
        "isolamento_filtered['Média de Índice De Isolamento'] = isolamento_filtered['Média de Índice De Isolamento'].str.rstrip('%').astype('int')\n",
        "\n",
        "isolamento_filtered_indexed = isolamento_filtered.set_index(['Código Município IBGE', 'data'])\n",
        "\n",
        "covid_sao_paulo_data_lagged = pd.merge(covid_sao_paulo_data, isolamento_filtered_indexed, how='inner', left_on=['datahora', 'codigo_ibge'], right_on=['data', 'Código Município IBGE'], suffixes=[\"\", \"_1\"])\n",
        "covid_sao_paulo_data_lagged = covid_sao_paulo_data_lagged.rename(columns={'Média de Índice De Isolamento': 'isolamento_0'})\n",
        "\n",
        "for i in range(1,31):\n",
        "  isolamento_filtered_shift = isolamento_filtered_indexed.shift(-1 * i)\n",
        "  isolamento_filtered_shift = isolamento_filtered_shift.rename(columns={'Média de Índice De Isolamento': 'isolamento_' + str(i)})\n",
        "  covid_sao_paulo_data_lagged = pd.merge(covid_sao_paulo_data_lagged, isolamento_filtered_shift, how='inner', left_on=['datahora', 'codigo_ibge'], right_on=['data', 'Código Município IBGE'])"
      ],
      "execution_count": null,
      "outputs": [
        {
          "output_type": "stream",
          "text": [
            "/usr/local/lib/python3.7/dist-packages/ipykernel_launcher.py:2: SettingWithCopyWarning: \n",
            "A value is trying to be set on a copy of a slice from a DataFrame.\n",
            "Try using .loc[row_indexer,col_indexer] = value instead\n",
            "\n",
            "See the caveats in the documentation: https://pandas.pydata.org/pandas-docs/stable/user_guide/indexing.html#returning-a-view-versus-a-copy\n",
            "  \n"
          ],
          "name": "stderr"
        }
      ]
    },
    {
      "cell_type": "code",
      "metadata": {
        "id": "nvbKU15S707k"
      },
      "source": [
        "covid_sao_paulo_data_lagged.to_csv('isolamento_lagged.csv', sep=';', decimal=',')"
      ],
      "execution_count": null,
      "outputs": []
    },
    {
      "cell_type": "markdown",
      "metadata": {
        "id": "Wbny8XSL1dsz"
      },
      "source": [
        "Ao comparar as datas anteriores com os óbitos, observamos que a maior correlação está com o nível de isolamento do dia anterior e de 8 dias antes. O p-valor é baixo na maioria dos casos, com exceção dos dias 3 e 10."
      ]
    },
    {
      "cell_type": "code",
      "metadata": {
        "colab": {
          "base_uri": "https://localhost:8080/"
        },
        "id": "8SFKDeR9cWah",
        "outputId": "c9846725-25ff-4025-c98a-472e88f4fcce"
      },
      "source": [
        "r_series = list()\n",
        "p_series = list()\n",
        "for i in range(31):\n",
        "  r, p = scistats.pearsonr(covid_sao_paulo_data_lagged.dropna()['isolamento_' + str(i)], covid_sao_paulo_data_lagged.dropna()['obitos_novos'])\n",
        "  r_series.append(r)\n",
        "  p_series.append(p)\n",
        "  print(f\"For lagged {i} days Pearson r: {r} and p-value: {p}\")"
      ],
      "execution_count": null,
      "outputs": [
        {
          "output_type": "stream",
          "text": [
            "For lagged 0 days Pearson r: -0.03829332035186668 and p-value: 1.807004612393304e-17\n",
            "For lagged 1 days Pearson r: -0.04044509265165006 and p-value: 2.6133970916432193e-19\n",
            "For lagged 2 days Pearson r: -0.011769938645843154 and p-value: 0.008963903446194282\n",
            "For lagged 3 days Pearson r: -0.006298445910694012 and p-value: 0.16196635676332102\n",
            "For lagged 4 days Pearson r: -0.013492879665393363 and p-value: 0.0027352252441784322\n",
            "For lagged 5 days Pearson r: -0.015348302227978628 and p-value: 0.0006542660651678115\n",
            "For lagged 6 days Pearson r: -0.014734327512710331 and p-value: 0.0010689817296875767\n",
            "For lagged 7 days Pearson r: -0.02841869033680182 and p-value: 2.768517523280003e-10\n",
            "For lagged 8 days Pearson r: -0.030582722660011497 and p-value: 1.1057377603310036e-11\n",
            "For lagged 9 days Pearson r: -0.007040805827068087 and p-value: 0.11797639587520949\n",
            "For lagged 10 days Pearson r: 0.0013022197300203596 and p-value: 0.7724755000340151\n",
            "For lagged 11 days Pearson r: -0.010841657001100223 and p-value: 0.016071092021312478\n",
            "For lagged 12 days Pearson r: -0.010998855972856613 and p-value: 0.014597902020302918\n",
            "For lagged 13 days Pearson r: -0.011140609534227137 and p-value: 0.013372905922458857\n",
            "For lagged 14 days Pearson r: -0.025362570888310097 and p-value: 1.778405725658049e-08\n",
            "For lagged 15 days Pearson r: -0.030012895807173742 and p-value: 2.6392402264050177e-11\n",
            "For lagged 16 days Pearson r: -0.00858591689152836 and p-value: 0.0565972403997853\n",
            "For lagged 17 days Pearson r: -0.0030252191268407003 and p-value: 0.5017710179013473\n",
            "For lagged 18 days Pearson r: -0.012854317525480009 and p-value: 0.004314194986670163\n",
            "For lagged 19 days Pearson r: -0.014873326401677385 and p-value: 0.000957996528742145\n",
            "For lagged 20 days Pearson r: -0.014951928117956339 and p-value: 0.0009000598875212428\n",
            "For lagged 21 days Pearson r: -0.032073146895755814 and p-value: 1.0545680165688874e-12\n",
            "For lagged 22 days Pearson r: -0.03943135923589853 and p-value: 1.977880685857367e-18\n",
            "For lagged 23 days Pearson r: -0.018167808063437936 and p-value: 5.478385533741775e-05\n",
            "For lagged 24 days Pearson r: -0.011976573490418143 and p-value: 0.007830024136664037\n",
            "For lagged 25 days Pearson r: -0.019731901534158647 and p-value: 1.17812320038587e-05\n",
            "For lagged 26 days Pearson r: -0.02081067674586643 and p-value: 3.81532104607242e-06\n",
            "For lagged 27 days Pearson r: -0.01907974398377227 and p-value: 2.267735394685071e-05\n",
            "For lagged 28 days Pearson r: -0.036173139887623475 and p-value: 9.409241511450156e-16\n",
            "For lagged 29 days Pearson r: -0.039177068881155644 and p-value: 3.2603554876807766e-18\n",
            "For lagged 30 days Pearson r: -0.01654095255364439 and p-value: 0.00023979446357323027\n"
          ],
          "name": "stdout"
        }
      ]
    },
    {
      "cell_type": "code",
      "metadata": {
        "colab": {
          "base_uri": "https://localhost:8080/",
          "height": 265
        },
        "id": "FV1zD0SZdRj_",
        "outputId": "0b954475-c592-4c2e-a7cf-09d98542c950"
      },
      "source": [
        "plt.plot(r_series)\n",
        "plt.show()"
      ],
      "execution_count": null,
      "outputs": [
        {
          "output_type": "display_data",
          "data": {
            "image/png": "[encoded data removed]",
            "text/plain": [
              "<Figure size 432x288 with 1 Axes>"
            ]
          },
          "metadata": {
            "tags": [],
            "needs_background": "light"
          }
        }
      ]
    },
    {
      "cell_type": "code",
      "metadata": {
        "colab": {
          "base_uri": "https://localhost:8080/",
          "height": 266
        },
        "id": "FLRagSJkd7iF",
        "outputId": "811e5436-c3d2-420a-e788-c1c961941bef"
      },
      "source": [
        "plt.plot(p_series)\n",
        "plt.show()"
      ],
      "execution_count": null,
      "outputs": [
        {
          "output_type": "display_data",
          "data": {
            "image/png": "[encoded data removed]",
            "text/plain": [
              "<Figure size 432x288 with 1 Axes>"
            ]
          },
          "metadata": {
            "tags": [],
            "needs_background": "light"
          }
        }
      ]
    },
    {
      "cell_type": "markdown",
      "metadata": {
        "id": "r6-nonIK1wuB"
      },
      "source": [
        "Repetimos a operação para os casos novos e a maior correlação está no dia anterior e 8 dias antes. O p-valor se mantem baixo para todos os valores."
      ]
    },
    {
      "cell_type": "code",
      "metadata": {
        "colab": {
          "base_uri": "https://localhost:8080/"
        },
        "id": "NCBOvxM7d_cF",
        "outputId": "2994cffd-f729-48e8-dcaa-a45e63564868"
      },
      "source": [
        "r_series = list()\n",
        "p_series = list()\n",
        "for i in range(31):\n",
        "  r, p = scistats.pearsonr(covid_sao_paulo_data_lagged.dropna()['isolamento_' + str(i)], covid_sao_paulo_data_lagged.dropna()['casos_novos'])\n",
        "  r_series.append(r)\n",
        "  p_series.append(p)\n",
        "  print(f\"For lagged {i} days Pearson r: {r} and p-value: {p}\")"
      ],
      "execution_count": null,
      "outputs": [
        {
          "output_type": "stream",
          "text": [
            "For lagged 0 days Pearson r: -0.061438129694780325 and p-value: 1.9028654051015518e-42\n",
            "For lagged 1 days Pearson r: -0.0682612727629104 and p-value: 5.250419663919217e-52\n",
            "For lagged 2 days Pearson r: -0.04598086981451651 and p-value: 1.7029897295688704e-24\n",
            "For lagged 3 days Pearson r: -0.03682774827193262 and p-value: 2.8426745929962946e-16\n",
            "For lagged 4 days Pearson r: -0.04023480304104815 and p-value: 3.993381974114377e-19\n",
            "For lagged 5 days Pearson r: -0.04033205376280259 and p-value: 3.2832375181187943e-19\n",
            "For lagged 6 days Pearson r: -0.04062642129356549 and p-value: 1.8099802482727972e-19\n",
            "For lagged 7 days Pearson r: -0.05335888873364167 and p-value: 2.0036154948014216e-32\n",
            "For lagged 8 days Pearson r: -0.05821529407573568 and p-value: 2.7901433493336786e-38\n",
            "For lagged 9 days Pearson r: -0.0404890392710698 and p-value: 2.3911438723660737e-19\n",
            "For lagged 10 days Pearson r: -0.029004641789158604 and p-value: 1.1837797834818024e-10\n",
            "For lagged 11 days Pearson r: -0.03393781377402405 and p-value: 4.7888137620713884e-14\n",
            "For lagged 12 days Pearson r: -0.0354883534957327 and p-value: 3.2183164426238623e-15\n",
            "For lagged 13 days Pearson r: -0.035262152640522 and p-value: 4.806883979706625e-15\n",
            "For lagged 14 days Pearson r: -0.04854321491158421 and p-value: 4.068067800924949e-27\n",
            "For lagged 15 days Pearson r: -0.0552937507269614 and p-value: 1.069848226419155e-34\n",
            "For lagged 16 days Pearson r: -0.03840000432285509 and p-value: 1.4725246482949304e-17\n",
            "For lagged 17 days Pearson r: -0.029284473442863553 and p-value: 7.843588305104198e-11\n",
            "For lagged 18 days Pearson r: -0.03448366094344739 and p-value: 1.8759939821317425e-14\n",
            "For lagged 19 days Pearson r: -0.03725499949572747 and p-value: 1.286900539277974e-16\n",
            "For lagged 20 days Pearson r: -0.037768611768701194 and p-value: 4.9053203686303586e-17\n",
            "For lagged 21 days Pearson r: -0.05249681578609571 and p-value: 1.9429203842465744e-31\n",
            "For lagged 22 days Pearson r: -0.0628296028769848 and p-value: 2.5792108426895606e-44\n",
            "For lagged 23 days Pearson r: -0.04816516446334643 and p-value: 1.0116709685428091e-26\n",
            "For lagged 24 days Pearson r: -0.040399499409305456 and p-value: 2.865549838196558e-19\n",
            "For lagged 25 days Pearson r: -0.04269678567326614 and p-value: 2.435437617195222e-21\n",
            "For lagged 26 days Pearson r: -0.04322023631710095 and p-value: 7.925921501029867e-22\n",
            "For lagged 27 days Pearson r: -0.04144301958883223 and p-value: 3.392878211093294e-20\n",
            "For lagged 28 days Pearson r: -0.05718750966316164 and p-value: 5.336629371637014e-37\n",
            "For lagged 29 days Pearson r: -0.0625019579142096 and p-value: 7.162677650128406e-44\n",
            "For lagged 30 days Pearson r: -0.0464293475692058 and p-value: 6.059709652276723e-25\n"
          ],
          "name": "stdout"
        }
      ]
    },
    {
      "cell_type": "code",
      "metadata": {
        "colab": {
          "base_uri": "https://localhost:8080/",
          "height": 265
        },
        "id": "rP2zLX-L0JIk",
        "outputId": "6f3a647e-07d7-49d5-8641-4a6086e05afc"
      },
      "source": [
        "plt.plot(r_series)\n",
        "plt.show()"
      ],
      "execution_count": null,
      "outputs": [
        {
          "output_type": "display_data",
          "data": {
            "image/png": "[encoded data removed]",
            "text/plain": [
              "<Figure size 432x288 with 1 Axes>"
            ]
          },
          "metadata": {
            "tags": [],
            "needs_background": "light"
          }
        }
      ]
    },
    {
      "cell_type": "code",
      "metadata": {
        "colab": {
          "base_uri": "https://localhost:8080/",
          "height": 276
        },
        "id": "cphBT0P50PKM",
        "outputId": "416d9cb0-59c9-4f00-f9b9-a34b956dad81"
      },
      "source": [
        "plt.plot(p_series)\n",
        "plt.show()"
      ],
      "execution_count": null,
      "outputs": [
        {
          "output_type": "display_data",
          "data": {
            "image/png": "[encoded data removed]",
            "text/plain": [
              "<Figure size 432x288 with 1 Axes>"
            ]
          },
          "metadata": {
            "tags": [],
            "needs_background": "light"
          }
        }
      ]
    },
    {
      "cell_type": "markdown",
      "metadata": {
        "id": "sfBNM7Sg3Mhp"
      },
      "source": [
        "Analisando a correlação entre óbitos, casos novos e a média de isolamento divulgado pelo estado de são paulo mostram uma correlação baixa. O isolamento do dia 1 e 8 são os que apresentam maior correlação."
      ]
    },
    {
      "cell_type": "markdown",
      "metadata": {
        "id": "cWRgJWZ03h2t"
      },
      "source": [
        "## Google Mobility"
      ]
    },
    {
      "cell_type": "markdown",
      "metadata": {
        "id": "lKQFqkus_7lb"
      },
      "source": [
        "## Leitura e processamento dos dados"
      ]
    },
    {
      "cell_type": "code",
      "metadata": {
        "colab": {
          "base_uri": "https://localhost:8080/"
        },
        "id": "m6J-fi6u0Slt",
        "outputId": "71605483-3662-4203-b851-2031b7b6784a"
      },
      "source": [
        "# Read mobility data\n",
        "mobility_data_2020 = pd.read_csv(\"data/raw/2020_BR_Region_Mobility_Report.csv\")\n",
        "mobility_data_2021 = pd.read_csv(\"data/raw/2021_BR_Region_Mobility_Report.csv\")\n",
        "mobility_data = pd.concat([mobility_data_2020, mobility_data_2021])\n",
        "\n",
        "# Filter for São Paulo state\n",
        "mobility_sao_paulo_data = mobility_data.loc[mobility_data['sub_region_1'] == 'State of São Paulo']\n",
        "mobility_sao_paulo_data = mobility_sao_paulo_data.dropna(subset=['sub_region_2'])\n",
        "\n",
        "# Read data from ibge to convert city name to ibge code (faster and light)\n",
        "ibge_code_data = pd.read_csv('data/raw/RELATORIO_DTB_BRASIL_MUNICIPIO.csv', engine='python', sep=',')\n",
        "\n",
        "# Filter for São Paulo state for optimization and remove the need to compare city and state\n",
        "ibge_code_sao_paulo_data = ibge_code_data.loc[ibge_code_data['Nome_UF'] == 'São Paulo']\n",
        "\n",
        "# Merge mobility data and ibge data\n",
        "mobility_sao_paulo_ibge_data = pd.merge(left=mobility_sao_paulo_data, right=ibge_code_sao_paulo_data, how='inner', left_on='sub_region_2', right_on='Nome_Município')\n",
        "\n",
        "# Read covid-19 data from São Paulo state\n",
        "covid_sao_paulo_data = pd.read_csv('data/raw/20210420_dados_covid_municipios_sp_utf_8.csv', engine='python', sep=';')\n",
        "\n",
        "# Set date to datetime\n",
        "mobility_sao_paulo_ibge_data['date'] = mobility_sao_paulo_ibge_data.loc[:,'date'].astype('datetime64[ns]')\n",
        "covid_sao_paulo_data['datahora'] = covid_sao_paulo_data.loc[:,'datahora'].astype('datetime64[ns]')"
      ],
      "execution_count": null,
      "outputs": [
        {
          "output_type": "stream",
          "text": [
            "/usr/local/lib/python3.7/dist-packages/IPython/core/interactiveshell.py:2718: DtypeWarning: Columns (5) have mixed types.Specify dtype option on import or set low_memory=False.\n",
            "  interactivity=interactivity, compiler=compiler, result=result)\n"
          ],
          "name": "stderr"
        }
      ]
    },
    {
      "cell_type": "code",
      "metadata": {
        "id": "urrYPrq7P3oP"
      },
      "source": [
        "mobility_sao_paulo_ibge_data.to_csv('mobility_sao_paulo.csv')"
      ],
      "execution_count": null,
      "outputs": []
    },
    {
      "cell_type": "markdown",
      "metadata": {
        "id": "X_gD04c6AA37"
      },
      "source": [
        "## Retail"
      ]
    },
    {
      "cell_type": "code",
      "metadata": {
        "id": "Dvo9p-XVDy6t"
      },
      "source": [
        "# Get columns that will be used to merge and the mobility to retail data\n",
        "mobility_retail = mobility_sao_paulo_ibge_data[['Código Município Completo', 'date', 'retail_and_recreation_percent_change_from_baseline']]\n",
        "mobility_retail_index = mobility_retail.set_index(['Código Município Completo', 'date'])\n",
        "\n",
        "# Merge covid-19 data and retail data using shifting to compare with previous dates\n",
        "covid_retail_data = pd.merge(covid_sao_paulo_data, mobility_retail_index, how='inner', left_on=['datahora', 'codigo_ibge'], right_on=['date', 'Código Município Completo'])\n",
        "covid_retail_data = covid_retail_data.rename(columns={'retail_and_recreation_percent_change_from_baseline': 'retail_0'})\n",
        "for i in range(1,30):\n",
        "  mobility_retail_shift = mobility_retail_index.shift(-1 * i)\n",
        "  mobility_retail_shift = mobility_retail_shift.rename(columns={'retail_and_recreation_percent_change_from_baseline': 'retail_' + str(i)})\n",
        "  covid_retail_data = pd.merge(covid_retail_data, mobility_retail_shift, how='inner', left_on=['datahora', 'codigo_ibge'], right_on=['date', 'Código Município Completo'])"
      ],
      "execution_count": null,
      "outputs": []
    },
    {
      "cell_type": "code",
      "metadata": {
        "colab": {
          "base_uri": "https://localhost:8080/"
        },
        "id": "gzWYSPFbA7Uv",
        "outputId": "4c8fea41-7ec0-407d-985f-f8b5aed9c8b6"
      },
      "source": [
        "# Get r data and p data for different dates\n",
        "r_series = list()\n",
        "p_series = list()\n",
        "for i in range(15):\n",
        "  r, p = scistats.pearsonr(covid_retail_data.dropna()['retail_' + str(i)], covid_retail_data.dropna()['obitos_novos'])\n",
        "  r_series.append(r)\n",
        "  p_series.append(p)\n",
        "  print(f\"For lagged {i} days Pearson r: {r} and p-value: {p}\")"
      ],
      "execution_count": null,
      "outputs": [
        {
          "output_type": "stream",
          "text": [
            "For lagged 0 days Pearson r: -0.04935712023294154 and p-value: 8.756095231023957e-30\n",
            "For lagged 1 days Pearson r: -0.05304858772677216 and p-value: 3.76345376563879e-34\n",
            "For lagged 2 days Pearson r: -0.057032052755817644 and p-value: 3.2583590071675616e-39\n",
            "For lagged 3 days Pearson r: -0.060302751404739834 and p-value: 1.212701304176117e-43\n",
            "For lagged 4 days Pearson r: -0.05690443249436639 and p-value: 4.7955684769559706e-39\n",
            "For lagged 5 days Pearson r: -0.051330162709894656 and p-value: 4.4378845668503285e-32\n",
            "For lagged 6 days Pearson r: -0.04384797874199532 and p-value: 7.579609681953663e-24\n",
            "For lagged 7 days Pearson r: -0.042952480168830715 and p-value: 6.015968933236799e-23\n",
            "For lagged 8 days Pearson r: -0.04954803028509307 and p-value: 5.298199327992714e-30\n",
            "For lagged 9 days Pearson r: -0.0464521977220454 and p-value: 1.4434447152152793e-26\n",
            "For lagged 10 days Pearson r: -0.04981050879596101 and p-value: 2.6472349159017648e-30\n",
            "For lagged 11 days Pearson r: -0.04683257088595964 and p-value: 5.6120749190391495e-27\n",
            "For lagged 12 days Pearson r: -0.043931988748530486 and p-value: 6.227428081125593e-24\n",
            "For lagged 13 days Pearson r: -0.03582996727985588 and p-value: 1.9289372246647083e-16\n",
            "For lagged 14 days Pearson r: -0.032935782067976774 and p-value: 3.98298166847935e-14\n"
          ],
          "name": "stdout"
        }
      ]
    },
    {
      "cell_type": "code",
      "metadata": {
        "colab": {
          "base_uri": "https://localhost:8080/",
          "height": 265
        },
        "id": "w4UYmlds9nfm",
        "outputId": "a3d23fa8-86d2-439d-acb8-ad63e3c7a2a4"
      },
      "source": [
        "plt.plot(r_series)\n",
        "plt.show()"
      ],
      "execution_count": null,
      "outputs": [
        {
          "output_type": "display_data",
          "data": {
            "image/png": "[encoded data removed]",
            "text/plain": [
              "<Figure size 432x288 with 1 Axes>"
            ]
          },
          "metadata": {
            "tags": [],
            "needs_background": "light"
          }
        }
      ]
    },
    {
      "cell_type": "code",
      "metadata": {
        "colab": {
          "base_uri": "https://localhost:8080/",
          "height": 276
        },
        "id": "6eBtEfZp9zZf",
        "outputId": "b974f5df-7223-449e-deba-6b94faf1f166"
      },
      "source": [
        "plt.plot(p_series)\n",
        "plt.show()"
      ],
      "execution_count": null,
      "outputs": [
        {
          "output_type": "display_data",
          "data": {
            "image/png": "[encoded data removed]",
            "text/plain": [
              "<Figure size 432x288 with 1 Axes>"
            ]
          },
          "metadata": {
            "tags": [],
            "needs_background": "light"
          }
        }
      ]
    },
    {
      "cell_type": "code",
      "metadata": {
        "colab": {
          "base_uri": "https://localhost:8080/"
        },
        "id": "0sK64jcGA-c5",
        "outputId": "d309d62a-cf52-4444-e997-070dcb97ada3"
      },
      "source": [
        "# Get r data and p data for different dates\n",
        "r_series = list()\n",
        "p_series = list()\n",
        "for i in range(15):\n",
        "  r, p = scistats.pearsonr(covid_retail_data.dropna()['retail_' + str(i)], covid_retail_data.dropna()['casos_novos'])\n",
        "  r_series.append(r)\n",
        "  p_series.append(p)\n",
        "  print(f\"For lagged {i} days Pearson r: {r} and p-value: {p}\")"
      ],
      "execution_count": null,
      "outputs": [
        {
          "output_type": "stream",
          "text": [
            "For lagged 0 days Pearson r: -0.03292948384485038 and p-value: 4.02753519885466e-14\n",
            "For lagged 1 days Pearson r: -0.03924378445455856 and p-value: 2.0456672031377644e-19\n",
            "For lagged 2 days Pearson r: -0.045044606145076244 and p-value: 4.455753740278738e-25\n",
            "For lagged 3 days Pearson r: -0.04652451117368498 and p-value: 1.2068577180414456e-26\n",
            "For lagged 4 days Pearson r: -0.04157828357222504 and p-value: 1.3315526336856018e-21\n",
            "For lagged 5 days Pearson r: -0.035396303378138864 and p-value: 4.4081364591604515e-16\n",
            "For lagged 6 days Pearson r: -0.029102492290298425 and p-value: 2.3717662539256323e-11\n",
            "For lagged 7 days Pearson r: -0.030678693349858253 and p-value: 1.880053464066736e-12\n",
            "For lagged 8 days Pearson r: -0.04026293049828732 and p-value: 2.352623245314168e-20\n",
            "For lagged 9 days Pearson r: -0.03865198223507808 and p-value: 7.005342828276023e-19\n",
            "For lagged 10 days Pearson r: -0.03992162747945474 and p-value: 4.8835918953526855e-20\n",
            "For lagged 11 days Pearson r: -0.034111973290879005 and p-value: 4.811688524692367e-15\n",
            "For lagged 12 days Pearson r: -0.031280782160915926 and p-value: 6.900354904702562e-13\n",
            "For lagged 13 days Pearson r: -0.02717613026584661 and p-value: 4.4127618827598715e-10\n",
            "For lagged 14 days Pearson r: -0.025783831111851382 and p-value: 3.240055550066355e-09\n"
          ],
          "name": "stdout"
        }
      ]
    },
    {
      "cell_type": "code",
      "metadata": {
        "colab": {
          "base_uri": "https://localhost:8080/",
          "height": 267
        },
        "id": "ZqX_yqshBE2o",
        "outputId": "c68bc0e4-29fe-414b-8aba-de68a515f4d6"
      },
      "source": [
        "plt.plot(r_series)\n",
        "plt.show()"
      ],
      "execution_count": null,
      "outputs": [
        {
          "output_type": "display_data",
          "data": {
            "image/png": "[encoded data removed]",
            "text/plain": [
              "<Figure size 432x288 with 1 Axes>"
            ]
          },
          "metadata": {
            "tags": [],
            "needs_background": "light"
          }
        }
      ]
    },
    {
      "cell_type": "code",
      "metadata": {
        "colab": {
          "base_uri": "https://localhost:8080/",
          "height": 276
        },
        "id": "uOrMQ6RABGmO",
        "outputId": "2245c0ba-e500-470d-a2ca-88d4ce8f33bc"
      },
      "source": [
        "plt.plot(p_series)\n",
        "plt.show()"
      ],
      "execution_count": null,
      "outputs": [
        {
          "output_type": "display_data",
          "data": {
            "image/png": "[encoded data removed]",
            "text/plain": [
              "<Figure size 432x288 with 1 Axes>"
            ]
          },
          "metadata": {
            "tags": [],
            "needs_background": "light"
          }
        }
      ]
    },
    {
      "cell_type": "markdown",
      "metadata": {
        "id": "zEPT4755AZJO"
      },
      "source": [
        "## Grocery and Pharmacy"
      ]
    },
    {
      "cell_type": "code",
      "metadata": {
        "id": "zhpjbEia-Aa_"
      },
      "source": [
        "# Get columns that will be used to merge and the mobility to grocery and pharmacy data\n",
        "mobility_pharmacy = mobility_sao_paulo_ibge_data[['Código Município Completo', 'date', 'grocery_and_pharmacy_percent_change_from_baseline']]\n",
        "mobility_pharmacy_index = mobility_pharmacy.set_index(['Código Município Completo', 'date'])\n",
        "\n",
        "# Merge covid-19 data and retail data using shifting to compare with previous dates\n",
        "covid_pharmacy_data = pd.merge(covid_sao_paulo_data, mobility_pharmacy_index, how='inner', left_on=['datahora', 'codigo_ibge'], right_on=['date', 'Código Município Completo'])\n",
        "covid_pharmacy_data = covid_pharmacy_data.rename(columns={'grocery_and_pharmacy_percent_change_from_baseline': 'date_0'})\n",
        "for i in range(1,30):\n",
        "  mobility_pharmacy_shift = mobility_pharmacy_index.shift(-1 * i)\n",
        "  mobility_pharmacy_shift = mobility_pharmacy_shift.rename(columns={'grocery_and_pharmacy_percent_change_from_baseline': 'date_' + str(i)})\n",
        "  covid_pharmacy_data = pd.merge(covid_pharmacy_data, mobility_pharmacy_shift, how='inner', left_on=['datahora', 'codigo_ibge'], right_on=['date', 'Código Município Completo'])"
      ],
      "execution_count": null,
      "outputs": []
    },
    {
      "cell_type": "code",
      "metadata": {
        "colab": {
          "base_uri": "https://localhost:8080/"
        },
        "id": "u44VKUrjAyxM",
        "outputId": "697b527f-5456-4515-e1a3-408f0c35ba95"
      },
      "source": [
        "# Get r data and p data for different dates\n",
        "r_series = list()\n",
        "p_series = list()\n",
        "for i in range(15):\n",
        "  r, p = scistats.pearsonr(covid_pharmacy_data.dropna()['date_' + str(i)], covid_pharmacy_data.dropna()['obitos_novos'])\n",
        "  r_series.append(r)\n",
        "  p_series.append(p)\n",
        "  print(f\"For lagged {i} days Pearson r: {r} and p-value: {p}\")"
      ],
      "execution_count": null,
      "outputs": [
        {
          "output_type": "stream",
          "text": [
            "For lagged 0 days Pearson r: 0.0014487374908485253 and p-value: 0.738302992069263\n",
            "For lagged 1 days Pearson r: 0.0029791334938971265 and p-value: 0.4920601514569898\n",
            "For lagged 2 days Pearson r: -0.0026167075377298912 and p-value: 0.5462065085720939\n",
            "For lagged 3 days Pearson r: -0.00994972999060138 and p-value: 0.021754993796363135\n",
            "For lagged 4 days Pearson r: -0.00935392963474861 and p-value: 0.030989448296695837\n",
            "For lagged 5 days Pearson r: -0.008685228101167144 and p-value: 0.045178809600033724\n",
            "For lagged 6 days Pearson r: -0.0040354222263521075 and p-value: 0.35204259685343625\n",
            "For lagged 7 days Pearson r: 0.00372899000638849 and p-value: 0.3898078879437125\n",
            "For lagged 8 days Pearson r: -0.0008773744044134925 and p-value: 0.8396539336525903\n",
            "For lagged 9 days Pearson r: 0.003863777413461684 and p-value: 0.37290223344224066\n",
            "For lagged 10 days Pearson r: -0.007092249111554733 and p-value: 0.10192270060862137\n",
            "For lagged 11 days Pearson r: -0.00428361188179869 and p-value: 0.32321546458023503\n",
            "For lagged 12 days Pearson r: -0.0058735089439067465 and p-value: 0.17556614653413116\n",
            "For lagged 13 days Pearson r: -0.002639087759317137 and p-value: 0.5427792934203886\n",
            "For lagged 14 days Pearson r: 0.0019369459650430132 and p-value: 0.655098799036905\n"
          ],
          "name": "stdout"
        }
      ]
    },
    {
      "cell_type": "code",
      "metadata": {
        "colab": {
          "base_uri": "https://localhost:8080/",
          "height": 265
        },
        "id": "m3KFRG_aBWYE",
        "outputId": "46eb2289-3b20-4426-89b2-62eee6864053"
      },
      "source": [
        "plt.plot(r_series)\n",
        "plt.show()"
      ],
      "execution_count": null,
      "outputs": [
        {
          "output_type": "display_data",
          "data": {
            "image/png": "[encoded data removed]",
            "text/plain": [
              "<Figure size 432x288 with 1 Axes>"
            ]
          },
          "metadata": {
            "tags": [],
            "needs_background": "light"
          }
        }
      ]
    },
    {
      "cell_type": "code",
      "metadata": {
        "colab": {
          "base_uri": "https://localhost:8080/",
          "height": 265
        },
        "id": "t-1eEBQqBbXm",
        "outputId": "fdfdda05-42fa-4acf-90a7-16d1271257b4"
      },
      "source": [
        "plt.plot(p_series)\n",
        "plt.show()"
      ],
      "execution_count": null,
      "outputs": [
        {
          "output_type": "display_data",
          "data": {
            "image/png": "[encoded data removed]",
            "text/plain": [
              "<Figure size 432x288 with 1 Axes>"
            ]
          },
          "metadata": {
            "tags": [],
            "needs_background": "light"
          }
        }
      ]
    },
    {
      "cell_type": "code",
      "metadata": {
        "colab": {
          "base_uri": "https://localhost:8080/"
        },
        "id": "F9tseuh0eC7s",
        "outputId": "2ef78f36-14a6-41c8-e5df-74708e136521"
      },
      "source": [
        "# Get r data and p data for different dates\n",
        "r_series = list()\n",
        "p_series = list()\n",
        "for i in range(15):\n",
        "  r, p = scistats.pearsonr(covid_pharmacy_data.dropna()['date_' + str(i)], covid_pharmacy_data.dropna()['casos_novos'])\n",
        "  r_series.append(r)\n",
        "  p_series.append(p)\n",
        "  print(f\"For lagged {i} days Pearson r: {r} and p-value: {p}\")"
      ],
      "execution_count": null,
      "outputs": [
        {
          "output_type": "stream",
          "text": [
            "For lagged 0 days Pearson r: 0.014712174856054111 and p-value: 0.0006912182289980688\n",
            "For lagged 1 days Pearson r: 0.012134320445446226 and p-value: 0.005134610816819934\n",
            "For lagged 2 days Pearson r: 0.002816312184011932 and p-value: 0.5160239848256197\n",
            "For lagged 3 days Pearson r: -0.004002815819421997 and p-value: 0.35594728232642514\n",
            "For lagged 4 days Pearson r: -0.0005828936616774742 and p-value: 0.8930670567252584\n",
            "For lagged 5 days Pearson r: 0.003513447339445362 and p-value: 0.41779199615495005\n",
            "For lagged 6 days Pearson r: 0.008459212931173035 and p-value: 0.05107365940657503\n",
            "For lagged 7 days Pearson r: 0.0167174782667223 and p-value: 0.00011545618117063564\n",
            "For lagged 8 days Pearson r: 0.007096621978012321 and p-value: 0.10171167205083745\n",
            "For lagged 9 days Pearson r: 0.010626692105658529 and p-value: 0.014255936296228268\n",
            "For lagged 10 days Pearson r: 0.0011467805784956334 and p-value: 0.7914212907760917\n",
            "For lagged 11 days Pearson r: 0.006067155508769975 and p-value: 0.16175515670369833\n",
            "For lagged 12 days Pearson r: 0.00788887121959259 and p-value: 0.06886199317260097\n",
            "For lagged 13 days Pearson r: 0.004747325082349523 and p-value: 0.27359864655822314\n",
            "For lagged 14 days Pearson r: 0.011879246697740594 and p-value: 0.0061507477917510465\n"
          ],
          "name": "stdout"
        }
      ]
    },
    {
      "cell_type": "code",
      "metadata": {
        "colab": {
          "base_uri": "https://localhost:8080/",
          "height": 265
        },
        "id": "L7Rp9l1TeP8N",
        "outputId": "3a8fb39f-3c23-43ab-fb12-0a989c484c49"
      },
      "source": [
        "plt.plot(r_series)\n",
        "plt.show()"
      ],
      "execution_count": null,
      "outputs": [
        {
          "output_type": "display_data",
          "data": {
            "image/png": "[encoded data removed]",
            "text/plain": [
              "<Figure size 432x288 with 1 Axes>"
            ]
          },
          "metadata": {
            "tags": [],
            "needs_background": "light"
          }
        }
      ]
    },
    {
      "cell_type": "code",
      "metadata": {
        "colab": {
          "base_uri": "https://localhost:8080/",
          "height": 265
        },
        "id": "1aVr_Yx9eTI1",
        "outputId": "0f204230-13fc-4c94-cf4d-87c947cd9287"
      },
      "source": [
        "plt.plot(p_series)\n",
        "plt.show()"
      ],
      "execution_count": null,
      "outputs": [
        {
          "output_type": "display_data",
          "data": {
            "image/png": "[encoded data removed]",
            "text/plain": [
              "<Figure size 432x288 with 1 Axes>"
            ]
          },
          "metadata": {
            "tags": [],
            "needs_background": "light"
          }
        }
      ]
    },
    {
      "cell_type": "markdown",
      "metadata": {
        "id": "qMpvz3EQdfsM"
      },
      "source": [
        "## Parks"
      ]
    },
    {
      "cell_type": "code",
      "metadata": {
        "id": "BR9ys21ndfOS"
      },
      "source": [
        "# Get columns that will be used to merge and the mobility to grocery and pharmacy data\n",
        "mobility_parks = mobility_sao_paulo_ibge_data[['Código Município Completo', 'date', 'parks_percent_change_from_baseline']]\n",
        "mobility_parks_index = mobility_parks.set_index(['Código Município Completo', 'date'])\n",
        "\n",
        "# Merge covid-19 data and retail data using shifting to compare with previous dates\n",
        "covid_park_data = pd.merge(covid_sao_paulo_data, mobility_parks_index, how='inner', left_on=['datahora', 'codigo_ibge'], right_on=['date', 'Código Município Completo'])\n",
        "covid_park_data = covid_park_data.rename(columns={'parks_percent_change_from_baseline': 'date_0'})\n",
        "for i in range(1,30):\n",
        "  mobility_park_shift = mobility_parks_index.shift(-1 * i)\n",
        "  mobility_park_shift = mobility_park_shift.rename(columns={'parks_percent_change_from_baseline': 'date_' + str(i)})\n",
        "  covid_park_data = pd.merge(covid_park_data, mobility_park_shift, how='inner', left_on=['datahora', 'codigo_ibge'], right_on=['date', 'Código Município Completo'])"
      ],
      "execution_count": null,
      "outputs": []
    },
    {
      "cell_type": "code",
      "metadata": {
        "colab": {
          "base_uri": "https://localhost:8080/"
        },
        "id": "O5hmVTJBBcxc",
        "outputId": "35171bcc-2469-4e08-f243-d1c3381a6ed7"
      },
      "source": [
        "# Get r data and p data for different dates\n",
        "r_series = list()\n",
        "p_series = list()\n",
        "for i in range(15):\n",
        "  r, p = scistats.pearsonr(covid_park_data.dropna()['date_' + str(i)], covid_park_data.dropna()['obitos_novos'])\n",
        "  r_series.append(r)\n",
        "  p_series.append(p)\n",
        "  print(f\"For lagged {i} days Pearson r: {r} and p-value: {p}\")"
      ],
      "execution_count": null,
      "outputs": [
        {
          "output_type": "stream",
          "text": [
            "For lagged 0 days Pearson r: -0.0176928053452742 and p-value: 0.0009465496550224266\n",
            "For lagged 1 days Pearson r: -0.011935561965573022 and p-value: 0.025740942474316474\n",
            "For lagged 2 days Pearson r: -0.013368633078802102 and p-value: 0.012493760190141574\n",
            "For lagged 3 days Pearson r: -0.018565939109619373 and p-value: 0.0005221564935211892\n",
            "For lagged 4 days Pearson r: -0.021573654547848792 and p-value: 5.548071707987057e-05\n",
            "For lagged 5 days Pearson r: -0.01651480308065565 and p-value: 0.0020300127180575334\n",
            "For lagged 6 days Pearson r: -0.014465674538609901 and p-value: 0.006874124905649112\n",
            "For lagged 7 days Pearson r: -0.013509466658654323 and p-value: 0.011596221757954295\n",
            "For lagged 8 days Pearson r: -0.010958740491689418 and p-value: 0.040601911640644923\n",
            "For lagged 9 days Pearson r: -0.009701119138707665 and p-value: 0.06989632405882724\n",
            "For lagged 10 days Pearson r: -0.01460954029214815 and p-value: 0.006337941567504879\n",
            "For lagged 11 days Pearson r: -0.014530969286789434 and p-value: 0.006625916761893038\n",
            "For lagged 12 days Pearson r: -0.010332650977578593 and p-value: 0.05353438419366731\n",
            "For lagged 13 days Pearson r: -0.00932939264239059 and p-value: 0.08131186379892669\n",
            "For lagged 14 days Pearson r: -0.009804059856487276 and p-value: 0.06697875287387406\n"
          ],
          "name": "stdout"
        }
      ]
    },
    {
      "cell_type": "code",
      "metadata": {
        "colab": {
          "base_uri": "https://localhost:8080/",
          "height": 265
        },
        "id": "AqjTdY0Cebll",
        "outputId": "6f4f0467-b8c6-4f09-b469-1697785bda45"
      },
      "source": [
        "plt.plot(r_series)\n",
        "plt.show()"
      ],
      "execution_count": null,
      "outputs": [
        {
          "output_type": "display_data",
          "data": {
            "image/png": "[encoded data removed]",
            "text/plain": [
              "<Figure size 432x288 with 1 Axes>"
            ]
          },
          "metadata": {
            "tags": [],
            "needs_background": "light"
          }
        }
      ]
    },
    {
      "cell_type": "code",
      "metadata": {
        "colab": {
          "base_uri": "https://localhost:8080/",
          "height": 265
        },
        "id": "c4tPp0jPedWt",
        "outputId": "99be4c63-eb15-42d6-c4df-0840a75c294b"
      },
      "source": [
        "plt.plot(p_series)\n",
        "plt.show()"
      ],
      "execution_count": null,
      "outputs": [
        {
          "output_type": "display_data",
          "data": {
            "image/png": "[encoded data removed]",
            "text/plain": [
              "<Figure size 432x288 with 1 Axes>"
            ]
          },
          "metadata": {
            "tags": [],
            "needs_background": "light"
          }
        }
      ]
    },
    {
      "cell_type": "code",
      "metadata": {
        "colab": {
          "base_uri": "https://localhost:8080/"
        },
        "id": "qC0dVsPAeeow",
        "outputId": "c8b74495-0862-456c-cc3c-1f7901f64d78"
      },
      "source": [
        "# Get r data and p data for different dates\n",
        "r_series = list()\n",
        "p_series = list()\n",
        "for i in range(15):\n",
        "  r, p = scistats.pearsonr(covid_park_data.dropna()['date_' + str(i)], covid_park_data.dropna()['casos_novos'])\n",
        "  r_series.append(r)\n",
        "  p_series.append(p)\n",
        "  print(f\"For lagged {i} days Pearson r: {r} and p-value: {p}\")"
      ],
      "execution_count": null,
      "outputs": [
        {
          "output_type": "stream",
          "text": [
            "For lagged 0 days Pearson r: -0.0061395070480729855 and p-value: 0.25133821019316294\n",
            "For lagged 1 days Pearson r: -0.0014384572243044988 and p-value: 0.7881152633817433\n",
            "For lagged 2 days Pearson r: -0.006396498140495709 and p-value: 0.23203928891483058\n",
            "For lagged 3 days Pearson r: -0.010025947431197032 and p-value: 0.061030185639378474\n",
            "For lagged 4 days Pearson r: -0.012813576389956335 and p-value: 0.01665832654471573\n",
            "For lagged 5 days Pearson r: -0.007855091000550355 and p-value: 0.14219838657818126\n",
            "For lagged 6 days Pearson r: -0.00603903791986076 and p-value: 0.25917928956730185\n",
            "For lagged 7 days Pearson r: -0.00572952462138871 and p-value: 0.2843931151479838\n",
            "For lagged 8 days Pearson r: -0.006293689797270528 and p-value: 0.2396296037745021\n",
            "For lagged 9 days Pearson r: -0.005343937178123572 and p-value: 0.3180570562221031\n",
            "For lagged 10 days Pearson r: -0.008234920583093441 and p-value: 0.1238962286558803\n",
            "For lagged 11 days Pearson r: -0.0062020082809728025 and p-value: 0.24654465213725588\n",
            "For lagged 12 days Pearson r: -0.0028742797357596394 and p-value: 0.5912494740960477\n",
            "For lagged 13 days Pearson r: -0.0036939618998883756 and p-value: 0.4900838798707666\n",
            "For lagged 14 days Pearson r: -0.0034681485768587534 and p-value: 0.5169949978348044\n"
          ],
          "name": "stdout"
        }
      ]
    },
    {
      "cell_type": "code",
      "metadata": {
        "colab": {
          "base_uri": "https://localhost:8080/",
          "height": 265
        },
        "id": "si_2P_rYem44",
        "outputId": "14150e99-0618-4070-a416-2eeb4b473c2e"
      },
      "source": [
        "plt.plot(r_series)\n",
        "plt.show()"
      ],
      "execution_count": null,
      "outputs": [
        {
          "output_type": "display_data",
          "data": {
            "image/png": "[encoded data removed]",
            "text/plain": [
              "<Figure size 432x288 with 1 Axes>"
            ]
          },
          "metadata": {
            "tags": [],
            "needs_background": "light"
          }
        }
      ]
    },
    {
      "cell_type": "code",
      "metadata": {
        "colab": {
          "base_uri": "https://localhost:8080/",
          "height": 265
        },
        "id": "-kG15MZDesHc",
        "outputId": "934f8a66-b8ce-43e4-cfc8-27eedec7d5bb"
      },
      "source": [
        "plt.plot(p_series)\n",
        "plt.show()"
      ],
      "execution_count": null,
      "outputs": [
        {
          "output_type": "display_data",
          "data": {
            "image/png": "[encoded data removed]",
            "text/plain": [
              "<Figure size 432x288 with 1 Axes>"
            ]
          },
          "metadata": {
            "tags": [],
            "needs_background": "light"
          }
        }
      ]
    },
    {
      "cell_type": "markdown",
      "metadata": {
        "id": "YLyQ7rVJev8y"
      },
      "source": [
        "## Transit Stations"
      ]
    },
    {
      "cell_type": "code",
      "metadata": {
        "id": "R_NUFazLeswr"
      },
      "source": [
        "# Get columns that will be used to merge and the mobility to grocery and pharmacy data\n",
        "mobility_transit = mobility_sao_paulo_ibge_data[['Código Município Completo', 'date', 'transit_stations_percent_change_from_baseline']]\n",
        "mobility_transit_index = mobility_transit.set_index(['Código Município Completo', 'date'])\n",
        "\n",
        "# Merge covid-19 data and retail data using shifting to compare with previous dates\n",
        "covid_transit_data = pd.merge(covid_sao_paulo_data, mobility_transit_index, how='inner', left_on=['datahora', 'codigo_ibge'], right_on=['date', 'Código Município Completo'])\n",
        "covid_transit_data = covid_transit_data.rename(columns={'transit_stations_percent_change_from_baseline': 'date_0'})\n",
        "for i in range(1,30):\n",
        "  mobility_transit_shift = mobility_transit_index.shift(-1 * i)\n",
        "  mobility_transit_shift = mobility_transit_shift.rename(columns={'transit_stations_percent_change_from_baseline': 'date_' + str(i)})\n",
        "  covid_transit_data = pd.merge(covid_transit_data, mobility_transit_shift, how='inner', left_on=['datahora', 'codigo_ibge'], right_on=['date', 'Código Município Completo'])"
      ],
      "execution_count": null,
      "outputs": []
    },
    {
      "cell_type": "code",
      "metadata": {
        "colab": {
          "base_uri": "https://localhost:8080/"
        },
        "id": "4ZH2woRgfE1g",
        "outputId": "7d34389b-772e-47bc-c81f-bcc7d5fce763"
      },
      "source": [
        "# Get r data and p data for different dates\n",
        "r_series = list()\n",
        "p_series = list()\n",
        "for i in range(15):\n",
        "  r, p = scistats.pearsonr(covid_transit_data.dropna()['date_' + str(i)], covid_transit_data.dropna()['obitos_novos'])\n",
        "  r_series.append(r)\n",
        "  p_series.append(p)\n",
        "  print(f\"For lagged {i} days Pearson r: {r} and p-value: {p}\")"
      ],
      "execution_count": null,
      "outputs": [
        {
          "output_type": "stream",
          "text": [
            "For lagged 0 days Pearson r: -0.02553225215647187 and p-value: 2.4841418889950413e-07\n",
            "For lagged 1 days Pearson r: -0.025728782204415213 and p-value: 2.0077802814646917e-07\n",
            "For lagged 2 days Pearson r: -0.02943220754655254 and p-value: 2.727457137503953e-09\n",
            "For lagged 3 days Pearson r: -0.03100155492620098 and p-value: 3.740909189398415e-10\n",
            "For lagged 4 days Pearson r: -0.02774128551722497 and p-value: 2.0777215214003136e-08\n",
            "For lagged 5 days Pearson r: -0.0269680757690232 and p-value: 5.062260103055148e-08\n",
            "For lagged 6 days Pearson r: -0.024658008994926567 and p-value: 6.286734684889468e-07\n",
            "For lagged 7 days Pearson r: -0.021972126257963756 and p-value: 9.022357969749408e-06\n",
            "For lagged 8 days Pearson r: -0.02436400980743172 and p-value: 8.532630538361305e-07\n",
            "For lagged 9 days Pearson r: -0.020852877883279795 and p-value: 2.5180233076471883e-05\n",
            "For lagged 10 days Pearson r: -0.023353906622490143 and p-value: 2.3744526239147453e-06\n",
            "For lagged 11 days Pearson r: -0.021952099945495258 and p-value: 9.193543221994053e-06\n",
            "For lagged 12 days Pearson r: -0.022653712833055166 and p-value: 4.714347720411059e-06\n",
            "For lagged 13 days Pearson r: -0.01973489543983481 and p-value: 6.684292042473778e-05\n",
            "For lagged 14 days Pearson r: -0.015271060265915444 and p-value: 0.0020337747009145733\n"
          ],
          "name": "stdout"
        }
      ]
    },
    {
      "cell_type": "code",
      "metadata": {
        "colab": {
          "base_uri": "https://localhost:8080/",
          "height": 265
        },
        "id": "i6lR5T9jfNPT",
        "outputId": "82a857f1-1b4a-4bd4-c9b9-70ec04160c09"
      },
      "source": [
        "plt.plot(r_series)\n",
        "plt.show()"
      ],
      "execution_count": null,
      "outputs": [
        {
          "output_type": "display_data",
          "data": {
            "image/png": "[encoded data removed]",
            "text/plain": [
              "<Figure size 432x288 with 1 Axes>"
            ]
          },
          "metadata": {
            "tags": [],
            "needs_background": "light"
          }
        }
      ]
    },
    {
      "cell_type": "code",
      "metadata": {
        "colab": {
          "base_uri": "https://localhost:8080/",
          "height": 265
        },
        "id": "4-xkinqcfTS-",
        "outputId": "c6e16f22-d7bd-4118-aad6-a504ea4a0c92"
      },
      "source": [
        "plt.plot(p_series)\n",
        "plt.show()"
      ],
      "execution_count": null,
      "outputs": [
        {
          "output_type": "display_data",
          "data": {
            "image/png": "[encoded data removed]",
            "text/plain": [
              "<Figure size 432x288 with 1 Axes>"
            ]
          },
          "metadata": {
            "tags": [],
            "needs_background": "light"
          }
        }
      ]
    },
    {
      "cell_type": "code",
      "metadata": {
        "colab": {
          "base_uri": "https://localhost:8080/"
        },
        "id": "cPU_E13SfUdL",
        "outputId": "284021dd-5ba3-4322-c21d-355563fb5acb"
      },
      "source": [
        "# Get r data and p data for different dates\n",
        "r_series = list()\n",
        "p_series = list()\n",
        "for i in range(15):\n",
        "  r, p = scistats.pearsonr(covid_transit_data.dropna()['date_' + str(i)], covid_transit_data.dropna()['casos_novos'])\n",
        "  r_series.append(r)\n",
        "  p_series.append(p)\n",
        "  print(f\"For lagged {i} days Pearson r: {r} and p-value: {p}\")"
      ],
      "execution_count": null,
      "outputs": [
        {
          "output_type": "stream",
          "text": [
            "For lagged 0 days Pearson r: -0.012305470748750581 and p-value: 0.012916687688151051\n",
            "For lagged 1 days Pearson r: -0.013815064092462172 and p-value: 0.005253463275125587\n",
            "For lagged 2 days Pearson r: -0.016574175160398164 and p-value: 0.0008123208498293557\n",
            "For lagged 3 days Pearson r: -0.016976316047915094 and p-value: 0.0006039814773251046\n",
            "For lagged 4 days Pearson r: -0.01399904598503421 and p-value: 0.0046804647277617385\n",
            "For lagged 5 days Pearson r: -0.013093352758007815 and p-value: 0.008163152294023585\n",
            "For lagged 6 days Pearson r: -0.011562179703862814 and p-value: 0.019497412047442497\n",
            "For lagged 7 days Pearson r: -0.009602693261832912 and p-value: 0.05238080929687006\n",
            "For lagged 8 days Pearson r: -0.014407714611916547 and p-value: 0.003604902332699626\n",
            "For lagged 9 days Pearson r: -0.012490642935516525 and p-value: 0.011620261560148998\n",
            "For lagged 10 days Pearson r: -0.012858541377217852 and p-value: 0.009382222982282152\n",
            "For lagged 11 days Pearson r: -0.009715260003601265 and p-value: 0.04967717972832474\n",
            "For lagged 12 days Pearson r: -0.010534584714112291 and p-value: 0.03331496962994122\n",
            "For lagged 13 days Pearson r: -0.010969697301440992 and p-value: 0.026679429381136696\n",
            "For lagged 14 days Pearson r: -0.006894365448908563 and p-value: 0.16367319468524016\n"
          ],
          "name": "stdout"
        }
      ]
    },
    {
      "cell_type": "code",
      "metadata": {
        "colab": {
          "base_uri": "https://localhost:8080/",
          "height": 265
        },
        "id": "vkN--xFTfaLK",
        "outputId": "3d932b0e-9e86-4413-e7f4-8d87157738e0"
      },
      "source": [
        "plt.plot(r_series)\n",
        "plt.show()"
      ],
      "execution_count": null,
      "outputs": [
        {
          "output_type": "display_data",
          "data": {
            "image/png": "[encoded data removed]",
            "text/plain": [
              "<Figure size 432x288 with 1 Axes>"
            ]
          },
          "metadata": {
            "tags": [],
            "needs_background": "light"
          }
        }
      ]
    },
    {
      "cell_type": "code",
      "metadata": {
        "colab": {
          "base_uri": "https://localhost:8080/",
          "height": 265
        },
        "id": "chZnhOnDfeve",
        "outputId": "2192d1ec-8fc1-49af-d703-75cbc1ebfe86"
      },
      "source": [
        "plt.plot(p_series)\n",
        "plt.show()"
      ],
      "execution_count": null,
      "outputs": [
        {
          "output_type": "display_data",
          "data": {
            "image/png": "[encoded data removed]",
            "text/plain": [
              "<Figure size 432x288 with 1 Axes>"
            ]
          },
          "metadata": {
            "tags": [],
            "needs_background": "light"
          }
        }
      ]
    },
    {
      "cell_type": "markdown",
      "metadata": {
        "id": "rjCTHz9gfncp"
      },
      "source": [
        "## Workplaces"
      ]
    },
    {
      "cell_type": "code",
      "metadata": {
        "id": "c43x07bZffPo"
      },
      "source": [
        "# Get columns that will be used to merge and the mobility to grocery and pharmacy data\n",
        "mobility_work = mobility_sao_paulo_ibge_data[['Código Município Completo', 'date', 'workplaces_percent_change_from_baseline']]\n",
        "mobility_work_index = mobility_work.set_index(['Código Município Completo', 'date'])\n",
        "\n",
        "# Merge covid-19 data and retail data using shifting to compare with previous dates\n",
        "covid_work_data = pd.merge(covid_sao_paulo_data, mobility_work_index, how='inner', left_on=['datahora', 'codigo_ibge'], right_on=['date', 'Código Município Completo'])\n",
        "covid_work_data = covid_work_data.rename(columns={'workplaces_percent_change_from_baseline': 'date_0'})\n",
        "for i in range(1,30):\n",
        "  mobility_work_shift = mobility_work_index.shift(-1 * i)\n",
        "  mobility_work_shift = mobility_work_shift.rename(columns={'workplaces_percent_change_from_baseline': 'date_' + str(i)})\n",
        "  covid_work_data = pd.merge(covid_work_data, mobility_work_shift, how='inner', left_on=['datahora', 'codigo_ibge'], right_on=['date', 'Código Município Completo'])"
      ],
      "execution_count": null,
      "outputs": []
    },
    {
      "cell_type": "code",
      "metadata": {
        "colab": {
          "base_uri": "https://localhost:8080/"
        },
        "id": "x8tOwHiYgZB1",
        "outputId": "97c44b0e-e597-416d-b5fb-5ce7431be6b9"
      },
      "source": [
        "# Get r data and p data for different dates\n",
        "r_series = list()\n",
        "p_series = list()\n",
        "for i in range(15):\n",
        "  r, p = scistats.pearsonr(covid_work_data.dropna()['date_' + str(i)], covid_work_data.dropna()['obitos_novos'])\n",
        "  r_series.append(r)\n",
        "  p_series.append(p)\n",
        "  print(f\"For lagged {i} days Pearson r: {r} and p-value: {p}\")"
      ],
      "execution_count": null,
      "outputs": [
        {
          "output_type": "stream",
          "text": [
            "For lagged 0 days Pearson r: -0.0734618304694046 and p-value: 1.0338741783714493e-139\n",
            "For lagged 1 days Pearson r: -0.06574444193290635 and p-value: 3.099767027615069e-112\n",
            "For lagged 2 days Pearson r: -0.0650010839002928 and p-value: 9.467237494380812e-110\n",
            "For lagged 3 days Pearson r: -0.06383038126473026 and p-value: 6.7936147686954045e-106\n",
            "For lagged 4 days Pearson r: -0.05336209888664714 and p-value: 1.5410697259081942e-74\n",
            "For lagged 5 days Pearson r: -0.060456144170074694 and p-value: 3.56561787874849e-95\n",
            "For lagged 6 days Pearson r: -0.0807753305561396 and p-value: 1.3850715956316056e-168\n",
            "For lagged 7 days Pearson r: -0.07410389660049846 and p-value: 3.892575158287345e-142\n",
            "For lagged 8 days Pearson r: -0.06353218545822603 and p-value: 6.353417121698383e-105\n",
            "For lagged 9 days Pearson r: -0.05558830679449395 and p-value: 9.757121207136428e-81\n",
            "For lagged 10 days Pearson r: -0.05499842048618565 and p-value: 4.533534874237143e-79\n",
            "For lagged 11 days Pearson r: -0.04710926643974595 and p-value: 1.7535373134067224e-58\n",
            "For lagged 12 days Pearson r: -0.055849144818186286 and p-value: 1.7639077203465816e-81\n",
            "For lagged 13 days Pearson r: -0.07416271772762675 and p-value: 2.3285447471212355e-142\n",
            "For lagged 14 days Pearson r: -0.06434879864038061 and p-value: 1.3592536366224126e-107\n"
          ],
          "name": "stdout"
        }
      ]
    },
    {
      "cell_type": "code",
      "metadata": {
        "colab": {
          "base_uri": "https://localhost:8080/",
          "height": 265
        },
        "id": "BjA8Hff0gcHL",
        "outputId": "89ab5724-fc6a-4b29-f26b-cc977671f78a"
      },
      "source": [
        "plt.plot(r_series)\n",
        "plt.show()"
      ],
      "execution_count": null,
      "outputs": [
        {
          "output_type": "display_data",
          "data": {
            "image/png": "[encoded data removed]",
            "text/plain": [
              "<Figure size 432x288 with 1 Axes>"
            ]
          },
          "metadata": {
            "tags": [],
            "needs_background": "light"
          }
        }
      ]
    },
    {
      "cell_type": "code",
      "metadata": {
        "colab": {
          "base_uri": "https://localhost:8080/",
          "height": 276
        },
        "id": "NDpCAtZhgfty",
        "outputId": "ef94c4f5-1078-4904-ad59-57715ea5240c"
      },
      "source": [
        "plt.plot(p_series)\n",
        "plt.show()"
      ],
      "execution_count": null,
      "outputs": [
        {
          "output_type": "display_data",
          "data": {
            "image/png": "[encoded data removed]",
            "text/plain": [
              "<Figure size 432x288 with 1 Axes>"
            ]
          },
          "metadata": {
            "tags": [],
            "needs_background": "light"
          }
        }
      ]
    },
    {
      "cell_type": "code",
      "metadata": {
        "colab": {
          "base_uri": "https://localhost:8080/"
        },
        "id": "LF9R6ikWgghq",
        "outputId": "0198db79-c0ff-4078-a99c-488563a8169b"
      },
      "source": [
        "# Get r data and p data for different dates\n",
        "r_series = list()\n",
        "p_series = list()\n",
        "for i in range(15):\n",
        "  r, p = scistats.pearsonr(covid_work_data.dropna()['date_' + str(i)], covid_work_data.dropna()['casos_novos'])\n",
        "  r_series.append(r)\n",
        "  p_series.append(p)\n",
        "  print(f\"For lagged {i} days Pearson r: {r} and p-value: {p}\")"
      ],
      "execution_count": null,
      "outputs": [
        {
          "output_type": "stream",
          "text": [
            "For lagged 0 days Pearson r: -0.06497790833528556 and p-value: 1.1304157154627313e-109\n",
            "For lagged 1 days Pearson r: -0.05903751082208235 and p-value: 7.671071569526947e-91\n",
            "For lagged 2 days Pearson r: -0.05640221468550444 and p-value: 4.5694372468839775e-83\n",
            "For lagged 3 days Pearson r: -0.05565298731779411 and p-value: 6.389122898630145e-81\n",
            "For lagged 4 days Pearson r: -0.04895269783047719 and p-value: 5.220362208346392e-63\n",
            "For lagged 5 days Pearson r: -0.057992774714602055 and p-value: 1.0226265678289277e-87\n",
            "For lagged 6 days Pearson r: -0.07105605168511384 and p-value: 8.107756287594254e-131\n",
            "For lagged 7 days Pearson r: -0.06433487637976688 and p-value: 1.5104370453978614e-107\n",
            "For lagged 8 days Pearson r: -0.0573979572975027 and p-value: 5.806014989413171e-86\n",
            "For lagged 9 days Pearson r: -0.052851510797001615 and p-value: 3.7476244305159954e-73\n",
            "For lagged 10 days Pearson r: -0.05157789147745097 and p-value: 9.393116057309521e-70\n",
            "For lagged 11 days Pearson r: -0.04562490568821889 and p-value: 5.789207530044161e-55\n",
            "For lagged 12 days Pearson r: -0.05645585950316322 and p-value: 3.1999051354930487e-83\n",
            "For lagged 13 days Pearson r: -0.07136203067409616 and p-value: 6.22609152572957e-132\n",
            "For lagged 14 days Pearson r: -0.059847640465124016 and p-value: 2.6498906783621378e-93\n"
          ],
          "name": "stdout"
        }
      ]
    },
    {
      "cell_type": "code",
      "metadata": {
        "colab": {
          "base_uri": "https://localhost:8080/",
          "height": 265
        },
        "id": "XEIGuUKEglkC",
        "outputId": "ca9c6b89-d7dc-45c6-c72e-977b60783a50"
      },
      "source": [
        "plt.plot(r_series)\n",
        "plt.show()"
      ],
      "execution_count": null,
      "outputs": [
        {
          "output_type": "display_data",
          "data": {
            "image/png": "[encoded data removed]",
            "text/plain": [
              "<Figure size 432x288 with 1 Axes>"
            ]
          },
          "metadata": {
            "tags": [],
            "needs_background": "light"
          }
        }
      ]
    },
    {
      "cell_type": "code",
      "metadata": {
        "colab": {
          "base_uri": "https://localhost:8080/",
          "height": 276
        },
        "id": "hRfW0AH_goUH",
        "outputId": "c2ff8745-8251-40d0-f101-74ff43c3587f"
      },
      "source": [
        "plt.plot(p_series)\n",
        "plt.show()"
      ],
      "execution_count": null,
      "outputs": [
        {
          "output_type": "display_data",
          "data": {
            "image/png": "[encoded data removed]",
            "text/plain": [
              "<Figure size 432x288 with 1 Axes>"
            ]
          },
          "metadata": {
            "tags": [],
            "needs_background": "light"
          }
        }
      ]
    },
    {
      "cell_type": "markdown",
      "metadata": {
        "id": "EohHpngKg1yC"
      },
      "source": [
        "## Residência"
      ]
    },
    {
      "cell_type": "code",
      "metadata": {
        "id": "3TKQ_yJAgo_j"
      },
      "source": [
        "# Get columns that will be used to merge and the mobility data\n",
        "mobility_residential = mobility_sao_paulo_ibge_data[['Código Município Completo', 'date', 'residential_percent_change_from_baseline']]\n",
        "mobility_residential_index = mobility_residential.set_index(['Código Município Completo', 'date'])\n",
        "\n",
        "# Merge covid-19 data and retail data using shifting to compare with previous dates\n",
        "covid_residential_data = pd.merge(covid_sao_paulo_data, mobility_residential_index, how='inner', left_on=['datahora', 'codigo_ibge'], right_on=['date', 'Código Município Completo'])\n",
        "covid_residential_data = covid_residential_data.rename(columns={'residential_percent_change_from_baseline': 'date_0'})\n",
        "for i in range(1,30):\n",
        "  mobility_residential_shift = mobility_residential_index.shift(-1 * i)\n",
        "  mobility_residential_shift = mobility_residential_shift.rename(columns={'residential_percent_change_from_baseline': 'date_' + str(i)})\n",
        "  covid_residential_data = pd.merge(covid_residential_data, mobility_residential_shift, how='inner', left_on=['datahora', 'codigo_ibge'], right_on=['date', 'Código Município Completo'])"
      ],
      "execution_count": null,
      "outputs": []
    },
    {
      "cell_type": "code",
      "metadata": {
        "colab": {
          "base_uri": "https://localhost:8080/"
        },
        "id": "5o9JOTdshPuR",
        "outputId": "2b9b1aed-3acd-4d27-d787-0e7987b34be7"
      },
      "source": [
        "# Get r data and p data for different dates\n",
        "r_series = list()\n",
        "p_series = list()\n",
        "for i in range(15):\n",
        "  r, p = scistats.pearsonr(covid_residential_data.dropna()['date_' + str(i)], covid_residential_data.dropna()['obitos_novos'])\n",
        "  r_series.append(r)\n",
        "  p_series.append(p)\n",
        "  print(f\"For lagged {i} days Pearson r: {r} and p-value: {p}\")"
      ],
      "execution_count": null,
      "outputs": [
        {
          "output_type": "stream",
          "text": [
            "For lagged 0 days Pearson r: 0.09931007111713062 and p-value: 3.047780298128846e-100\n",
            "For lagged 1 days Pearson r: 0.08487174984112805 and p-value: 1.248663234456689e-73\n",
            "For lagged 2 days Pearson r: 0.08845763557184427 and p-value: 7.600047981740433e-80\n",
            "For lagged 3 days Pearson r: 0.08780736243617088 and p-value: 1.0647481779016353e-78\n",
            "For lagged 4 days Pearson r: 0.07255706714134502 and p-value: 2.958090783105128e-54\n",
            "For lagged 5 days Pearson r: 0.08027038115655905 and p-value: 4.925726806529334e-66\n",
            "For lagged 6 days Pearson r: 0.10564230268410389 and p-value: 2.99782932308576e-113\n",
            "For lagged 7 days Pearson r: 0.09833142072991169 and p-value: 2.6386584660919168e-98\n",
            "For lagged 8 days Pearson r: 0.08659543244951914 and p-value: 1.383833613842795e-76\n",
            "For lagged 9 days Pearson r: 0.07750081695450398 and p-value: 1.1458806540018516e-61\n",
            "For lagged 10 days Pearson r: 0.07724455640348568 and p-value: 2.8535540671224633e-61\n",
            "For lagged 11 days Pearson r: 0.06578695570954783 and p-value: 6.716403403997729e-45\n",
            "For lagged 12 days Pearson r: 0.07482985385445656 and p-value: 1.331766317808101e-57\n",
            "For lagged 13 days Pearson r: 0.09829192737849056 and p-value: 3.1561519417794486e-98\n",
            "For lagged 14 days Pearson r: 0.08726733175666251 and p-value: 9.393494519776337e-78\n"
          ],
          "name": "stdout"
        }
      ]
    },
    {
      "cell_type": "code",
      "metadata": {
        "colab": {
          "base_uri": "https://localhost:8080/",
          "height": 265
        },
        "id": "q2g6Ma52hUOB",
        "outputId": "f8dc5063-fd74-42a1-aade-3506259b70d0"
      },
      "source": [
        "plt.plot(r_series)\n",
        "plt.show()"
      ],
      "execution_count": null,
      "outputs": [
        {
          "output_type": "display_data",
          "data": {
            "image/png": "[encoded data removed]",
            "text/plain": [
              "<Figure size 432x288 with 1 Axes>"
            ]
          },
          "metadata": {
            "tags": [],
            "needs_background": "light"
          }
        }
      ]
    },
    {
      "cell_type": "code",
      "metadata": {
        "colab": {
          "base_uri": "https://localhost:8080/",
          "height": 276
        },
        "id": "jr6vKbFWhpyo",
        "outputId": "ed0ae814-7abe-4350-e495-0349abacceb7"
      },
      "source": [
        "plt.plot(p_series)\n",
        "plt.show()"
      ],
      "execution_count": null,
      "outputs": [
        {
          "output_type": "display_data",
          "data": {
            "image/png": "[encoded data removed]",
            "text/plain": [
              "<Figure size 432x288 with 1 Axes>"
            ]
          },
          "metadata": {
            "tags": [],
            "needs_background": "light"
          }
        }
      ]
    },
    {
      "cell_type": "code",
      "metadata": {
        "colab": {
          "base_uri": "https://localhost:8080/"
        },
        "id": "P1t7ke0fhq9U",
        "outputId": "8e2b2a39-8afe-4363-d663-99c008f57bb7"
      },
      "source": [
        "# Get r data and p data for different dates\n",
        "r_series = list()\n",
        "p_series = list()\n",
        "for i in range(15):\n",
        "  r, p = scistats.pearsonr(covid_residential_data.dropna()['date_' + str(i)], covid_residential_data.dropna()['casos_novos'])\n",
        "  r_series.append(r)\n",
        "  p_series.append(p)\n",
        "  print(f\"For lagged {i} days Pearson r: {r} and p-value: {p}\")"
      ],
      "execution_count": null,
      "outputs": [
        {
          "output_type": "stream",
          "text": [
            "For lagged 0 days Pearson r: 0.06971012631089045 and p-value: 3.289018561186477e-50\n",
            "For lagged 1 days Pearson r: 0.05813080479103014 and p-value: 2.0226527031777263e-35\n",
            "For lagged 2 days Pearson r: 0.06081289766484159 and p-value: 1.3125896276345321e-38\n",
            "For lagged 3 days Pearson r: 0.0601002320789399 and p-value: 9.530647810805837e-38\n",
            "For lagged 4 days Pearson r: 0.051248529694300826 and p-value: 6.797226635577541e-28\n",
            "For lagged 5 days Pearson r: 0.06346029194278713 and p-value: 6.779303056288434e-42\n",
            "For lagged 6 days Pearson r: 0.0781658254708706 and p-value: 1.0585408473273426e-62\n",
            "For lagged 7 days Pearson r: 0.0699613610546696 and p-value: 1.4673615575177482e-50\n",
            "For lagged 8 days Pearson r: 0.06301214706354528 and p-value: 2.49693418871259e-41\n",
            "For lagged 9 days Pearson r: 0.05885578432635996 and p-value: 2.873132874119967e-36\n",
            "For lagged 10 days Pearson r: 0.05586850465807224 and p-value: 7.649341411198699e-33\n",
            "For lagged 11 days Pearson r: 0.047650284979507684 and p-value: 2.4769041169688263e-24\n",
            "For lagged 12 days Pearson r: 0.06019483310588403 and p-value: 7.335228315532797e-38\n",
            "For lagged 13 days Pearson r: 0.07722665011033697 and p-value: 3.04105789417226e-61\n",
            "For lagged 14 days Pearson r: 0.06481123450689197 and p-value: 1.2591373901893249e-43\n"
          ],
          "name": "stdout"
        }
      ]
    },
    {
      "cell_type": "code",
      "metadata": {
        "colab": {
          "base_uri": "https://localhost:8080/",
          "height": 265
        },
        "id": "fgy1eKufh4rI",
        "outputId": "f2adb2e6-cf6e-4b28-e8ff-07e2a66418d0"
      },
      "source": [
        "plt.plot(r_series)\n",
        "plt.show()"
      ],
      "execution_count": null,
      "outputs": [
        {
          "output_type": "display_data",
          "data": {
            "image/png": "[encoded data removed]",
            "text/plain": [
              "<Figure size 432x288 with 1 Axes>"
            ]
          },
          "metadata": {
            "tags": [],
            "needs_background": "light"
          }
        }
      ]
    },
    {
      "cell_type": "code",
      "metadata": {
        "colab": {
          "base_uri": "https://localhost:8080/",
          "height": 276
        },
        "id": "ETr45bhKh8G_",
        "outputId": "6764b3c7-3c7a-4479-d4ee-bab114159bc7"
      },
      "source": [
        "plt.plot(p_series)\n",
        "plt.show()"
      ],
      "execution_count": null,
      "outputs": [
        {
          "output_type": "display_data",
          "data": {
            "image/png": "[encoded data removed]",
            "text/plain": [
              "<Figure size 432x288 with 1 Axes>"
            ]
          },
          "metadata": {
            "tags": [],
            "needs_background": "light"
          }
        }
      ]
    },
    {
      "cell_type": "code",
      "metadata": {
        "colab": {
          "base_uri": "https://localhost:8080/",
          "height": 265
        },
        "id": "OcdpuKXXh84O",
        "outputId": "c05329c6-f6d6-4649-bf93-d2ea16a0df6b"
      },
      "source": [
        "covid_residential_data = covid_residential_data.dropna()\n",
        "\n",
        "plt.plot(covid_residential_data['date_0'], covid_residential_data['obitos_novos'], 'o')\n",
        "plt.show()"
      ],
      "execution_count": null,
      "outputs": [
        {
          "output_type": "display_data",
          "data": {
            "image/png": "[encoded data removed]",
            "text/plain": [
              "<Figure size 432x288 with 1 Axes>"
            ]
          },
          "metadata": {
            "tags": [],
            "needs_background": "light"
          }
        }
      ]
    },
    {
      "cell_type": "code",
      "metadata": {
        "id": "twg8Mk0Nk-Z4"
      },
      "source": [
        ""
      ],
      "execution_count": null,
      "outputs": []
    }
  ]
}